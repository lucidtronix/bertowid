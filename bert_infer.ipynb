{
 "cells": [
  {
   "cell_type": "code",
   "execution_count": null,
   "id": "af2c412a",
   "metadata": {},
   "outputs": [],
   "source": [
    "!pip install tensorflow-text==2.5\n",
    "!pip install tf-models-official==2.5"
   ]
  },
  {
   "cell_type": "code",
   "execution_count": null,
   "id": "9d5e23da",
   "metadata": {},
   "outputs": [],
   "source": [
    "import os\n",
    "import shutil\n",
    "from collections import Counter, defaultdict\n",
    "\n",
    "import tensorflow as tf\n",
    "import tensorflow_hub as hub\n",
    "import tensorflow_text as text\n",
    "from official.nlp import optimization\n",
    "\n",
    "import matplotlib.pyplot as plt\n",
    "\n",
    "\n",
    "tf.get_logger().setLevel('ERROR')"
   ]
  },
  {
   "cell_type": "code",
   "execution_count": null,
   "id": "8f0bd9ab",
   "metadata": {},
   "outputs": [],
   "source": [
    "epochs = 5\n",
    "num_train_steps = 100 * epochs\n",
    "num_warmup_steps = int(0.1*num_train_steps)\n",
    "\n",
    "init_lr = 3e-5\n",
    "optimizer = optimization.create_optimizer(init_lr=init_lr,\n",
    "                                          num_train_steps=num_train_steps,\n",
    "                                          num_warmup_steps=num_warmup_steps,\n",
    "                                          optimizer_type='adamw')\n",
    "classifier_model = tf.keras.models.load_model('bert_imdb_sentiment', custom_objects={'AdamWeightDecay':optimizer})"
   ]
  },
  {
   "cell_type": "code",
   "execution_count": null,
   "id": "1babf0c0",
   "metadata": {},
   "outputs": [],
   "source": [
    "classifier_model.summary()"
   ]
  },
  {
   "cell_type": "code",
   "execution_count": null,
   "id": "049cfa56",
   "metadata": {},
   "outputs": [],
   "source": [
    "words = ['depressingly bad.',\n",
    "         'The movie was terrible',\n",
    "         'The overall effect is very pleasant', \n",
    "         'the desire is strong to repeat the experience on both smaller doses' ,\n",
    " '(to perhaps permit one to be alone in safety) and on larger doses. ',\n",
    "         'Also to repeat the experience under a variety of external stimuli',\n",
    "         'with music available for contemplation - at the beach - at night.',\n",
    "         'There is complete recall of all experiences and thoughts, after the drug has been dissipated.',\n",
    "         'The feeling of comfort, introspection, and tranquility'\n",
    "         'One feels that this feeling may be prolonged and further enjoyed upon',\n",
    "         'repeated usages. Such a change would be most desirable in many personalities - and may bespeak a',\n",
    "         \n",
    "        ]"
   ]
  },
  {
   "cell_type": "code",
   "execution_count": null,
   "id": "626c6f96",
   "metadata": {},
   "outputs": [],
   "source": [
    "examples = [\n",
    "    'this is such an amazing movie!',  # this is the same sentence tried earlier\n",
    "    'The movie was great!',\n",
    "    'The movie was meh.',\n",
    "    'The movie was okish.',\n",
    "    'The movie was terrible...'\n",
    "]\n",
    "\n",
    "\n",
    "original_results = tf.sigmoid(classifier_model(tf.constant(examples)))\n",
    "\n",
    "print('Results from the saved model:')\n",
    "def print_my_examples(inputs, results):\n",
    "  result_for_printing = \\\n",
    "    [f'input: {inputs[i]:<20} : score: {results[i][0]:.6f}'\n",
    "                         for i in range(len(inputs))]\n",
    "  print(*result_for_printing, sep='\\n')\n",
    "  print()\n",
    "print_my_examples(examples, original_results)"
   ]
  },
  {
   "cell_type": "code",
   "execution_count": null,
   "id": "be64fd3f",
   "metadata": {},
   "outputs": [],
   "source": [
    "#drugs= './split_drugs/train/'\n",
    "drugs= './all_drugs/train/'\n",
    "step_size = 256\n",
    "scores = defaultdict(dict)\n",
    "stats = Counter()\n",
    "def read_file(in_file, path, cur_testimonial, cur_sentence, cur_words, test_split):\n",
    "    subd = 'train/' if np.random.random() > test_split else 'test/'\n",
    "    with open(f'{path}/{subd}/{in_file.replace(\".txt\", \"\").lower()}/{cur_testimonial:05d}_{cur_sentence:03d}.txt', 'w') as out_file:\n",
    "        out_file.write(' '.join(cur_words).strip())\n",
    "\n",
    "for drug in os.listdir(drugs):\n",
    "    for testimonial in sorted(os.listdir(drugs + drug)):\n",
    "        if not testimonial.endswith('.txt'):\n",
    "            continue\n",
    "           \n",
    "        with open(os.path.join(drugs, drug, testimonial)) as text:\n",
    "            words = text.read()\n",
    "            for index in range(0, len(words)-step_size, step_size//2):\n",
    "                if testimonial not in scores[drug]:\n",
    "                    scores[drug][testimonial] = [] \n",
    "                cur_word = words[index:index+step_size]\n",
    "                results = tf.sigmoid(classifier_model(tf.constant([cur_word])))\n",
    "                scores[drug][testimonial].append(results[0][0].numpy())\n",
    "                #print(f'cur_word: {cur_word:<20} \\n Score: {results[0][0]:.6f}\\n\\n')\n",
    "        if stats[drug] % 5 == 0:\n",
    "            print(f'Got:{drug}, n={stats[drug]}')\n",
    "        stats[drug] += 1\n",
    "\n",
    "#         if stats[drug] > 400:\n",
    "#             break\n",
    "#     if len(stats) > 4:\n",
    "#         break\n"
   ]
  },
  {
   "cell_type": "code",
   "execution_count": null,
   "id": "dd06612d",
   "metadata": {},
   "outputs": [],
   "source": [
    "for d in scores:\n",
    "    print(f'{d}: len: {[len(scores[d][x]) for x in scores[d]]} ')"
   ]
  },
  {
   "cell_type": "code",
   "execution_count": null,
   "id": "ba78a195",
   "metadata": {},
   "outputs": [],
   "source": [
    "import numpy as np\n",
    "import scipy.interpolate as interp\n",
    "standardized = defaultdict(dict)\n",
    "means = defaultdict()\n",
    "stds = defaultdict()\n",
    "new_size = 100\n",
    "for drug in scores:\n",
    "    for t in scores[drug]:\n",
    "        try:\n",
    "            interpolator = interp.interp1d(np.arange(len(scores[drug][t])), scores[drug][t])\n",
    "            standardized[drug][t] = interpolator(np.linspace(0, len(scores[drug][t])-1, new_size))\n",
    "            if drug not in means:\n",
    "                means[drug] = standardized[drug][t]\n",
    "                stds[drug] = standardized[drug][t]*standardized[drug][t]\n",
    "            else:\n",
    "                means[drug] += standardized[drug][t]\n",
    "                stds[drug] += standardized[drug][t]*standardized[drug][t]\n",
    "        except ValueError:\n",
    "            print(f'vall err {drug} {t}')\n",
    "    means[drug] /= len(scores[drug])\n",
    "    stds[drug] /= len(scores[drug])\n",
    "    stds[drug] -= means[drug]*means[drug]\n",
    "    stds[drug] = np.sqrt(stds[drug])"
   ]
  },
  {
   "cell_type": "code",
   "execution_count": null,
   "id": "9eef63c8",
   "metadata": {},
   "outputs": [],
   "source": [
    "import numpy as np\n",
    "from collections import OrderedDict\n",
    "from matplotlib.lines import Line2D\n",
    "keep_drugs = ['psilocin', 'lsd', 'mdma', 'cocaine', 'thc', 'haloperidol', 'sertraline',\n",
    "              'salvia', 'risperidone', 'bupropion']\n",
    "keep_drugs = list(scores.keys())\n",
    "def plot_sentiment(scores, means, stds):\n",
    "    fig, ax = plt.subplots(figsize=(16, 12.5), dpi=300)\n",
    "    names = list(scores.keys())\n",
    "    cmap = plt.get_cmap('viridis')\n",
    "    colors = cmap(np.linspace(0, 1, len(names)))\n",
    "    markers = \"v.,o1^2>348<spdxh*PH+XD|\"\n",
    "    o_drugs = sorted(list(scores.keys()))\n",
    "    for i, (drug, color) in enumerate(zip(o_drugs, colors)):\n",
    "        if drug not in keep_drugs:\n",
    "            continue\n",
    "        for testimonial in scores[drug]:\n",
    "            sentiments = scores[drug][testimonial]\n",
    "            #ax.plot(range(len(sentiments[:200])), sentiments[:200], c=color, label=drug, alpha=0.1)\n",
    "        ax.plot(range(len(means[drug])), means[drug], c=color, marker=markers[i%len(markers)], label=drug,\n",
    "               fillstyle='none' if i%2==0 else 'full')\n",
    "        ax.fill_between(range(len(means[drug])), means[drug] - stds[drug], means[drug] + stds[drug], \n",
    "                        color=color, alpha=0.05)\n",
    "    ax.set_title('Sentiment Trajectory of Trip')\n",
    "    ax.set_xlabel('Time in Narrative')\n",
    "    ax.set_ylabel('Sentiment')\n",
    "    handles, labels = fig.gca().get_legend_handles_labels()\n",
    "    by_label = OrderedDict(zip(labels, handles))\n",
    "    ax.legend(by_label.values(), by_label.keys())\n",
    "\n",
    "plot_sentiment(standardized, means, stds)\n",
    "      "
   ]
  },
  {
   "cell_type": "code",
   "execution_count": null,
   "id": "b00338a8",
   "metadata": {},
   "outputs": [],
   "source": [
    "import numpy as np\n",
    "from collections import OrderedDict\n",
    "from matplotlib.lines import Line2D\n",
    "keep_drugs = ['psilocin', 'lsd', 'mdma', 'cocaine', 'thc', 'haloperidol', 'sertraline',\n",
    "              'salvia', 'risperidone', 'bupropion']\n",
    "keep_drugs = list(scores.keys())\n",
    "def plot_sentiment(scores, means, stds):\n",
    "    fig, ax = plt.subplots(figsize=(16, 12.5), dpi=300)\n",
    "    names = list(scores.keys())\n",
    "    cmap = plt.get_cmap('viridis')\n",
    "    colors = cmap(np.linspace(0, 1, len(names)))\n",
    "    markers = \"v.,o1^2>348<spdxh*PH+XD|\"\n",
    "    o_drugs = sorted(list(scores.keys()))\n",
    "    for i, (drug, color) in enumerate(zip(o_drugs, colors)):\n",
    "        if drug not in keep_drugs:\n",
    "            continue\n",
    "        for testimonial in scores[drug]:\n",
    "            sentiments = scores[drug][testimonial]\n",
    "            #ax.plot(range(len(sentiments[:200])), sentiments[:200], c=color, label=drug, alpha=0.1)\n",
    "        ax.plot(range(len(means[drug])), means[drug], c=color, marker=markers[i%len(markers)], label=drug,\n",
    "               fillstyle='none' if i%2==0 else 'full')\n",
    "        ax.fill_between(range(len(means[drug])), means[drug] - stds[drug], means[drug] + stds[drug], \n",
    "                        color=color, alpha=0.05)\n",
    "    ax.set_title('Sentiment Trajectory of Trip')\n",
    "    ax.set_xlabel('Time in Narrative')\n",
    "    ax.set_ylabel('Sentiment')\n",
    "    handles, labels = fig.gca().get_legend_handles_labels()\n",
    "    by_label = OrderedDict(zip(labels, handles))\n",
    "    ax.legend(by_label.values(), by_label.keys())\n",
    "\n",
    "plot_sentiment(standardized, means, stds)\n"
   ]
  },
  {
   "cell_type": "code",
   "execution_count": null,
   "id": "a1768c8c",
   "metadata": {},
   "outputs": [],
   "source": [
    "import pickle\n",
    "# open file for writing\n",
    "# create a binary pickle file \n",
    "f = open(\"sentiment_scores.pkl\",\"wb\")\n",
    "\n",
    "# write the python object (dict) to pickle file\n",
    "pickle.dump(scores,f)\n",
    "\n",
    "# close file\n",
    "f.close()\n",
    "# f = open(\"sentiment_scores.txt\",\"w\")\n",
    "\n",
    "# # write file\n",
    "# f.write( str(scores) )\n",
    "\n",
    "# # close file\n",
    "# f.close()\n"
   ]
  },
  {
   "cell_type": "code",
   "execution_count": null,
   "id": "02b0daf2",
   "metadata": {},
   "outputs": [],
   "source": [
    "import re \n",
    "word_array = re.split(r\"\\.\\s*\", words)\n",
    "word_array = [w for w in word_array if len(w) > 2]"
   ]
  },
  {
   "cell_type": "code",
   "execution_count": null,
   "id": "745bfe10",
   "metadata": {},
   "outputs": [],
   "source": [
    "len(word_array)"
   ]
  },
  {
   "cell_type": "code",
   "execution_count": null,
   "id": "89cc4549",
   "metadata": {},
   "outputs": [],
   "source": [
    "word_array[:4]"
   ]
  },
  {
   "cell_type": "code",
   "execution_count": null,
   "id": "5b729f76",
   "metadata": {},
   "outputs": [],
   "source": [
    "def print_my_examples(inputs, results, limit=70):\n",
    "  result_for_printing = \\\n",
    "    [f'input: {inputs[i][:limit]} : score: {results[i][0]:.3f}'\n",
    "                         for i in range(len(inputs))]\n",
    "  print(*result_for_printing, sep='\\n')\n",
    "  print()"
   ]
  },
  {
   "cell_type": "code",
   "execution_count": null,
   "id": "b7429e53",
   "metadata": {},
   "outputs": [],
   "source": [
    "step_size = 4\n",
    "for i in range(step_size, len(word_array), step_size):\n",
    "    mescaline = tf.sigmoid(classifier_model(tf.constant(word_array[i-4:i])))\n",
    "    print_my_examples(word_array[i-step_size:i], mescaline)"
   ]
  },
  {
   "cell_type": "code",
   "execution_count": null,
   "id": "0373e031",
   "metadata": {},
   "outputs": [],
   "source": []
  }
 ],
 "metadata": {
  "kernelspec": {
   "display_name": "Python 3",
   "language": "python",
   "name": "python3"
  },
  "language_info": {
   "codemirror_mode": {
    "name": "ipython",
    "version": 3
   },
   "file_extension": ".py",
   "mimetype": "text/x-python",
   "name": "python",
   "nbconvert_exporter": "python",
   "pygments_lexer": "ipython3",
   "version": "3.6.9"
  }
 },
 "nbformat": 4,
 "nbformat_minor": 5
}
