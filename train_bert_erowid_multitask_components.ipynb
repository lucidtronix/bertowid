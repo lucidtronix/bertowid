{
 "cells": [
  {
   "cell_type": "code",
   "execution_count": null,
   "id": "b60b0f51",
   "metadata": {},
   "outputs": [],
   "source": [
    "!pip install tensorflow-text==2.5\n",
    "!pip install tf-models-official==2.5"
   ]
  },
  {
   "cell_type": "code",
   "execution_count": null,
   "id": "f3d39763",
   "metadata": {},
   "outputs": [],
   "source": [
    "import os\n",
    "import shutil\n",
    "\n",
    "import pandas as pd\n",
    "import numpy as np\n",
    "\n",
    "import tensorflow as tf\n",
    "import tensorflow_hub as hub\n",
    "import tensorflow_text as text\n",
    "from official.nlp import optimization\n",
    "from tensorflow.keras.callbacks import ModelCheckpoint, EarlyStopping, Callback\n",
    "\n",
    "import matplotlib.pyplot as plt\n",
    "from ml4h.TensorMap import TensorMap, Interpretation\n",
    "from ml4h.normalizer import ZeroMeanStd1\n",
    "\n",
    "drug_folder = 'split_drugs'\n",
    "drug_folder = 'split_small_test_all'\n",
    "\n",
    "preprocess_model = \"https://tfhub.dev/tensorflow/bert_en_uncased_preprocess/3\"\n",
    "\n",
    "#base_model = \"https://tfhub.dev/tensorflow/bert_en_uncased_L-12_H-768_A-12/3\"\n",
    "base_model = \"https://tfhub.dev/google/experts/bert/wiki_books/sst2/2\"\n",
    "\n",
    "tf.get_logger().setLevel('ERROR')"
   ]
  },
  {
   "cell_type": "code",
   "execution_count": null,
   "id": "0e97766e",
   "metadata": {},
   "outputs": [],
   "source": [
    "df = pd.read_csv(f'./all_drugs_v2022_04_26_meta_data.csv')\n",
    "# df = df[df.age != 'Not Given']\n",
    "df = df[df.sex_int.notna()]\n",
    "df = df[df.text.notna()]\n",
    "\n",
    "\n",
    "drug2class = {d:i for i,d in enumerate(df.drug.unique())}\n",
    "psychoactive2class = {d:i for i,d in enumerate(df.psychoactive_class.unique())}\n",
    "class2weight = {i:5*(len(df)/len(df[df.drug==d])) for i,d in enumerate(df.drug.unique())}\n",
    "print(psychoactive2class)\n",
    "df['drug_class'] = [drug2class[d] for d in df.drug]\n",
    "df['psychoactive_class_int'] = [psychoactive2class[d] for d in df.psychoactive_class]\n",
    "df[[f'tag_{i}' for i in range(52) ]] = df[[f'tag_{i}' for i in range(52) ]].fillna(0)\n",
    "\n",
    "\n",
    "# train = df.sample(frac = 0.8)\n",
    "# test = df.drop(train.index).sample(frac = 0.5)\n",
    "# validate = df.drop(train.index).drop(test.index)\n",
    "\n",
    "\n",
    "\n",
    "\n",
    "tags = {'Small_Group': 'tag_0', 'General': 'tag_1', 'First_Times': 'tag_2', 'Alone': 'tag_3', 'Difficult_Experiences': 'tag_4', 'Glowing_Experiences': 'tag_5', 'Retrospective_Summary': 'tag_6', 'Various': 'tag_7', 'Unknown_Context': 'tag_8', 'Mystical_Experiences': 'tag_9', 'Health_Problems': 'tag_10', 'Combinations': 'tag_11', 'Not_Applicable': 'tag_12', 'Bad_Trips': 'tag_13', 'Hangover_Days_After': 'tag_14', 'Entities_Beings': 'tag_15', 'Music_Discussion': 'tag_16', 'Addiction_Habituation': 'tag_17', 'Post_Trip_Problems': 'tag_18', 'Nature_Outdoors': 'tag_19', 'Relationships': 'tag_20', 'Depression': 'tag_21', 'Therapeutic_Intent_or_Outcome': 'tag_22', 'Overdose': 'tag_23', 'Medical_Use': 'tag_24', 'Sex_Discussion': 'tag_25', 'Train_Wrecks_Trip_Disasters': 'tag_26', 'Guides_Sitters': 'tag_27', 'Rave_Dance_Event': 'tag_28', 'Preparation_Recipes': 'tag_29', 'Festival_Lg_Crowd': 'tag_30', 'Health_Benefits': 'tag_31', 'Large_Group': 'tag_32', 'Multi-Day_Experience': 'tag_33', 'Club_Bar': 'tag_34', 'What_Was_in_That': 'tag_35', 'Personal_Preparation': 'tag_36', 'HPPD_Lasting_Visuals': 'tag_37', 'Families': 'tag_38', 'Second_Hand_Report': 'tag_39', 'Loss_of_Magic': 'tag_40', 'Hospital': 'tag_41', 'Public_Space': 'tag_42', 'School': 'tag_43', 'Poetry': 'tag_44', 'Performance_Enhancement': 'tag_45', 'Large_Party': 'tag_46', 'Group_Ceremony': 'tag_47', 'Workplace': 'tag_48', 'Cultivation_Synthesis': 'tag_49', 'Pregnancy_Baby': 'tag_50', 'Military': 'tag_51'}\n",
    "itags = {v: k.replace('(', '').replace(')', '').replace('/', '') for k, v in tags.items()}\n",
    "ctags = {v: int(k.replace('tag_', '')) for k, v in itags.items()}\n",
    "\n",
    "receptors = ['5_ht2a', '5_ht2c', '5_ht2b', '5_ht1a', '5_ht1b', '5_ht1d', '5_ht1e', '5_ht1f', '5_ht3', '5_ht5a', '5_ht6', '5_ht7', 'dopamine_d1', 'dopamine_d2', 'dopamine_d3', 'dopamine_d4', 'dopamine_d5', 'adrenergic_alpha1a', 'adrenergic_alpha1b', 'adrenergic_alpha2a', 'adrenergic_alpha2b', 'adrenergic_beta1', 'adrenergic_beta2', 'sert', 'dat', 'net', 'imidazoline_1', 'sigma_1', 'sigma_2', 'dor', 'kor', 'mor', 'm1', 'm2', 'm3', 'm4', 'm5', 'h1', 'h2', 'h3', 'h4', 'calcium_channel', 'nmda', 'cb1', 'cb2', 'glutamate_ampa', 'gaba_a', 'gaba_b', 'dopamine_d2_long', 'dopamine_d2_short', 'sodium_channel', 'taar1', 'substance_p', 'paf_platelet_activating_factor', 'prostaglandin_e3', 'prostaglandin_e4', 'herg', 'monoamine_oxidase_a', 'monoamine_oxidase_b', 'cholecystokinin_a', 'cholecystokinin_b']\n",
    "df[receptors] = df[receptors].astype(float)"
   ]
  },
  {
   "cell_type": "code",
   "execution_count": null,
   "id": "5e505411",
   "metadata": {},
   "outputs": [],
   "source": [
    "df[['drug', 'drug_class', 'testimonial']].info()"
   ]
  },
  {
   "cell_type": "code",
   "execution_count": null,
   "id": "394d8edb",
   "metadata": {},
   "outputs": [],
   "source": [
    "df.testimonial.value_counts()"
   ]
  },
  {
   "cell_type": "code",
   "execution_count": null,
   "id": "dc027cc6",
   "metadata": {},
   "outputs": [],
   "source": [
    "[c for c in df]"
   ]
  },
  {
   "cell_type": "code",
   "execution_count": null,
   "id": "ab0b8374",
   "metadata": {},
   "outputs": [],
   "source": [
    "cca_df = pd.read_csv(f'./testimonial_final_v2022_04_22_max_1000_pca_1000_None_cca_12_on_all_drugs.tsv', sep='\\t')\n",
    "cca_df['drug_int'] = [drug2class[d] for d in cca_df.drug_idx]\n",
    "cca_df.info()"
   ]
  },
  {
   "cell_type": "code",
   "execution_count": null,
   "id": "4fe81dff",
   "metadata": {},
   "outputs": [],
   "source": [
    "for i in range(11):\n",
    "    cca_df[f'cca_{i}'] -= cca_df[f'cca_{i}'].mean()\n",
    "    cca_df[f'cca_{i}'] /= cca_df[f'cca_{i}'].std()\n",
    "    cca_df[f'cca_{i}'] *= 10\n",
    "cca_df.cca_2.std()"
   ]
  },
  {
   "cell_type": "code",
   "execution_count": null,
   "id": "70718714",
   "metadata": {},
   "outputs": [],
   "source": [
    "for r in receptors:\n",
    "    df[r] -= df[r].mean()\n",
    "    df[r] /= df[r].std()\n",
    "    df[r] *= 10\n",
    "\n",
    "receptors2learn = []\n",
    "for r in receptors:\n",
    "    if len(df[r].value_counts()) > 10:\n",
    "        receptors2learn.append(r)\n",
    "        df[r].plot.hist()"
   ]
  },
  {
   "cell_type": "code",
   "execution_count": null,
   "id": "ae8e633c",
   "metadata": {},
   "outputs": [],
   "source": [
    "print(len(receptors2learn))"
   ]
  },
  {
   "cell_type": "code",
   "execution_count": null,
   "id": "b9e99082",
   "metadata": {},
   "outputs": [],
   "source": [
    "df = pd.merge(df, cca_df, \n",
    "              left_on=['drug_class', 'testimonial'], \n",
    "              right_on=['drug_int', 'testimonial_idx'], \n",
    "              how='inner')\n",
    "df[[f'cca_{i}' for i in range(11)]] = df[[f'cca_{i}' for i in range(11)]].astype(float)\n",
    "df.info()"
   ]
  },
  {
   "cell_type": "code",
   "execution_count": null,
   "id": "160e1def",
   "metadata": {},
   "outputs": [],
   "source": [
    "df.cca_2.plot.hist(bins=150)"
   ]
  },
  {
   "cell_type": "code",
   "execution_count": null,
   "id": "f701b4b5",
   "metadata": {},
   "outputs": [],
   "source": [
    "df[df.set=='train'].to_csv('train.csv', index=False)\n",
    "df[df.set=='valid'].to_csv('valid.csv', index=False)\n",
    "df[df.set=='test'].to_csv('test.csv', index=False)"
   ]
  },
  {
   "cell_type": "code",
   "execution_count": null,
   "id": "3cb22d6f",
   "metadata": {},
   "outputs": [],
   "source": [
    "df['no_tags'] = df[[f'tag_{i}' for i in range(52) ]].sum(axis=1)\n",
    "print(df['no_tags'].value_counts())"
   ]
  },
  {
   "cell_type": "code",
   "execution_count": null,
   "id": "ccd973ea",
   "metadata": {},
   "outputs": [],
   "source": [
    "df.tag_0.value_counts()"
   ]
  },
  {
   "cell_type": "code",
   "execution_count": null,
   "id": "e4402f1e",
   "metadata": {},
   "outputs": [],
   "source": [
    "df.tag_8.value_counts()"
   ]
  },
  {
   "cell_type": "code",
   "execution_count": null,
   "id": "c2dad066",
   "metadata": {},
   "outputs": [],
   "source": [
    "output_cols = ['drug_class', 'psychoactive_class_int', 'sex_int']\n",
    "output_cols += [f'tag_{i}' for i in range(52)]\n",
    "output_cols += [f'cca_{i}' for i in range(11)]\n",
    "output_cols += receptors2learn\n",
    "tensor_maps_out = []\n",
    "for oc in output_cols:\n",
    "    if 'drug_class' == oc:\n",
    "        tensor_maps_out.append(TensorMap(f'{oc}', Interpretation.CATEGORICAL, shape=(1,),\n",
    "                                         loss=tf.keras.losses.SparseCategoricalCrossentropy(from_logits=True),\n",
    "                                         metrics=[tf.metrics.SparseCategoricalAccuracy()],\n",
    "                                         channel_map={f'drug_{d}': v for d,v in drug2class.items()}))\n",
    "    elif 'psychoactive_class_int' == oc:\n",
    "        tensor_maps_out.append(TensorMap(f'{oc}', Interpretation.CATEGORICAL, shape=(1,),\n",
    "                                         loss=tf.keras.losses.SparseCategoricalCrossentropy(from_logits=True),\n",
    "                                         metrics=[tf.metrics.SparseCategoricalAccuracy()],\n",
    "                                         channel_map={f'{d}': v for d,v in psychoactive2class.items()}))\n",
    "    elif 'tag_' in oc:\n",
    "        tensor_maps_out.append(TensorMap(f'{oc}', Interpretation.CATEGORICAL, shape=(1,), \n",
    "                                         loss=tf.keras.losses.SparseCategoricalCrossentropy(from_logits=True),\n",
    "                                         metrics=[tf.metrics.SparseCategoricalAccuracy()],\n",
    "                                         channel_map={f'no_{itags[oc]}': 0, f'{itags[oc]}': 1}))\n",
    "    elif 'age' == oc:\n",
    "        tensor_maps_out.append(TensorMap(f'{oc}', Interpretation.CONTINUOUS, shape=(1,),\n",
    "                                         loss=tf.keras.losses.MeanSquaredError(),\n",
    "                                         metrics=[tf.metrics.MeanAbsoluteError()],))\n",
    "    elif 'cca_' in oc:\n",
    "        tensor_maps_out.append(TensorMap(f'{oc}', Interpretation.CONTINUOUS, shape=(1,),\n",
    "                                         loss=tf.keras.losses.MeanSquaredError(),\n",
    "                                         metrics=[tf.metrics.MeanAbsoluteError()],))    \n",
    "    elif oc in receptors:\n",
    "        tensor_maps_out.append(TensorMap(f'{oc}', Interpretation.CONTINUOUS, shape=(1,),\n",
    "                                         loss=tf.keras.losses.MeanSquaredError(),\n",
    "                                         metrics=[tf.metrics.MeanAbsoluteError()],))\n",
    "    else:\n",
    "        tensor_maps_out.append(TensorMap(f'{oc}', Interpretation.CATEGORICAL, shape=(1,), \n",
    "                                         loss=tf.keras.losses.SparseCategoricalCrossentropy(from_logits=True),\n",
    "                                         metrics=[tf.metrics.SparseCategoricalAccuracy()],\n",
    "                                         channel_map={f'no_{oc}':0, f'{oc}':1}))\n",
    "        \n",
    "def make_dataset(csv, in_cols, out_cols, batch_size=32):\n",
    "    i = tf.data.experimental.make_csv_dataset(csv, select_columns=in_cols, \n",
    "                                              batch_size=1, shuffle=False)\n",
    "    o = tf.data.experimental.make_csv_dataset(csv, select_columns=out_cols, \n",
    "                                              column_defaults=[np.float32]*len(out_cols),\n",
    "                                              batch_size=1, shuffle=False)\n",
    "    ds = tf.data.Dataset.zip((i,o))\n",
    "    ds = ds.shuffle(10000)\n",
    "    ds = ds.unbatch().batch(batch_size)\n",
    "    \n",
    "    ds = ds.prefetch(tf.data.experimental.AUTOTUNE)\n",
    "    return ds\n",
    "\n",
    "train_ds = make_dataset('train.csv', ['text'], output_cols)\n",
    "valid_ds = make_dataset('valid.csv', ['text'], output_cols)\n",
    "test_ds = make_dataset('test.csv', ['text'], output_cols)"
   ]
  },
  {
   "cell_type": "code",
   "execution_count": null,
   "id": "241e558d",
   "metadata": {},
   "outputs": [],
   "source": [
    "from ml4h.TensorMap import TensorMap, Interpretation"
   ]
  },
  {
   "cell_type": "code",
   "execution_count": null,
   "id": "96a4722e",
   "metadata": {},
   "outputs": [],
   "source": [
    "for feature_batch, label in test_ds.take(1):\n",
    "    print(f\"label {label}\")\n",
    "    for key, value in feature_batch.items():\n",
    "        print(f\"\\n\\n\\n Key is  {key:20s}: {value[0]}\")"
   ]
  },
  {
   "cell_type": "code",
   "execution_count": null,
   "id": "d6f6bdcf",
   "metadata": {},
   "outputs": [],
   "source": [
    "n_drugs = len(drug2class)\n",
    "dropout_rate = 0.2\n",
    "\n",
    "text_input = tf.keras.layers.Input(shape=(), dtype=tf.string)\n",
    "bert_preprocess_model = hub.KerasLayer(\n",
    "    preprocess_model)\n",
    "\n",
    "bert_model = hub.KerasLayer(\n",
    "    base_model,\n",
    "    trainable=True)\n",
    "\n",
    "text_test = ['this is such an amazing movie!']\n",
    "text_preprocessed = bert_preprocess_model(text_test)\n",
    "\n",
    "print(f'Keys       : {list(text_preprocessed.keys())}')\n",
    "print(f'Shape      : {text_preprocessed[\"input_word_ids\"].shape}')\n",
    "print(f'Word Ids   : {text_preprocessed[\"input_word_ids\"][0, :12]}')\n",
    "print(f'Input Mask : {text_preprocessed[\"input_mask\"][0, :12]}')\n",
    "print(f'Type Ids   : {text_preprocessed[\"input_type_ids\"][0, :12]}')\n",
    "\n",
    "bert_results = bert_model(text_preprocessed)\n",
    "\n",
    "print(f'Pooled Outputs Shape:{bert_results[\"pooled_output\"].shape}')\n",
    "print(f'Pooled Outputs Values:{bert_results[\"pooled_output\"][0, :12]}')\n",
    "print(f'Sequence Outputs Shape:{bert_results[\"sequence_output\"].shape}')\n",
    "print(f'Sequence Outputs Values:{bert_results[\"sequence_output\"][0, :12]}')\n",
    "\n",
    "def weighted_scce(weights):\n",
    "    def my_loss(y_true, y_pred):\n",
    "        sample_weights = [weights[int(y_true[i].numpy())] for i in 33]\n",
    "        scce = tf.keras.losses.SparseCategoricalCrossentropy(from_logits=True)\n",
    "        return scce(y_true, y_pred, sample_weights=sample_weights)\n",
    "    return my_loss\n",
    "\n",
    "def build_classifier_model(tfhub_handle_preprocess, tfhub_handle_encoder, tensor_maps_out):\n",
    "    text_input = tf.keras.layers.Input(shape=(), dtype=tf.string, name='text')\n",
    "    preprocessing_layer = hub.KerasLayer(tfhub_handle_preprocess, name='preprocessing')\n",
    "    encoder_inputs = preprocessing_layer(text_input)\n",
    "    encoder = hub.KerasLayer(tfhub_handle_encoder, trainable=True, name='BERT_encoder')\n",
    "    outputs = encoder(encoder_inputs)\n",
    "    net = outputs['pooled_output']\n",
    "    net = tf.keras.layers.Dropout(dropout_rate)(net)\n",
    "    #net = tf.keras.layers.Dense(256, activation='swish')(net)\n",
    "    #net = tf.keras.layers.Dropout(dropout_rate)(net)\n",
    "    outputs = []\n",
    "    metrics = []\n",
    "    losses = []    \n",
    "    for otm in tensor_maps_out:\n",
    "        if otm.is_categorical():\n",
    "            outputs.append(tf.keras.layers.Dense(len(otm.channel_map), activation=None, name=otm.name)(net))\n",
    "            losses.append(tf.keras.losses.SparseCategoricalCrossentropy(from_logits=True))\n",
    "            #losses.append(weighted_scce(class2weight))\n",
    "            metrics.append(tf.metrics.SparseCategoricalAccuracy(name=f'{otm.name}_SparseCategoricalAccuracy_met'))\n",
    "        elif otm.is_continuous():\n",
    "            netl = tf.keras.layers.Dense(otm.annotation_units, activation='swish')(net)\n",
    "            netl = tf.keras.layers.Dropout(dropout_rate)(netl)\n",
    "            outputs.append(tf.keras.layers.Dense(1, activation=None, name=otm.name)(netl))\n",
    "            losses.append(tf.keras.losses.MeanSquaredError()) \n",
    "            metrics.append(tf.metrics.MeanAbsoluteError(name=f'{otm.name}_mae'))\n",
    "    return tf.keras.Model(text_input, outputs), losses, metrics\n",
    "\n",
    "classifier_model, losses, metrics = build_classifier_model(preprocess_model, base_model, tensor_maps_out)\n",
    "bert_raw_result = classifier_model(tf.constant(text_test))\n",
    "print(tf.sigmoid(bert_raw_result[-1]))\n",
    "tf.keras.utils.plot_model(classifier_model)\n",
    "metrics = {tm.name: tm.metrics for tm in tensor_maps_out}\n",
    "losses = [tm.loss for tm in tensor_maps_out]\n",
    "#loss = tf.keras.losses.SparseCategoricalCrossentropy(from_logits=True)\n",
    "#metrics = tf.metrics.SparseCategoricalAccuracy()"
   ]
  },
  {
   "cell_type": "code",
   "execution_count": null,
   "id": "908e24d0",
   "metadata": {},
   "outputs": [],
   "source": [
    "epochs = 18\n",
    "batch_size = 32\n",
    "steps_per_epoch = len(df[df.set=='train'])//batch_size\n",
    "num_train_steps = steps_per_epoch * epochs\n",
    "num_warmup_steps = int(0.1*num_train_steps)\n",
    "print(f'warm up {steps_per_epoch}  and {num_train_steps}')\n",
    "init_lr = 1e-5\n",
    "optimizer = optimization.create_optimizer(init_lr=init_lr,\n",
    "                                          num_train_steps=num_train_steps,\n",
    "                                          num_warmup_steps=num_warmup_steps,\n",
    "                                          optimizer_type='adamw')\n",
    "\n",
    "\n",
    "classifier_model.compile(optimizer=optimizer, loss=losses, metrics=metrics)"
   ]
  },
  {
   "cell_type": "code",
   "execution_count": null,
   "id": "5eea6665",
   "metadata": {},
   "outputs": [],
   "source": [
    "filepath='./models/bertowid'\n",
    "print(f'Training model with bert, will save to: {filepath}')\n",
    "patience = 8\n",
    "callbacks= [\n",
    "    ModelCheckpoint(filepath=filepath, verbose=1, save_best_only=True),\n",
    "    EarlyStopping(monitor='val_loss', patience=patience, verbose=1), \n",
    "]\n",
    "\n",
    "\n",
    "history = classifier_model.fit(x=train_ds, steps_per_epoch=steps_per_epoch, \n",
    "                               validation_data=valid_ds, \n",
    "                               validation_steps=len(df[df.set=='valid'])//batch_size,\n",
    "                               epochs=epochs, shuffle=True, callbacks=callbacks,\n",
    "                               \n",
    "                              )\n"
   ]
  },
  {
   "cell_type": "code",
   "execution_count": null,
   "id": "37923961",
   "metadata": {},
   "outputs": [],
   "source": [
    "loss = classifier_model.evaluate(test_ds, steps=len(df[df.set=='test'])//batch_size)\n",
    "\n",
    "print(f'Loss: {loss}')"
   ]
  },
  {
   "cell_type": "code",
   "execution_count": null,
   "id": "5b582c0b",
   "metadata": {},
   "outputs": [],
   "source": [
    "from ml4h.plots import plot_metric_history\n",
    "plot_metric_history(history, steps_per_epoch, 'BERTowid Learning Curves')"
   ]
  },
  {
   "cell_type": "code",
   "execution_count": null,
   "id": "09db3753",
   "metadata": {},
   "outputs": [],
   "source": [
    "classifier_model.summary()"
   ]
  },
  {
   "cell_type": "code",
   "execution_count": null,
   "id": "a441f7c6",
   "metadata": {},
   "outputs": [],
   "source": [
    "#classifier_model.save('bert_48_drug_sex_age_classifier')\n",
    "#classifier_model.save('bert_cca11_mse_regressor')"
   ]
  },
  {
   "cell_type": "code",
   "execution_count": null,
   "id": "78ccb87c",
   "metadata": {},
   "outputs": [],
   "source": [
    "classifier_model = tf.keras.models.load_model(f'./models/bert_cca11_regressor', \n",
    "                                              custom_objects={'AdamWeightDecay':optimizer})\n",
    "# classifier_model = tf.keras.models.load_model(f'bert_48_drug_sex_52_tag_classifier', \n",
    "#                                               custom_objects={'AdamWeightDecay':optimizer})"
   ]
  },
  {
   "cell_type": "code",
   "execution_count": null,
   "id": "b5c22f4c",
   "metadata": {},
   "outputs": [],
   "source": [
    "len(df[df.set=='test'])"
   ]
  },
  {
   "cell_type": "code",
   "execution_count": null,
   "id": "a3058840",
   "metadata": {},
   "outputs": [],
   "source": [
    "from collections import defaultdict\n",
    "predictions = defaultdict(list)\n",
    "truths = defaultdict(list)\n",
    "for text, labels in test_ds.as_numpy_iterator():\n",
    "    for l in labels:\n",
    "        truths[l].extend(map(int, list(labels[l])))\n",
    "    p = classifier_model.predict(text)\n",
    "    if len(classifier_model.output_names) == 1:\n",
    "        p = [p]\n",
    "    for i,ot in enumerate(classifier_model.output_names):\n",
    "        predictions[ot].extend(list(p[i]))\n",
    "        \n",
    "    if len(truths[l]) >= len(df[df.set=='test']):\n",
    "        break"
   ]
  },
  {
   "cell_type": "code",
   "execution_count": null,
   "id": "5d98b70e",
   "metadata": {},
   "outputs": [],
   "source": [
    "from ml4h.plots import plot_roc, subplot_rocs, plot_scatter\n",
    "def make_one_hot(y, num_labels):\n",
    "    ohy = np.zeros((y.shape[-1], num_labels))\n",
    "    for i in range(0, y.shape[-1]):\n",
    "        ohy[i, int(y[i])] = 1.0\n",
    "    return ohy\n",
    "\n",
    "rocs = []\n",
    "for otm in tensor_maps_out:\n",
    "    if otm.is_categorical():\n",
    "        print(f' otm {otm} {np.array(predictions[otm.name]).shape}')\n",
    "        plot_roc(np.array(predictions[otm.name]), \n",
    "                 make_one_hot(np.array(truths[otm.name]), len(otm.channel_map)), \n",
    "                 otm.channel_map, otm.name)\n",
    "        rocs.append((np.array(predictions[otm.name]), \n",
    "                     make_one_hot(np.array(truths[otm.name]), len(otm.channel_map)), \n",
    "                     otm.channel_map))\n",
    "    elif otm.is_continuous():\n",
    "        plot_scatter(np.array(predictions[otm.name]), np.array(truths[otm.name]), otm.name)\n",
    "subplot_rocs(rocs)"
   ]
  },
  {
   "cell_type": "code",
   "execution_count": null,
   "id": "fecab4d3",
   "metadata": {},
   "outputs": [],
   "source": [
    "from ml4h.plots import plot_roc, subplot_rocs, plot_scatter\n",
    "def make_one_hot(y, num_labels):\n",
    "    ohy = np.zeros((y.shape[-1], num_labels))\n",
    "    for i in range(0, y.shape[-1]):\n",
    "        ohy[i, int(y[i])] = 1.0\n",
    "    return ohy\n",
    "\n",
    "rocs = []\n",
    "for otm in tensor_maps_out:\n",
    "    if otm.is_categorical():\n",
    "        print(f' otm {otm} {np.array(predictions[otm.name]).shape}')\n",
    "        plot_roc(np.array(predictions[otm.name]), \n",
    "                 make_one_hot(np.array(truths[otm.name]), len(otm.channel_map)), \n",
    "                 otm.channel_map, otm.name)\n",
    "        rocs.append((np.array(predictions[otm.name]), \n",
    "                     make_one_hot(np.array(truths[otm.name]), len(otm.channel_map)), \n",
    "                     otm.channel_map))\n",
    "    elif otm.is_continuous():\n",
    "        plot_scatter(np.array(predictions[otm.name]), np.array(truths[otm.name]), otm.name)\n",
    "subplot_rocs(rocs)"
   ]
  },
  {
   "cell_type": "code",
   "execution_count": null,
   "id": "e8a8d3b2",
   "metadata": {},
   "outputs": [],
   "source": []
  }
 ],
 "metadata": {
  "kernelspec": {
   "display_name": "Python 3",
   "language": "python",
   "name": "python3"
  },
  "language_info": {
   "codemirror_mode": {
    "name": "ipython",
    "version": 3
   },
   "file_extension": ".py",
   "mimetype": "text/x-python",
   "name": "python",
   "nbconvert_exporter": "python",
   "pygments_lexer": "ipython3",
   "version": "3.6.9"
  }
 },
 "nbformat": 4,
 "nbformat_minor": 5
}
