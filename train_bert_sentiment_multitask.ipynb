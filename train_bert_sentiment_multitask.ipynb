{
 "cells": [
  {
   "cell_type": "code",
   "execution_count": null,
   "id": "b60b0f51",
   "metadata": {},
   "outputs": [],
   "source": [
    "!pip install tensorflow-text==2.5\n",
    "!pip install tf-models-official==2.5"
   ]
  },
  {
   "cell_type": "code",
   "execution_count": null,
   "id": "f3d39763",
   "metadata": {},
   "outputs": [],
   "source": [
    "import os\n",
    "import shutil\n",
    "\n",
    "import pandas as pd\n",
    "import numpy as np\n",
    "\n",
    "import tensorflow as tf\n",
    "import tensorflow_hub as hub\n",
    "import tensorflow_text as text\n",
    "from official.nlp import optimization\n",
    "\n",
    "import matplotlib.pyplot as plt\n",
    "from ml4h.TensorMap import TensorMap, Interpretation\n",
    "\n",
    "drug_folder = 'split_drugs'\n",
    "drug_folder = 'split_small_test_all'\n",
    "\n",
    "preprocess_model = \"https://tfhub.dev/tensorflow/bert_en_uncased_preprocess/3\"\n",
    "\n",
    "#base_model = \"https://tfhub.dev/tensorflow/bert_en_uncased_L-12_H-768_A-12/3\"\n",
    "base_model = \"https://tfhub.dev/google/experts/bert/wiki_books/sst2/2\"\n",
    "\n",
    "tf.get_logger().setLevel('ERROR')"
   ]
  },
  {
   "cell_type": "code",
   "execution_count": null,
   "id": "6ed2e44a",
   "metadata": {},
   "outputs": [],
   "source": [
    "#df = pd.read_csv(f'./test_sentences_128_meta_data.csv')\n",
    "df = pd.read_csv(f'/home/sam/unify-emotion-datasets/data/full_dataset/goemotions_1.csv')\n",
    "in_cols = ['text']\n",
    "output_cols = []\n",
    "for i,c in enumerate(df):\n",
    "    if i > 8:\n",
    "        print(df[c].value_counts())\n",
    "        output_cols.append(c)\n",
    "print(df.info())\n",
    "print(output_cols)"
   ]
  },
  {
   "cell_type": "code",
   "execution_count": null,
   "id": "c2dad066",
   "metadata": {},
   "outputs": [],
   "source": [
    "tensor_maps_out = []\n",
    "for oc in output_cols:\n",
    "    tensor_maps_out.append(TensorMap(f'{oc}', Interpretation.CATEGORICAL, shape=(1,), \n",
    "                           channel_map={f'no_{oc}':0, f'{oc}':1}))\n",
    "def make_dataset(csv, in_cols, out_cols, batch_size=32):\n",
    "    i = tf.data.experimental.make_csv_dataset(csv, select_columns=in_cols, \n",
    "                                              batch_size=1, shuffle=False)\n",
    "    o = tf.data.experimental.make_csv_dataset(csv, select_columns=out_cols, \n",
    "                                              batch_size=1, shuffle=False)\n",
    "    ds = tf.data.Dataset.zip((i,o))\n",
    "    ds = ds.shuffle(70000)\n",
    "    ds = ds.batch(batch_size)\n",
    "    ds = ds.prefetch(tf.data.experimental.AUTOTUNE)\n",
    "    return ds\n",
    "\n",
    "\n",
    "def get_dataset_partitions_tf(ds, ds_size, train_split=0.8, val_split=0.1, test_split=0.1, shuffle=True, shuffle_size=10000):\n",
    "    assert (train_split + test_split + val_split) == 1\n",
    "    \n",
    "    if shuffle:\n",
    "        # Specify seed to always have the same split distribution between runs\n",
    "        ds = ds.shuffle(shuffle_size, seed=12)\n",
    "    \n",
    "    train_size = int(train_split * ds_size)\n",
    "    val_size = int(val_split * ds_size)\n",
    "    test_size = int(ds_size - (train_size+val_size))\n",
    "    \n",
    "    train_ds = ds.take(train_size)    \n",
    "    val_ds = ds.skip(train_size).take(val_size)\n",
    "    test_ds = ds.skip(train_size).skip(val_size)\n",
    "    \n",
    "    print(f'Partition {ds_size} examples into train:{train_size} val:{val_size} test:{test_size}')\n",
    "    return train_ds, val_ds, test_ds, train_size, val_size, test_size\n",
    "\n",
    "train_ds = make_dataset('/home/sam/unify-emotion-datasets/data/full_dataset/goemotions_1.csv', in_cols, output_cols)\n",
    "valid_ds = make_dataset('/home/sam/unify-emotion-datasets/data/full_dataset/goemotions_2.csv', in_cols, output_cols)\n",
    "test_ds = make_dataset('/home/sam/unify-emotion-datasets/data/full_dataset/goemotions_3.csv', in_cols, output_cols)\n",
    "train_size, val_size, test_size = 70000, 70000, 71225"
   ]
  },
  {
   "cell_type": "code",
   "execution_count": null,
   "id": "241e558d",
   "metadata": {},
   "outputs": [],
   "source": [
    "from ml4h.TensorMap import TensorMap, Interpretation"
   ]
  },
  {
   "cell_type": "code",
   "execution_count": null,
   "id": "96a4722e",
   "metadata": {},
   "outputs": [],
   "source": [
    "for feature_batch, label in valid_ds.take(1):\n",
    "    print(f\"label {label}\")\n",
    "    for key, value in feature_batch.items():\n",
    "        print(f\"\\n\\n\\n Key is  {key:20s}: {value[0]}\")"
   ]
  },
  {
   "cell_type": "code",
   "execution_count": null,
   "id": "d6f6bdcf",
   "metadata": {},
   "outputs": [],
   "source": [
    "dropout_rate = 0.1\n",
    "\n",
    "text_input = tf.keras.layers.Input(shape=(), dtype=tf.string)\n",
    "bert_preprocess_model = hub.KerasLayer(\n",
    "    preprocess_model)\n",
    "\n",
    "bert_model = hub.KerasLayer(\n",
    "    base_model,\n",
    "    trainable=True)\n",
    "\n",
    "text_test = ['this is such an amazing movie!']\n",
    "text_preprocessed = bert_preprocess_model(text_test)\n",
    "\n",
    "print(f'Keys       : {list(text_preprocessed.keys())}')\n",
    "print(f'Shape      : {text_preprocessed[\"input_word_ids\"].shape}')\n",
    "print(f'Word Ids   : {text_preprocessed[\"input_word_ids\"][0, :12]}')\n",
    "print(f'Input Mask : {text_preprocessed[\"input_mask\"][0, :12]}')\n",
    "print(f'Type Ids   : {text_preprocessed[\"input_type_ids\"][0, :12]}')\n",
    "\n",
    "bert_results = bert_model(text_preprocessed)\n",
    "\n",
    "print(f'Pooled Outputs Shape:{bert_results[\"pooled_output\"].shape}')\n",
    "print(f'Pooled Outputs Values:{bert_results[\"pooled_output\"][0, :12]}')\n",
    "print(f'Sequence Outputs Shape:{bert_results[\"sequence_output\"].shape}')\n",
    "print(f'Sequence Outputs Values:{bert_results[\"sequence_output\"][0, :12]}')\n",
    "\n",
    "def build_classifier_model(tfhub_handle_preprocess, tfhub_handle_encoder, tensor_maps_out):\n",
    "    text_input = tf.keras.layers.Input(shape=(), dtype=tf.string, name='text')\n",
    "    preprocessing_layer = hub.KerasLayer(tfhub_handle_preprocess, name='preprocessing')\n",
    "    encoder_inputs = preprocessing_layer(text_input)\n",
    "    encoder = hub.KerasLayer(tfhub_handle_encoder, trainable=True, name='BERT_encoder')\n",
    "    outputs = encoder(encoder_inputs)\n",
    "    net = outputs['pooled_output']\n",
    "    net = tf.keras.layers.Dropout(dropout_rate)(net)\n",
    "    #net = tf.keras.layers.Dense(256, activation='swish')(net)\n",
    "    #net = tf.keras.layers.Dropout(dropout_rate)(net)\n",
    "    outputs = []\n",
    "    for otm in tensor_maps_out:\n",
    "        outputs.append(tf.keras.layers.Dense(len(otm.channel_map), activation=None, name=otm.name)(net))\n",
    "    return tf.keras.Model(text_input, outputs)\n",
    "\n",
    "classifier_model = build_classifier_model(preprocess_model, base_model, tensor_maps_out)\n",
    "bert_raw_result = classifier_model(tf.constant(text_test))\n",
    "print(tf.sigmoid(bert_raw_result[-1]))\n",
    "tf.keras.utils.plot_model(classifier_model)\n",
    "\n",
    "loss = tf.keras.losses.SparseCategoricalCrossentropy(from_logits=True)\n",
    "metrics = tf.metrics.SparseCategoricalAccuracy()"
   ]
  },
  {
   "cell_type": "code",
   "execution_count": null,
   "id": "908e24d0",
   "metadata": {},
   "outputs": [],
   "source": [
    "epochs = 8\n",
    "batch_size=32\n",
    "steps_per_epoch = train_size//batch_size\n",
    "num_train_steps = steps_per_epoch * epochs\n",
    "num_warmup_steps = int(0.1*num_train_steps)\n",
    "print(f'warm up {steps_per_epoch}  and {num_train_steps}')\n",
    "init_lr = 1e-5\n",
    "optimizer = optimization.create_optimizer(init_lr=init_lr,\n",
    "                                          num_train_steps=num_train_steps,\n",
    "                                          num_warmup_steps=num_warmup_steps,\n",
    "                                          optimizer_type='adamw')\n",
    "\n",
    "\n",
    "classifier_model.compile(optimizer=optimizer, loss=loss, metrics=metrics)"
   ]
  },
  {
   "cell_type": "code",
   "execution_count": null,
   "id": "5eea6665",
   "metadata": {},
   "outputs": [],
   "source": [
    "print(f'Training model with bert')\n",
    "history = classifier_model.fit(x=train_ds, steps_per_epoch=steps_per_epoch, \n",
    "                               validation_data=valid_ds, validation_steps=val_size//batch_size,\n",
    "                               epochs=epochs, shuffle=True\n",
    "                              )"
   ]
  },
  {
   "cell_type": "code",
   "execution_count": null,
   "id": "37923961",
   "metadata": {},
   "outputs": [],
   "source": [
    "loss = classifier_model.evaluate(test_ds, steps=test_size//batch_size)\n",
    "\n",
    "print(f'Loss: {loss}')"
   ]
  },
  {
   "cell_type": "code",
   "execution_count": null,
   "id": "c991d7a7",
   "metadata": {},
   "outputs": [],
   "source": [
    "from ml4h.plots import plot_metric_history\n",
    "\n",
    "plot_metric_history(history, num_train_steps, 'bert sentiment training')"
   ]
  },
  {
   "cell_type": "code",
   "execution_count": null,
   "id": "5b582c0b",
   "metadata": {},
   "outputs": [],
   "source": [
    "#print(f'Accuracy: {accuracy}')\n",
    "\n",
    "history_dict = history.history\n",
    "print(history_dict.keys())\n",
    "\n",
    "#acc = history_dict['tag_8_sparse_categorical_accuracy']\n",
    "#val_acc = history_dict['val_tag_8_sparse_categorical_accuracy']\n",
    "loss = history_dict['loss']\n",
    "val_loss = history_dict['val_loss']\n",
    "\n",
    "epochs = range(1, len(acc) + 1)\n",
    "fig = plt.figure(figsize=(10, 6))\n",
    "fig.tight_layout()\n",
    "\n",
    "plt.subplot(2, 1, 1)\n",
    "# r is for \"solid red line\"\n",
    "plt.plot(epochs, loss, 'r', label='Training loss')\n",
    "# b is for \"solid blue line\"\n",
    "plt.plot(epochs, val_loss, 'b', label='Validation loss')\n",
    "plt.title('Training and validation loss')\n",
    "# plt.xlabel('Epochs')\n",
    "plt.ylabel('Loss')\n",
    "plt.legend()\n",
    "\n",
    "plt.subplot(2, 1, 2)\n",
    "plt.plot(epochs, acc, 'r', label='Training acc')\n",
    "plt.plot(epochs, val_acc, 'b', label='Validation acc')\n",
    "plt.title('Training and validation accuracy')\n",
    "plt.xlabel('Epochs')\n",
    "plt.ylabel('Accuracy')\n",
    "plt.legend(loc='lower right')"
   ]
  },
  {
   "cell_type": "code",
   "execution_count": null,
   "id": "323daa46",
   "metadata": {},
   "outputs": [],
   "source": [
    "print(val_acc)"
   ]
  },
  {
   "cell_type": "code",
   "execution_count": null,
   "id": "09db3753",
   "metadata": {},
   "outputs": [],
   "source": [
    "classifier_model.summary()"
   ]
  },
  {
   "cell_type": "code",
   "execution_count": null,
   "id": "a441f7c6",
   "metadata": {},
   "outputs": [],
   "source": [
    "classifier_model.save(f'bert_{len(tensor_maps_out)}_sentiment_classifier')"
   ]
  },
  {
   "cell_type": "code",
   "execution_count": null,
   "id": "5eeb06f3",
   "metadata": {},
   "outputs": [],
   "source": [
    "classifier_model.load_weights(f'bert_{len(tensor_maps_out)}_sentiment_classifier_v2022_04_22')"
   ]
  },
  {
   "cell_type": "code",
   "execution_count": null,
   "id": "78ccb87c",
   "metadata": {},
   "outputs": [],
   "source": [
    "from collections import defaultdict\n",
    "predictions = defaultdict(list)\n",
    "truths = defaultdict(list)\n",
    "for text, labels in test_ds.as_numpy_iterator():\n",
    "    for l in labels:\n",
    "        truths[l].extend(map(int, list(labels[l])))\n",
    "    p = classifier_model.predict(text)\n",
    "    for i,ot in enumerate(classifier_model.output_names):\n",
    "        #print(f'{i} ot {ot} np.argmax(p[i]) {np.argmax(p[i], axis=-1).shape}')\n",
    "        predictions[ot].extend(list(p[i]))\n",
    "        \n",
    "    if len(truths[l]) > 9965:\n",
    "        break"
   ]
  },
  {
   "cell_type": "code",
   "execution_count": null,
   "id": "35fa559e",
   "metadata": {},
   "outputs": [],
   "source": [
    "from ml4h.plots import plot_roc, subplot_rocs\n",
    "def make_one_hot(y, num_labels):\n",
    "    ohy = np.zeros((y.shape[-1], num_labels))\n",
    "    for i in range(0, y.shape[-1]):\n",
    "        ohy[i, int(y[i])] = 1.0\n",
    "    return ohy\n",
    "\n",
    "rocs = []\n",
    "perfs = {}\n",
    "for otm in tensor_maps_out:\n",
    "    print(f' otm {otm} {np.array(predictions[otm.name]).shape}')\n",
    "    perfs[otm] = plot_roc(np.array(predictions[otm.name]), \n",
    "             make_one_hot(np.array(truths[otm.name]), len(otm.channel_map)), \n",
    "             otm.channel_map, otm.name)\n",
    "    rocs.append((np.array(predictions[otm.name]), \n",
    "                 make_one_hot(np.array(truths[otm.name]), len(otm.channel_map)), \n",
    "                 otm.channel_map))\n",
    "subplot_rocs(rocs)"
   ]
  },
  {
   "cell_type": "code",
   "execution_count": null,
   "id": "616f8e15",
   "metadata": {},
   "outputs": [],
   "source": [
    "import math\n",
    "tag_auc = []\n",
    "for tm in perfs:\n",
    "    print(f'per, {perfs[tm]} ')\n",
    "    tag_auc.append((tm.name, perfs[tm][tm.name] ))\n",
    "#         p = perfs[tm][itags[tm.name]]\n",
    "#         t = itags[tm.name]\n",
    "#         if math.isnan(p):\n",
    "#             continue\n",
    "#         tag_auc.append((t, p))"
   ]
  },
  {
   "cell_type": "code",
   "execution_count": null,
   "id": "699898f3",
   "metadata": {},
   "outputs": [],
   "source": [
    "tag_auc = sorted(tag_auc, key=lambda x: x[1])"
   ]
  },
  {
   "cell_type": "code",
   "execution_count": null,
   "id": "5f78f9ea",
   "metadata": {},
   "outputs": [],
   "source": [
    "tag_auc"
   ]
  },
  {
   "cell_type": "code",
   "execution_count": null,
   "id": "7134a532",
   "metadata": {},
   "outputs": [],
   "source": [
    "%matplotlib inline\n",
    "import matplotlib.pyplot as plt\n",
    "_ = plt.figure(figsize=(5, 11), dpi=300)\n",
    "plt.barh(range(len(tag_auc)), [t[1] for t in tag_auc])\n",
    "plt.axvline(0.5, linestyle='dashed', c='orange')\n",
    "plt.yticks(np.arange(len(tag_auc)), [t[0].replace('_', ' ').capitalize() for t in tag_auc], ha='right')\n",
    "plt.ylabel('Go Emotion Taxonomy')\n",
    "plt.xlabel('Test Set ROC AUC')\n",
    "plt.box(False)\n",
    "\n"
   ]
  },
  {
   "cell_type": "code",
   "execution_count": null,
   "id": "57ab5171",
   "metadata": {},
   "outputs": [],
   "source": []
  }
 ],
 "metadata": {
  "kernelspec": {
   "display_name": "Python 3",
   "language": "python",
   "name": "python3"
  },
  "language_info": {
   "codemirror_mode": {
    "name": "ipython",
    "version": 3
   },
   "file_extension": ".py",
   "mimetype": "text/x-python",
   "name": "python",
   "nbconvert_exporter": "python",
   "pygments_lexer": "ipython3",
   "version": "3.6.9"
  }
 },
 "nbformat": 4,
 "nbformat_minor": 5
}
