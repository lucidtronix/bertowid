{
 "cells": [
  {
   "cell_type": "code",
   "execution_count": null,
   "id": "af2c412a",
   "metadata": {},
   "outputs": [],
   "source": [
    "!pip install tensorflow-text==2.5\n",
    "!pip install tf-models-official==2.5"
   ]
  },
  {
   "cell_type": "code",
   "execution_count": null,
   "id": "9d5e23da",
   "metadata": {},
   "outputs": [],
   "source": [
    "import os\n",
    "import shutil\n",
    "from collections import Counter, defaultdict\n",
    "\n",
    "import numpy as np\n",
    "import pandas as pd\n",
    "import scipy.interpolate as interp\n",
    "from collections import OrderedDict\n",
    "from ml4h.TensorMap import TensorMap, Interpretation\n",
    "\n",
    "import tensorflow as tf\n",
    "import tensorflow_hub as hub\n",
    "import tensorflow_text as text\n",
    "from official.nlp import optimization\n",
    "\n",
    "import matplotlib.pyplot as plt\n",
    "from matplotlib.lines import Line2D\n",
    "\n",
    "tf.get_logger().setLevel('ERROR')"
   ]
  },
  {
   "cell_type": "code",
   "execution_count": null,
   "id": "023d4093",
   "metadata": {},
   "outputs": [],
   "source": [
    "#df = pd.read_csv(f'./test_sentences_128_meta_data.csv')\n",
    "df = pd.read_csv(f'/home/sam/unify-emotion-datasets/data/full_dataset/goemotions_1.csv')\n",
    "in_cols = ['text']\n",
    "output_cols = []\n",
    "for i,c in enumerate(df):\n",
    "    if i > 8:\n",
    "        print(df[c].value_counts())\n",
    "        output_cols.append(c)\n",
    "print(df.info())\n",
    "print(output_cols)\n",
    "tensor_maps_out = []\n",
    "for oc in output_cols:\n",
    "    tensor_maps_out.append(TensorMap(f'{oc}', Interpretation.CATEGORICAL, shape=(1,), \n",
    "                           channel_map={f'no_{oc}':0, f'{oc}':1}))"
   ]
  },
  {
   "cell_type": "code",
   "execution_count": null,
   "id": "8f0bd9ab",
   "metadata": {},
   "outputs": [],
   "source": [
    "epochs = 5\n",
    "num_train_steps = 100 * epochs\n",
    "num_warmup_steps = int(0.1*num_train_steps)\n",
    "\n",
    "init_lr = 3e-5\n",
    "optimizer = optimization.create_optimizer(init_lr=init_lr,\n",
    "                                          num_train_steps=num_train_steps,\n",
    "                                          num_warmup_steps=num_warmup_steps,\n",
    "                                          optimizer_type='adamw')\n",
    "classifier_model = tf.keras.models.load_model(f'./models/bert_{len(tensor_maps_out)}_sentiment_classifier_v2022_04_22', \n",
    "                                              custom_objects={'AdamWeightDecay':optimizer})"
   ]
  },
  {
   "cell_type": "code",
   "execution_count": null,
   "id": "1babf0c0",
   "metadata": {},
   "outputs": [],
   "source": [
    "classifier_model.summary()"
   ]
  },
  {
   "cell_type": "code",
   "execution_count": null,
   "id": "049cfa56",
   "metadata": {},
   "outputs": [],
   "source": [
    "words = ['It was infuriating how they never listen to me',\n",
    "         #'I learned a lot I had never seen so deeply into the heart of god and the universe.', \n",
    "#          'the desire is strong to repeat the experience on both smaller doses' ,\n",
    "#          'with music available for contemplation - at the beach - at night.',\n",
    "#          'There is complete recall of all experiences and thoughts, after the drug has been dissipated.',\n",
    "#          'The feeling of comfort, introspection, and tranquility',\n",
    "#          'One feels that this feeling may be prolonged and further enjoyed upon repeated usages.'\n",
    "        ]"
   ]
  },
  {
   "cell_type": "code",
   "execution_count": null,
   "id": "a1934c8a",
   "metadata": {},
   "outputs": [],
   "source": [
    "original_results = tf.nn.softmax(classifier_model(tf.constant(words)))"
   ]
  },
  {
   "cell_type": "code",
   "execution_count": null,
   "id": "faad4b63",
   "metadata": {},
   "outputs": [],
   "source": [
    "for j,s in enumerate(words):\n",
    "    for i,ot in enumerate(classifier_model.output_names):\n",
    "        score = original_results[i, j, 1].numpy()\n",
    "        print(f'{s[:60]} <- {ot}: {score:0.6f}')"
   ]
  },
  {
   "cell_type": "code",
   "execution_count": null,
   "id": "96d44212",
   "metadata": {},
   "outputs": [],
   "source": [
    "# df2 = pd.read_csv(f'./all_split_32_v2022_05_10_meta_data.csv')\n",
    "# df = pd.concat([df2, df])"
   ]
  },
  {
   "cell_type": "code",
   "execution_count": null,
   "id": "387686d9",
   "metadata": {},
   "outputs": [],
   "source": [
    "df = pd.read_csv(f'./all_split_32_v2022_05_10_meta_data.csv')\n",
    "#df = pd.read_csv(f'./heroin_split_32_meta_data.csv')\n",
    "\n",
    "\n",
    "step_size = 32\n",
    "\n",
    "# df = df[df.age != 'Not Given']\n",
    "# df = df[df.sex_int.notna()]\n",
    "df = df[df.text.notna()]\n",
    "\n",
    "#df.psychoactive_class = 'opioid'\n",
    "#df.ligand_chemical_class = 'morphinan'\n",
    "df.psychoactive_class = df.psychoactive_class.apply(lambda x: x.strip())\n",
    "\n",
    "drug2class = {d:i for i,d in enumerate(df.drug.unique())}\n",
    "#psychoactive2class = {d:i for i,d in enumerate(df.psychoactive_class.unique())}\n",
    "class2weight = {i:(len(df)/len(df[df.drug==d])) for i,d in enumerate(df.drug.unique())}\n",
    "#print(psychoactive2class)\n",
    "df['drug_class'] = [drug2class[d] for d in df.drug]\n",
    "#df['psychoactive_class_int'] = [psychoactive2class[d] for d in df.psychoactive_class]\n",
    "df[[f'tag_{i}' for i in range(52) ]] = df[[f'tag_{i}' for i in range(52) ]].fillna(0)\n",
    "\n",
    "\n",
    "tags = {'Small_Group': 'tag_0', 'General': 'tag_1', 'First_Times': 'tag_2', 'Alone': 'tag_3', 'Difficult_Experiences': 'tag_4', 'Glowing_Experiences': 'tag_5', 'Retrospective_Summary': 'tag_6', 'Various': 'tag_7', 'Unknown_Context': 'tag_8', 'Mystical_Experiences': 'tag_9', 'Health_Problems': 'tag_10', 'Combinations': 'tag_11', 'Not_Applicable': 'tag_12', 'Bad_Trips': 'tag_13', 'Hangover_Days_After': 'tag_14', 'Entities_Beings': 'tag_15', 'Music_Discussion': 'tag_16', 'Addiction_Habituation': 'tag_17', 'Post_Trip_Problems': 'tag_18', 'Nature_Outdoors': 'tag_19', 'Relationships': 'tag_20', 'Depression': 'tag_21', 'Therapeutic_Intent_or_Outcome': 'tag_22', 'Overdose': 'tag_23', 'Medical_Use': 'tag_24', 'Sex_Discussion': 'tag_25', 'Train_Wrecks_Trip_Disasters': 'tag_26', 'Guides_Sitters': 'tag_27', 'Rave_Dance_Event': 'tag_28', 'Preparation_Recipes': 'tag_29', 'Festival_Lg_Crowd': 'tag_30', 'Health_Benefits': 'tag_31', 'Large_Group': 'tag_32', 'Multi-Day_Experience': 'tag_33', 'Club_Bar': 'tag_34', 'What_Was_in_That': 'tag_35', 'Personal_Preparation': 'tag_36', 'HPPD_Lasting_Visuals': 'tag_37', 'Families': 'tag_38', 'Second_Hand_Report': 'tag_39', 'Loss_of_Magic': 'tag_40', 'Hospital': 'tag_41', 'Public_Space': 'tag_42', 'School': 'tag_43', 'Poetry': 'tag_44', 'Performance_Enhancement': 'tag_45', 'Large_Party': 'tag_46', 'Group_Ceremony': 'tag_47', 'Workplace': 'tag_48', 'Cultivation_Synthesis': 'tag_49', 'Pregnancy_Baby': 'tag_50', 'Military': 'tag_51'}\n",
    "itags = {v: k.replace('(', '').replace(')', '').replace('/', '') for k, v in tags.items()}\n",
    "ctags = {v: int(k.replace('tag_', '')) for k, v in itags.items()}\n",
    "\n",
    "receptors = ['5_ht2a', '5_ht2c', '5_ht2b', '5_ht1a', '5_ht1b', '5_ht1d', '5_ht1e', '5_ht1f', '5_ht3', '5_ht5a', '5_ht6', '5_ht7', 'dopamine_d1', 'dopamine_d2', 'dopamine_d3', 'dopamine_d4', 'dopamine_d5', 'adrenergic_alpha1a', 'adrenergic_alpha1b', 'adrenergic_alpha2a', 'adrenergic_alpha2b', 'adrenergic_beta1', 'adrenergic_beta2', 'sert', 'dat', 'net', 'imidazoline_1', 'sigma_1', 'sigma_2', 'dor', 'kor', 'mor', 'm1', 'm2', 'm3', 'm4', 'm5', 'h1', 'h2', 'h3', 'h4', 'calcium_channel', 'nmda', 'cb1', 'cb2', 'glutamate_ampa', 'gaba_a', 'gaba_b', 'dopamine_d2_long', 'dopamine_d2_short', 'sodium_channel', 'taar1', 'substance_p', 'paf_platelet_activating_factor', 'prostaglandin_e3', 'prostaglandin_e4', 'herg', 'monoamine_oxidase_a', 'monoamine_oxidase_b', 'cholecystokinin_a', 'cholecystokinin_b']\n",
    "df[receptors] = df[receptors].astype(float)\n",
    "\n",
    "\n",
    "# stats = Counter()\n",
    "# def rec_dd():\n",
    "#     return defaultdict(rec_dd)\n",
    "# scores = rec_dd()\n",
    "\n",
    "df.head()"
   ]
  },
  {
   "cell_type": "code",
   "execution_count": null,
   "id": "6aec7c12",
   "metadata": {},
   "outputs": [],
   "source": [
    "from collections import defaultdict\n",
    "predictions = defaultdict(list)\n",
    "truths = defaultdict(list)\n",
    "\n",
    "def rec_dd():\n",
    "    return defaultdict(rec_dd)\n",
    "scores = rec_dd()\n",
    "\n",
    "last_t = 0\n",
    "max_testimonials = 2000\n",
    "max_drugs = 62\n",
    "for index, row in df.iterrows():\n",
    "    if last_t != row.testimonial and len(scores[row.drug]) >= max_testimonials and len(scores) >= max_drugs:\n",
    "        break\n",
    "    if last_t != row.testimonial and len(scores[row.drug]) >= max_testimonials:\n",
    "        continue \n",
    "    results = classifier_model(tf.constant([row.text]))\n",
    "    results = np.array([tf.nn.softmax(r).numpy() for r in results])\n",
    "    if row.testimonial not in scores[row.drug]:\n",
    "        for i,sentiment in enumerate(classifier_model.output_names):\n",
    "            scores[row.drug][row.testimonial][sentiment] = []\n",
    "    for i,sentiment in enumerate(classifier_model.output_names):\n",
    "        scores[row.drug][row.testimonial][sentiment].append(results[i, 0, 1])\n",
    "        \n",
    "    if len(scores[row.drug]) % 10 == 0 and last_t != row.testimonial:\n",
    "        print(f'at {row.drug} with {len(scores[row.drug])} testimonials from {len(scores)} drug(s).')\n",
    "    last_t = row.testimonial\n"
   ]
  },
  {
   "cell_type": "code",
   "execution_count": null,
   "id": "da712dac",
   "metadata": {},
   "outputs": [],
   "source": [
    "for drug in scores:\n",
    "    lens = 0\n",
    "    for t in scores[drug]:\n",
    "        lens += len(scores[drug][t][\"love\"])\n",
    "    print(f'Drug {drug} from {len(scores[drug])} testimonials, mean length: {lens/len(scores[drug]):0.1f}')"
   ]
  },
  {
   "cell_type": "code",
   "execution_count": null,
   "id": "f96cf751",
   "metadata": {},
   "outputs": [],
   "source": [
    "import pickle\n",
    "# open file for writing\n",
    "# create a binary pickle file \n",
    "f = open(\"split_32_28_sentiment_all_scores_v2022_05_13.pkl\",\"wb\")\n",
    "\n",
    "# # write the python object (dict) to pickle file\n",
    "pickle.dump(scores,f)"
   ]
  },
  {
   "cell_type": "code",
   "execution_count": null,
   "id": "066084a6",
   "metadata": {},
   "outputs": [],
   "source": [
    "scores = pickle.load(open(\"split_192_28_sentiment_scores_v2022_05_11.pkl\", \"rb\"))"
   ]
  },
  {
   "cell_type": "code",
   "execution_count": null,
   "id": "d47246bc",
   "metadata": {},
   "outputs": [],
   "source": [
    "standardized = rec_dd()\n",
    "peaks=Counter()\n",
    "peak_index = {}\n",
    "peak_testimonials={}\n",
    "new_size = 25\n",
    "for drug in scores:\n",
    "    for t in scores[drug]:\n",
    "        for si, s in enumerate(scores[drug][t]):\n",
    "            try:\n",
    "                interpolator = interp.interp1d(np.arange(len(scores[drug][t][s])), scores[drug][t][s])\n",
    "                standardized[drug][t][s] = interpolator(np.linspace(0, len(scores[drug][t][s])-1, new_size))\n",
    "                if max(scores[drug][t][s]) > peaks[drug,s]:\n",
    "                    peak_testimonials[drug,s] = t\n",
    "                    peaks[drug,s] = max(scores[drug][t][s])\n",
    "                    peak_index[drug,s] =  np.argmax(scores[drug][t][s])\n",
    "            except ValueError:\n",
    "                print(f'vall err {drug} {t}')\n",
    "\n",
    "data = defaultdict(list)\n",
    "for sentiment in scores[drug][t]:\n",
    "    count = []\n",
    "    testi = []\n",
    "    pzz = []\n",
    "    for p in peaks:\n",
    "        if sentiment in p:\n",
    "            #print(f'{p} has: {peaks[p]:0.3f} and testi: {peak_testimonials[p]} at index: {peak_index[p]}')\n",
    "            count.append(peaks[p])\n",
    "            testi.append(peak_testimonials[p])\n",
    "            pzz.append(p)\n",
    "    print(f'\\nmax {sentiment.capitalize()} at drug {pzz[np.argmax(count)][0]} Testimonial: {testi[np.argmax(count)]} Sentence: {peak_index[pzz[np.argmax(count)]]}')\n",
    "    peak_key = pzz[np.argmax(count)]\n",
    "    ex = df[df.drug == peak_key[0]]\n",
    "    ex = ex[ex.testimonial == testi[np.argmax(count)]]\n",
    "    ex = ex[ex.sentence==peak_index[peak_key]]\n",
    "    print(ex.iloc[0].text)\n",
    "    print()\n",
    "    data['sentiment'].append(sentiment)\n",
    "    data['drug'].append(pzz[np.argmax(count)][0])\n",
    "    data['psychoactive_class'].append(ex.iloc[0].psychoactive_class)\n",
    "    data['ligand_chemical_class'].append(ex.iloc[0].ligand_chemical_class)\n",
    "    data['text'].append(ex.iloc[0].text)\n",
    "        \n",
    "exdf = pd.DataFrame.from_dict(data)\n",
    "exdf.to_csv('most_extreme_erowid_emotions_max100_v2022_05_13.csv', index=False)"
   ]
  },
  {
   "cell_type": "code",
   "execution_count": null,
   "id": "ba78a195",
   "metadata": {},
   "outputs": [],
   "source": [
    "standardized = rec_dd()\n",
    "means = Counter()\n",
    "stds = Counter()\n",
    "new_size = 25\n",
    "for drug in scores:\n",
    "    for t in scores[drug]:\n",
    "        for s in scores[drug][t]:\n",
    "            try:\n",
    "                interpolator = interp.interp1d(np.arange(len(scores[drug][t][s])), scores[drug][t][s])\n",
    "                standardized[drug][t][s] = interpolator(np.linspace(0, len(scores[drug][t][s])-1, new_size))\n",
    "                means[drug,s] += standardized[drug][t][s]\n",
    "                stds[drug,s] += standardized[drug][t][s]*standardized[drug][t][s]\n",
    "            except ValueError:\n",
    "                print(f'vall err {drug} {t}')\n",
    "                break\n",
    "    for s in scores[drug][t]:\n",
    "        means[drug,s] /= len(scores[drug])\n",
    "        stds[drug,s] /= len(scores[drug])\n",
    "        stds[drug,s] -= means[drug,s]*means[drug,s]\n",
    "        stds[drug,s] = np.sqrt(stds[drug,s])\n",
    "    "
   ]
  },
  {
   "cell_type": "code",
   "execution_count": null,
   "id": "b00338a8",
   "metadata": {},
   "outputs": [],
   "source": [
    "import numpy as np\n",
    "from collections import OrderedDict\n",
    "from matplotlib.lines import Line2D\n",
    "\n",
    "def get_drug_sentiments(means, labels):\n",
    "    avg = defaultdict(list)\n",
    "    drug_order = {}\n",
    "    for drug1,sentiment1 in means:\n",
    "        avg[sentiment1].append(means[drug1,sentiment1].mean())\n",
    "        drug_order[drug1] = len(drug_order)-1\n",
    "    order_drug = {v:k for k,v in drug_order.items()}\n",
    "    \n",
    "    drug_sentiments = defaultdict(dict)\n",
    "    for sentiment in avg:\n",
    "        #print(f'\\nat sentiment {sentiment} np.argsort(avg[sentiment]):{np.argsort(avg[sentiment]):} ')\n",
    "        for i, idx in enumerate(np.argsort(avg[sentiment])):\n",
    "            #print(f'{order_drug[idx]} has {idx}'  )\n",
    "            drug_sentiments[order_drug[idx]][sentiment] = i - (len(order_drug)/2)\n",
    "    #print(f'\\nat sentiment {drug_sentiments[\"entactogen\"]} ')\n",
    "    return drug_sentiments\n",
    "        \n",
    "\n",
    "def plot_sentiment(labels, means, stds, keep_drugs, keep_sentiments,\n",
    "                   figsize=(42, 42), cols=5, rows=4, dpi=300, ncol=4):\n",
    "    fig, axes = plt.subplots(rows, cols, figsize=figsize, dpi=dpi)\n",
    "    cmap = plt.get_cmap('hsv')\n",
    "    colors = cmap(np.linspace(0, 1, len(labels)))\n",
    "    markers = \"v.,o1^2>348<spdxh*PH+XD|\"\n",
    "    o_drugs = sorted(labels)\n",
    "    \n",
    "    for sentiment, ax in zip(keep_sentiments, axes.ravel()):\n",
    "        for i, (drug, color) in enumerate(zip(o_drugs, colors)):\n",
    "            if drug not in keep_drugs:\n",
    "                continue\n",
    "\n",
    "            ax.plot(range(len(means[drug,sentiment])), means[drug,sentiment], \n",
    "                    c=color, marker=markers[i%len(markers)], \n",
    "                    label=drug.capitalize() if len(drug) > 4 else drug.upper(),\n",
    "                    fillstyle='none' if i%2==0 else 'full')\n",
    "            ax.fill_between(range(len(means[drug,sentiment])), \n",
    "                            means[drug,sentiment] - stds[drug,sentiment]/2, \n",
    "                            means[drug,sentiment] + stds[drug,sentiment]/2, \n",
    "                            color=color, alpha=0.05)\n",
    "        ax.set_title(f'{sentiment.capitalize()} Trajectory of Trip')\n",
    "        ax.set_xlabel('Time in Narrative')\n",
    "        ax.set_ylabel(sentiment.capitalize())\n",
    "        ax.set_xticks(())\n",
    "        ax.set_yticks(())\n",
    "        ax.legend(ncol=ncol)\n",
    "    plt.tight_layout()\n"
   ]
  },
  {
   "cell_type": "code",
   "execution_count": null,
   "id": "d1512f35",
   "metadata": {},
   "outputs": [],
   "source": [
    "drug_sentiments = get_drug_sentiments(means, classifier_model.output_names) \n"
   ]
  },
  {
   "cell_type": "code",
   "execution_count": null,
   "id": "660694aa",
   "metadata": {},
   "outputs": [],
   "source": [
    "keep_drugs = ['mdma', 'risperidone', 'venlafaxine', 'haloperidol', 'mirtazapine','bupropion', 'aripiprazole', 'sertraline']\n",
    "keep_sentiments = classifier_model.output_names\n",
    "keep_sentiments = ['love', 'excitement']\n",
    "plot_sentiment(df.drug.unique(), means, stds, keep_drugs, keep_sentiments,\n",
    "               figsize=(7, 6), cols=1, rows=2, ncol=4)\n",
    "plt.show()"
   ]
  },
  {
   "cell_type": "code",
   "execution_count": null,
   "id": "fefa205a",
   "metadata": {},
   "outputs": [],
   "source": [
    "keep_drugs = ['mdma', 'risperidone', 'venlafaxine', 'ariprazole', 'haloperidol', 'mirtazapine', 'morphine']\n",
    "keep_sentiments = classifier_model.output_names\n",
    "keep_sentiments = ['love', 'joy']\n",
    "plot_sentiment(df.drug.unique(), means, stds, keep_drugs, keep_sentiments,\n",
    "               figsize=(6, 6), cols=1, rows=2, ncol=3)\n",
    "plt.show()"
   ]
  },
  {
   "cell_type": "code",
   "execution_count": null,
   "id": "098f4157",
   "metadata": {},
   "outputs": [],
   "source": [
    "keep_drugs = ['amphetamine', 'methamphetamine', 'cocaine', 'sertraline', 'paroxetine', 'venlafaxine', \n",
    "              'mdma', 'mda', 'haloperidol']\n",
    "keep_sentiments = classifier_model.output_names\n",
    "keep_sentiments = ['anger', 'sadness']\n",
    "plot_sentiment(df.drug.unique(), means, stds, keep_drugs, keep_sentiments,\n",
    "               figsize=(6, 6), cols=1, rows=2, ncol=3)\n",
    "plt.show()"
   ]
  },
  {
   "cell_type": "code",
   "execution_count": null,
   "id": "a1768c8c",
   "metadata": {},
   "outputs": [],
   "source": [
    "import pickle\n",
    "# open file for writing\n",
    "# create a binary pickle file \n",
    "f = open(\"split_32_28_sentiment_scores_v2022_05_04.pkl\",\"wb\")\n",
    "\n",
    "# # write the python object (dict) to pickle file\n",
    "pickle.dump(scores,f)\n",
    "\n",
    "# # # write file\n",
    "# # f.write( str(scores) )\n",
    "\n",
    "# # # close file\n",
    "# # f.close()\n"
   ]
  },
  {
   "cell_type": "code",
   "execution_count": null,
   "id": "02b0daf2",
   "metadata": {},
   "outputs": [],
   "source": [
    "import pickle\n",
    "stats = Counter()\n",
    "def rec_dd():\n",
    "    return defaultdict(rec_dd)\n",
    "#scores = rec_dd()\n",
    "\n",
    "scores = pickle.load(open(\"split_32_28_sentiment_scores_v2022_04_26.pkl\", \"rb\"))\n",
    "\n"
   ]
  },
  {
   "cell_type": "code",
   "execution_count": null,
   "id": "745bfe10",
   "metadata": {},
   "outputs": [],
   "source": [
    "scores.update(scores2)\n",
    "[f for f in scores]"
   ]
  },
  {
   "cell_type": "code",
   "execution_count": null,
   "id": "4afb3db8",
   "metadata": {},
   "outputs": [],
   "source": [
    "def get_mean_trajectories(scores, column='psychoactive_class'):\n",
    "    standardized_psycho = rec_dd()\n",
    "    means_psycho = Counter()\n",
    "    stds_psycho = Counter()\n",
    "    new_size = 20\n",
    "    print(output_cols)\n",
    "    for drug in scores:\n",
    "        psychoactive_class = df[df.drug==drug][column].unique()[0]\n",
    "        for t in scores[drug]:\n",
    "            for s in scores[drug][t]:\n",
    "                try:\n",
    "                    interpolator = interp.interp1d(np.arange(len(scores[drug][t][s])), scores[drug][t][s])\n",
    "\n",
    "                    standardized_psycho[drug][t][s] = interpolator(np.linspace(0, len(scores[drug][t][s])-1, new_size))\n",
    "                    means_psycho[psychoactive_class,s] += standardized_psycho[drug][t][s]\n",
    "                    stds_psycho[psychoactive_class,s] += standardized_psycho[drug][t][s]*standardized_psycho[drug][t][s]\n",
    "                except ValueError as e:\n",
    "                    print(f'vall err {drug} {t} len: {len(scores[drug][t][s])} e:{e}')\n",
    "\n",
    "    for pc in df[column].unique():\n",
    "        n = 0\n",
    "        for drug in df[df[column]==pc].drug.unique():\n",
    "            n += len(standardized_psycho[drug])\n",
    "        print(f'Class {pc} has length: {n}')\n",
    "        for s in output_cols:\n",
    "            means_psycho[pc,s] /= n\n",
    "            stds_psycho[pc,s] /= n\n",
    "            stds_psycho[pc,s] -= means_psycho[pc,s]*means_psycho[pc,s]\n",
    "            stds_psycho[pc,s] = np.sqrt(stds_psycho[pc,s])\n",
    "    return standardized_psycho, means_psycho, stds_psycho"
   ]
  },
  {
   "cell_type": "code",
   "execution_count": null,
   "id": "66831930",
   "metadata": {},
   "outputs": [],
   "source": [
    "df.ligand_chemical_class.unique()"
   ]
  },
  {
   "cell_type": "code",
   "execution_count": null,
   "id": "5445668b",
   "metadata": {},
   "outputs": [],
   "source": [
    "standardized_d, means_d, stds_d = get_mean_trajectories(scores, column='drug')"
   ]
  },
  {
   "cell_type": "code",
   "execution_count": null,
   "id": "c2d3c695",
   "metadata": {},
   "outputs": [],
   "source": [
    "standardized_c, means_c, stds_c = get_mean_trajectories(scores, column='ligand_chemical_class')\n"
   ]
  },
  {
   "cell_type": "code",
   "execution_count": null,
   "id": "cc52de3c",
   "metadata": {},
   "outputs": [],
   "source": [
    "[c for c in df]"
   ]
  },
  {
   "cell_type": "code",
   "execution_count": null,
   "id": "957004dd",
   "metadata": {},
   "outputs": [],
   "source": [
    "standardized_psycho, means_psycho, stds_psycho = get_mean_trajectories(scores)"
   ]
  },
  {
   "cell_type": "code",
   "execution_count": null,
   "id": "b8be1f7d",
   "metadata": {},
   "outputs": [],
   "source": [
    "plot_sentiment(df.psychoactive_class.unique(), means_psycho, stds_psycho)"
   ]
  },
  {
   "cell_type": "code",
   "execution_count": null,
   "id": "5eceb8aa",
   "metadata": {},
   "outputs": [],
   "source": [
    "plot_sentiment(df.ligand_chemical_class.unique(), means_c, stds_c, figsize=(54, 42))"
   ]
  },
  {
   "cell_type": "code",
   "execution_count": null,
   "id": "0373e031",
   "metadata": {},
   "outputs": [],
   "source": [
    "\n",
    "standardized = rec_dd()\n",
    "peaks=Counter()\n",
    "peak_testimonials={}\n",
    "new_size = 10\n",
    "for drug in scores:\n",
    "    for t in scores[drug]:\n",
    "        for s in scores[drug][t]:\n",
    "            try:\n",
    "                interpolator = interp.interp1d(np.arange(len(scores[drug][t][s])), scores[drug][t][s])\n",
    "                standardized[drug][t][s] = interpolator(np.linspace(0, len(scores[drug][t][s])-1, new_size))\n",
    "                if max(standardized[drug][t][s]) > peaks[drug,s]:\n",
    "                    peak_testimonials[drug,s] = t\n",
    "                    peaks[drug,s] = max(standardized[drug][t][s])\n",
    "            except ValueError:\n",
    "                print(f'vall err {drug} {t}')\n",
    "for p in peaks:\n",
    "    if 'sadness' in p:\n",
    "        print(f'{p} has: {peaks[p]} and testi: {peak_testimonials[p]}')"
   ]
  },
  {
   "cell_type": "code",
   "execution_count": null,
   "id": "0b21d2f3",
   "metadata": {},
   "outputs": [],
   "source": [
    "standardized_psycho = rec_dd()\n",
    "means_psycho = Counter()\n",
    "stds_psycho = Counter()\n",
    "new_size = 20\n",
    "print(output_cols)\n",
    "for drug in scores:\n",
    "    psychoactive_class = df[df.drug==drug].psychoactive_class.unique()[0]\n",
    "    for t in scores[drug]:\n",
    "        for s in scores[drug][t]:\n",
    "            try:\n",
    "                interpolator = interp.interp1d(np.arange(len(scores[drug][t][s])), scores[drug][t][s])\n",
    "                \n",
    "                standardized_psycho[drug][t][s] = interpolator(np.linspace(0, len(scores[drug][t][s])-1, new_size))\n",
    "                means_psycho[psychoactive_class,s] += standardized_psycho[drug][t][s]\n",
    "                stds_psycho[psychoactive_class,s] += standardized_psycho[drug][t][s]*standardized_psycho[drug][t][s]\n",
    "            except ValueError as e:\n",
    "                print(f'vall err {drug} {t} len: {len(scores[drug][t][s])} e:{e}')\n",
    "\n",
    "for pc in df.psychoactive_class.unique():\n",
    "    n = 0\n",
    "    for drug in df[df.psychoactive_class==pc].drug.unique():\n",
    "        n += len(standardized_psycho[drug])\n",
    "    print(f'Class {pc} has length: {n}')\n",
    "    for s in output_cols:\n",
    "        means_psycho[pc,s] /= n\n",
    "        stds_psycho[pc,s] /= n\n",
    "        stds_psycho[pc,s] -= means_psycho[pc,s]*means_psycho[pc,s]\n",
    "        stds_psycho[pc,s] = np.sqrt(stds_psycho[pc,s])"
   ]
  },
  {
   "cell_type": "code",
   "execution_count": null,
   "id": "64328174",
   "metadata": {},
   "outputs": [],
   "source": [
    "[len(means_psycho[k]) for k in means_psycho]"
   ]
  },
  {
   "cell_type": "code",
   "execution_count": null,
   "id": "e6decd3e",
   "metadata": {},
   "outputs": [],
   "source": [
    "count = []\n",
    "for p in peaks:\n",
    "    if 'realization' in p:\n",
    "        print(f'{p} has: {peaks[p]} and testi: {peak_testimonials[p]}')\n",
    "        count.append(peaks[p])\n",
    "print(f'max has: {max(count)} and testi: {peak_testimonials[p]}')"
   ]
  },
  {
   "cell_type": "code",
   "execution_count": null,
   "id": "26dbf368",
   "metadata": {},
   "outputs": [],
   "source": [
    "output_cols"
   ]
  },
  {
   "cell_type": "code",
   "execution_count": null,
   "id": "508c6c31",
   "metadata": {},
   "outputs": [],
   "source": []
  },
  {
   "cell_type": "code",
   "execution_count": null,
   "id": "3710ff62",
   "metadata": {},
   "outputs": [],
   "source": [
    "#plot_sentiment(df.ligand_chemical_class.unique(), means_c, stds_c, figsize=(64, 42))"
   ]
  },
  {
   "cell_type": "code",
   "execution_count": null,
   "id": "1943da58",
   "metadata": {},
   "outputs": [],
   "source": [
    "plot_sentiment(df.drug.unique(), means_d, stds_d, figsize=(40, 64))"
   ]
  },
  {
   "cell_type": "code",
   "execution_count": null,
   "id": "64b1d363",
   "metadata": {},
   "outputs": [],
   "source": [
    "distances = {} \n",
    "idxs = Counter()\n",
    "jdxs = Counter()\n",
    "\n",
    "for drug1,sentiment1 in means:\n",
    "#     if 'love' not in sentiment1:\n",
    "#         continue\n",
    "    if sentiment1 not in distances:\n",
    "        distances[sentiment1] = np.zeros((len(scores),len(scores)))\n",
    "    for drug2,sentiment2 in means:\n",
    "        if sentiment1 != sentiment2:\n",
    "            continue\n",
    "        distance, path = fastdtw(means[drug1,sentiment1], \n",
    "                                 means[drug2,sentiment2], \n",
    "                                 dist=euclidean)\n",
    "        if means[drug1,sentiment1].mean() > means[drug2,sentiment2].mean():\n",
    "            sign = 1\n",
    "        else:\n",
    "            sign = -1\n",
    "        distances[sentiment1][idxs[sentiment1], jdxs[sentiment1]] = distance * sign\n",
    "        jdxs[sentiment1]+= 1\n",
    "    idxs[sentiment1]+=1\n",
    "    jdxs[sentiment1]=0\n",
    "    print(f'Finished Drug {drug1} of {len(means)} ')"
   ]
  },
  {
   "cell_type": "code",
   "execution_count": null,
   "id": "c1fad252",
   "metadata": {},
   "outputs": [],
   "source": [
    "print(means_psycho['tryptamine','surprise'])"
   ]
  },
  {
   "cell_type": "code",
   "execution_count": null,
   "id": "48edeb2f",
   "metadata": {},
   "outputs": [],
   "source": [
    "print(means_psycho['ssri','surprise'])"
   ]
  },
  {
   "cell_type": "code",
   "execution_count": null,
   "id": "741d49c9",
   "metadata": {},
   "outputs": [],
   "source": [
    "!pip install fastdtw\n",
    "\n",
    "from fastdtw import fastdtw\n",
    "from scipy.spatial.distance import euclidean\n",
    "def get_dtw(means, labels):\n",
    "    distances = {} \n",
    "    idxs = Counter()\n",
    "    jdxs = Counter()\n",
    "\n",
    "    for drug1,sentiment1 in means:\n",
    "    #     if 'love' not in sentiment1:\n",
    "    #         continue\n",
    "        if sentiment1 not in distances:\n",
    "            distances[sentiment1] = np.zeros((len(labels),len(labels)))\n",
    "        for drug2,sentiment2 in means:\n",
    "            if sentiment1 != sentiment2:\n",
    "                continue\n",
    "            distance, path = fastdtw(means[drug1,sentiment1], \n",
    "                                     means[drug2,sentiment2], \n",
    "                                     dist=euclidean)\n",
    "            if means[drug1,sentiment1].mean() > means[drug2,sentiment2].mean():\n",
    "                sign = 1\n",
    "            else:\n",
    "                sign = -1\n",
    "            distances[sentiment1][idxs[sentiment1], jdxs[sentiment1]] = distance * sign\n",
    "            jdxs[sentiment1]+= 1\n",
    "        idxs[sentiment1]+=1\n",
    "        jdxs[sentiment1]=0\n",
    "        print(f'Finished Drug {drug1} of {len(means)} ')\n",
    "    return distances"
   ]
  },
  {
   "cell_type": "code",
   "execution_count": null,
   "id": "b2334a67",
   "metadata": {},
   "outputs": [],
   "source": []
  },
  {
   "cell_type": "code",
   "execution_count": null,
   "id": "89cf8fd6",
   "metadata": {},
   "outputs": [],
   "source": []
  },
  {
   "cell_type": "code",
   "execution_count": null,
   "id": "54eb064e",
   "metadata": {},
   "outputs": [],
   "source": [
    "distances = get_dtw(means_psycho, df.psychoactive_class.unique())"
   ]
  },
  {
   "cell_type": "code",
   "execution_count": null,
   "id": "f8785a22",
   "metadata": {},
   "outputs": [],
   "source": [
    "def confusion_heatmap(confusion, labels, figsize=(24, 15), \n",
    "                      title='Emotion Heatmap'):\n",
    "    fig, ax = plt.subplots(figsize=figsize, dpi=300)\n",
    "    ax = sb.heatmap(confusion, cmap='bwr', cbar_kws={\"shrink\": .8}, cbar=True, ax=ax)\n",
    "\n",
    "    ax.set_title(title)\n",
    "    ax.set_xticks(np.arange(confusion.shape[0]) + 0.5)\n",
    "    ax.set_yticks(np.arange(confusion.shape[0]) + 0.5)\n",
    "    cbar = ax.collections[0].colorbar\n",
    "    cbar.set_ticks([np.min(confusion), np.max(confusion)])\n",
    "    cbar.set_ticklabels([f'Less \\n{title.split()[0].capitalize()}', \n",
    "                         f'More \\n{title.split()[0].capitalize()}'])\n",
    "    ax.set_xticklabels(labels=labels, ha='right', rotation=45)\n",
    "    ax.set_yticklabels(labels=labels, rotation=0)\n",
    "    plt.tight_layout()\n",
    "    figure_path='./confusion_heatmap.png'\n",
    "    if not os.path.exists(os.path.dirname(figure_path)):\n",
    "        os.makedirs(os.path.dirname(figure_path))\n",
    "    plt.savefig(figure_path)\n",
    "    plt.show()"
   ]
  },
  {
   "cell_type": "code",
   "execution_count": null,
   "id": "07a77cd9",
   "metadata": {},
   "outputs": [],
   "source": [
    "import seaborn as sb\n",
    "confusion_heatmap(distances['love'], df.psychoactive_class.unique())"
   ]
  },
  {
   "cell_type": "code",
   "execution_count": null,
   "id": "b1ae430e",
   "metadata": {},
   "outputs": [],
   "source": [
    "distances = get_dtw(means_psycho, df.psychoactive_class.unique())"
   ]
  },
  {
   "cell_type": "code",
   "execution_count": null,
   "id": "5e50e3e4",
   "metadata": {},
   "outputs": [],
   "source": [
    "#distances = defaultdict(list)\n",
    "for sentiment in distances:\n",
    "    confusion_heatmap(distances[sentiment], df.psychoactive_class.unique(), figsize=(5, 3),\n",
    "                      title=f'{sentiment.capitalize()} DTW Across Psychoactive Class Trajectories')    \n",
    "    "
   ]
  },
  {
   "cell_type": "code",
   "execution_count": null,
   "id": "27960bb4",
   "metadata": {},
   "outputs": [],
   "source": [
    "confusion_heatmap(distances['love'], df.psychoactive_class.unique())\n",
    "for sentiment in distances:\n",
    "    confusion_heatmap(distances[sentiment], df.psychoactive_class.unique(), figsize=(5, 3),\n",
    "                      title=f'{sentiment.capitalize()} DTW Across Psychoactive Class Trajectories') "
   ]
  }
 ],
 "metadata": {
  "kernelspec": {
   "display_name": "Python 3",
   "language": "python",
   "name": "python3"
  },
  "language_info": {
   "codemirror_mode": {
    "name": "ipython",
    "version": 3
   },
   "file_extension": ".py",
   "mimetype": "text/x-python",
   "name": "python",
   "nbconvert_exporter": "python",
   "pygments_lexer": "ipython3",
   "version": "3.6.9"
  }
 },
 "nbformat": 4,
 "nbformat_minor": 5
}
