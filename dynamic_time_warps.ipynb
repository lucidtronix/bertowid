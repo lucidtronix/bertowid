{
 "cells": [
  {
   "cell_type": "code",
   "execution_count": null,
   "id": "b60a3377",
   "metadata": {},
   "outputs": [],
   "source": [
    "import os\n",
    "import pickle\n",
    "import numpy as np\n",
    "import os\n",
    "import shutil\n",
    "from collections import Counter, defaultdict\n",
    "\n",
    "import numpy as np\n",
    "import pandas as pd\n",
    "import scipy.interpolate as interp\n",
    "from collections import OrderedDict\n",
    "from ml4h.TensorMap import TensorMap, Interpretation\n",
    "\n",
    "import tensorflow as tf\n",
    "import tensorflow_hub as hub\n",
    "#import tensorflow_text as text\n",
    "#from official.nlp import optimization\n",
    "\n",
    "import matplotlib.pyplot as plt\n",
    "from matplotlib.lines import Line2D"
   ]
  },
  {
   "cell_type": "code",
   "execution_count": null,
   "id": "38d86cba",
   "metadata": {},
   "outputs": [],
   "source": [
    "def rec_dd():\n",
    "    return defaultdict(rec_dd)\n",
    "scores = rec_dd()\n",
    "# # close file\n",
    "# f.close()\n",
    "scores = pickle.load(open(\"split_32_28_sentiment_scores_v2022_04_26.pkl\", \"rb\"))"
   ]
  },
  {
   "cell_type": "code",
   "execution_count": null,
   "id": "a14f3f8f",
   "metadata": {},
   "outputs": [],
   "source": [
    "standardized = rec_dd()\n",
    "peaks=Counter()\n",
    "peak_index = {}\n",
    "peak_testimonials={}\n",
    "new_size = 25\n",
    "for drug in scores:\n",
    "    for t in scores[drug]:\n",
    "        for si, s in enumerate(scores[drug][t]):\n",
    "            try:\n",
    "                interpolator = interp.interp1d(np.arange(len(scores[drug][t][s])), scores[drug][t][s])\n",
    "                standardized[drug][t][s] = interpolator(np.linspace(0, len(scores[drug][t][s])-1, new_size))\n",
    "                if max(scores[drug][t][s]) > peaks[drug,s]:\n",
    "                    peak_testimonials[drug,s] = t\n",
    "                    peaks[drug,s] = max(scores[drug][t][s])\n",
    "                    peak_index[drug,s] =  np.argmax(scores[drug][t][s])\n",
    "            except ValueError:\n",
    "                print(f'vall err {drug} {t}')\n"
   ]
  },
  {
   "cell_type": "code",
   "execution_count": null,
   "id": "ac6e42ab",
   "metadata": {},
   "outputs": [],
   "source": [
    "for p in peaks:\n",
    "    if 'sadness' in p:\n",
    "        print(f'{p} has: {peaks[p]:0.3f} and testi: {peak_testimonials[p]} at index: {peak_index[p]}')"
   ]
  },
  {
   "cell_type": "code",
   "execution_count": null,
   "id": "b43ee22c",
   "metadata": {},
   "outputs": [],
   "source": [
    "pzz = []\n",
    "count = []\n",
    "testi = []\n",
    "peak_sentence = {}\n",
    "for p in peaks:\n",
    "    \n",
    "    if p[-1] == 'sadness':\n",
    "        #print(p)\n",
    "        print(f'{p} has: {peaks[p]:0.3f} and testi: {peak_testimonials[p]} pi {peak_index[p]}')\n",
    "        count.append(peaks[p])\n",
    "        testi.append(peak_testimonials[p])\n",
    "\n",
    "        pzz.append(p)\n",
    "print(f'max has: {max(count)} and testi: {testi[np.argmax(count)]} at sentence: {peak_index[pzz[np.argmax(count)]]} drug, feeling {pzz[np.argmax(count)]}')"
   ]
  },
  {
   "cell_type": "code",
   "execution_count": null,
   "id": "9f9b8c14",
   "metadata": {},
   "outputs": [],
   "source": [
    "df = pd.read_csv(f'./split_32_all_drugs_v2022_04_22_meta_data.csv')\n",
    "step_size = 32\n",
    "df = df[df.text.notna()]\n",
    "peak_key = pzz[np.argmax(count)]\n",
    "ex = df[df.drug == peak_key[0]]\n",
    "ex = ex[ex.testimonial == testi[np.argmax(count)]]\n",
    "ex = ex[ex.sentence==peak_index[peak_key]]\n",
    "print(ex.iloc[0].text)"
   ]
  },
  {
   "cell_type": "code",
   "execution_count": null,
   "id": "5e3b4328",
   "metadata": {},
   "outputs": [],
   "source": [
    "count = []\n",
    "testi = []\n",
    "pzz = []\n",
    "for p in peaks:\n",
    "    if 'curiosity' in p:\n",
    "        #print(f'{p} has: {peaks[p]:0.3f} and testi: {peak_testimonials[p]} at index: {peak_index[p]}')\n",
    "        count.append(peaks[p])\n",
    "        testi.append(peak_testimonials[p])\n",
    "        pzz.append(p)\n",
    "print(f'max has: {max(count):.3f} and testi: {testi[np.argmax(count)]} drug, feeling {pzz[np.argmax(count)]}')\n",
    "peak_key = pzz[np.argmax(count)]\n",
    "ex = df[df.drug == peak_key[0]]\n",
    "ex = ex[ex.testimonial == testi[np.argmax(count)]]\n",
    "ex = ex[ex.sentence==peak_index[peak_key]]\n",
    "print(ex.iloc[0].text)"
   ]
  },
  {
   "cell_type": "code",
   "execution_count": null,
   "id": "b1b39c9b",
   "metadata": {},
   "outputs": [],
   "source": [
    "!pip install fastdtw\n",
    "\n",
    "from fastdtw import fastdtw\n",
    "from scipy.spatial.distance import euclidean"
   ]
  },
  {
   "cell_type": "code",
   "execution_count": null,
   "id": "502ac1c9",
   "metadata": {},
   "outputs": [],
   "source": [
    "standardized_psycho = rec_dd()\n",
    "means_psycho = Counter()\n",
    "stds_psycho = Counter()\n",
    "new_size = 20\n",
    "for drug in scores:\n",
    "    psychoactive_class = df[df.drug==drug].psychoactive_class.unique()[0]\n",
    "    for t in scores[drug]:\n",
    "        for s in scores[drug][t]:\n",
    "            try:\n",
    "                interpolator = interp.interp1d(np.arange(len(scores[drug][t][s])), scores[drug][t][s])\n",
    "                \n",
    "                standardized_psycho[psychoactive_class][t][s] = interpolator(np.linspace(0, len(scores[drug][t][s])-1, new_size))\n",
    "                means_psycho[psychoactive_class,s] += standardized_psycho[psychoactive_class][t][s]\n",
    "                stds_psycho[psychoactive_class,s] += standardized_psycho[psychoactive_class][t][s]*standardized_psycho[psychoactive_class][t][s]\n",
    "            except ValueError:\n",
    "                print(f'vall err {drug} {t}')\n",
    "    for s in standardized_psycho[psychoactive_class][t]:\n",
    "        means_psycho[psychoactive_class,s] /= len(standardized_psycho[psychoactive_class])\n",
    "        stds_psycho[psychoactive_class,s] /= len(standardized_psycho[psychoactive_class])\n",
    "        stds_psycho[psychoactive_class,s] -= means_psycho[psychoactive_class,s]*means[psychoactive_class,s]\n",
    "        stds_psycho[psychoactive_class,s] = np.sqrt(stds[psychoactive_class,s])\n",
    "    "
   ]
  },
  {
   "cell_type": "code",
   "execution_count": null,
   "id": "752c357b",
   "metadata": {},
   "outputs": [],
   "source": [
    "standardized = rec_dd()\n",
    "means = Counter()\n",
    "stds = Counter()\n",
    "new_size = 20\n",
    "for drug in scores:\n",
    "    for t in scores[drug]:\n",
    "        for s in scores[drug][t]:\n",
    "            try:\n",
    "                interpolator = interp.interp1d(np.arange(len(scores[drug][t][s])), scores[drug][t][s])\n",
    "                standardized[drug][t][s] = interpolator(np.linspace(0, len(scores[drug][t][s])-1, new_size))\n",
    "                means[drug,s] += standardized[drug][t][s]\n",
    "                stds[drug,s] += standardized[drug][t][s]*standardized[drug][t][s]\n",
    "            except ValueError:\n",
    "                print(f'vall err {drug} {t}')\n",
    "    for s in scores[drug][t]:\n",
    "        means[drug,s] /= len(scores[drug])\n",
    "        stds[drug,s] /= len(scores[drug])\n",
    "        stds[drug,s] -= means[drug,s]*means[drug,s]\n",
    "        stds[drug,s] = np.sqrt(stds[drug,s])\n",
    "    "
   ]
  },
  {
   "cell_type": "code",
   "execution_count": null,
   "id": "ebedc650",
   "metadata": {},
   "outputs": [],
   "source": [
    "distances = {} \n",
    "idxs = Counter()\n",
    "jdxs = Counter()\n",
    "\n",
    "for drug1,sentiment1 in means:\n",
    "#     if 'love' not in sentiment1:\n",
    "#         continue\n",
    "    if sentiment1 not in distances:\n",
    "        distances[sentiment1] = np.zeros((len(scores),len(scores)))\n",
    "    for drug2,sentiment2 in means:\n",
    "        if sentiment1 != sentiment2:\n",
    "            continue\n",
    "        distance, path = fastdtw(means[drug1,sentiment1], \n",
    "                                 means[drug2,sentiment2], \n",
    "                                 dist=euclidean)\n",
    "        if means[drug1,sentiment1].mean() > means[drug2,sentiment2].mean():\n",
    "            sign = 1\n",
    "        else:\n",
    "            sign = -1\n",
    "        distances[sentiment1][idxs[sentiment1], jdxs[sentiment1]] = distance * sign\n",
    "        jdxs[sentiment1]+= 1\n",
    "    idxs[sentiment1]+=1\n",
    "    jdxs[sentiment1]=0\n",
    "    print(f'Finished Drug {drug1} of {len(means)} ')\n",
    "#print(f'Drug {distances} ')\n",
    "\n"
   ]
  },
  {
   "cell_type": "code",
   "execution_count": null,
   "id": "84c69a82",
   "metadata": {},
   "outputs": [],
   "source": [
    "def confusion_heatmap(confusion, labels, cutoff=0.001, fmt='2d', figsize=(24, 15), \n",
    "                      title='Emotion Heatmap'):\n",
    "    fig, ax = plt.subplots(figsize=figsize, dpi=300)\n",
    "    ax = sb.heatmap(confusion, cmap='bwr', cbar_kws={\"shrink\": .8}, cbar=True, ax=ax)\n",
    "\n",
    "    ax.set_title(title)\n",
    "    ax.set_xticks(np.arange(confusion.shape[0]) + 0.5)\n",
    "    ax.set_yticks(np.arange(confusion.shape[0]) + 0.5)\n",
    "    cbar = ax.collections[0].colorbar\n",
    "    cbar.set_ticks([np.min(confusion), np.max(confusion)])\n",
    "    cbar.set_ticklabels([f'Less \\n{title.split()[0].capitalize()}', \n",
    "                         f'More \\n{title.split()[0].capitalize()}'])\n",
    "    ax.set_xticklabels(labels=labels, ha='right', rotation=45)\n",
    "    ax.set_yticklabels(labels=labels, rotation=0)\n",
    "    plt.tight_layout()\n",
    "    figure_path='./confusion_heatmap.png'\n",
    "    if not os.path.exists(os.path.dirname(figure_path)):\n",
    "        os.makedirs(os.path.dirname(figure_path))\n",
    "    plt.savefig(figure_path)\n",
    "    plt.show()"
   ]
  },
  {
   "cell_type": "code",
   "execution_count": null,
   "id": "d8d1b3ae",
   "metadata": {},
   "outputs": [],
   "source": [
    "import seaborn as sb\n",
    "confusion_heatmap(distances['love'], list(scores.keys()), fmt=\".2f\", figsize=(16, 10))"
   ]
  },
  {
   "cell_type": "code",
   "execution_count": null,
   "id": "0c9d2258",
   "metadata": {},
   "outputs": [],
   "source": [
    "confusion_heatmap(distances['joy'], list(scores.keys()), fmt=\".2f\", figsize=(16, 10),\n",
    "                 title='Joy Dynamic Time Warp Distances Cross-Correlation')"
   ]
  },
  {
   "cell_type": "code",
   "execution_count": null,
   "id": "d923a426",
   "metadata": {},
   "outputs": [],
   "source": [
    "confusion_heatmap(distances['realization'], list(scores.keys()), fmt=\".2f\", figsize=(16, 10),\n",
    "                 title='Realization Dynamic Time Warp Distances Cross-Correlation')"
   ]
  },
  {
   "cell_type": "code",
   "execution_count": null,
   "id": "77cf4b83",
   "metadata": {},
   "outputs": [],
   "source": [
    "confusion_heatmap(distances['sadness'], list(scores.keys()), fmt=\".2f\", figsize=(18, 12),\n",
    "                 title='Sadness Dynamic Time Warp Distances Cross-Correlation')"
   ]
  },
  {
   "cell_type": "code",
   "execution_count": null,
   "id": "5ea67210",
   "metadata": {},
   "outputs": [],
   "source": [
    "#distances = defaultdict(list)\n",
    "for sentiment in distances:\n",
    "    confusion_heatmap(distances[sentiment], \n",
    "                      list(scores.keys()), fmt=\".2f\", figsize=(15, 10),\n",
    "                      title=f'{sentiment.capitalize()} Dynamic Time Warp Cross Drug Trajectory Distances')    \n",
    "    "
   ]
  },
  {
   "cell_type": "code",
   "execution_count": null,
   "id": "cb36ae81",
   "metadata": {},
   "outputs": [],
   "source": [
    "for d in distances:\n",
    "    print(f'{d} has mean {np.mean(distances[d])}')"
   ]
  },
  {
   "cell_type": "code",
   "execution_count": null,
   "id": "1055646b",
   "metadata": {},
   "outputs": [],
   "source": [
    "df = pd.read_csv(f'./all_drugs_v2022_04_26_meta_data.csv')"
   ]
  },
  {
   "cell_type": "code",
   "execution_count": null,
   "id": "ecb8a316",
   "metadata": {},
   "outputs": [],
   "source": [
    "df[df.drug=='lsd'].psychoactive_class.unique()[0]"
   ]
  },
  {
   "cell_type": "code",
   "execution_count": null,
   "id": "951f4bcd",
   "metadata": {},
   "outputs": [],
   "source": []
  }
 ],
 "metadata": {
  "kernelspec": {
   "display_name": "Python 3",
   "language": "python",
   "name": "python3"
  },
  "language_info": {
   "codemirror_mode": {
    "name": "ipython",
    "version": 3
   },
   "file_extension": ".py",
   "mimetype": "text/x-python",
   "name": "python",
   "nbconvert_exporter": "python",
   "pygments_lexer": "ipython3",
   "version": "3.6.9"
  }
 },
 "nbformat": 4,
 "nbformat_minor": 5
}
