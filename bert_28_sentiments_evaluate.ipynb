{
 "cells": [
  {
   "cell_type": "code",
   "execution_count": null,
   "id": "af2c412a",
   "metadata": {},
   "outputs": [],
   "source": [
    "!pip install tensorflow-text==2.5\n",
    "!pip install tf-models-official==2.5"
   ]
  },
  {
   "cell_type": "code",
   "execution_count": null,
   "id": "9d5e23da",
   "metadata": {},
   "outputs": [],
   "source": [
    "import os\n",
    "import shutil\n",
    "from collections import Counter, defaultdict\n",
    "\n",
    "import numpy as np\n",
    "import pandas as pd\n",
    "import scipy.interpolate as interp\n",
    "from collections import OrderedDict\n",
    "from ml4h.TensorMap import TensorMap, Interpretation\n",
    "\n",
    "import tensorflow as tf\n",
    "import tensorflow_hub as hub\n",
    "import tensorflow_text as text\n",
    "from official.nlp import optimization\n",
    "\n",
    "import matplotlib.pyplot as plt\n",
    "from matplotlib.lines import Line2D\n",
    "\n",
    "tf.get_logger().setLevel('ERROR')"
   ]
  },
  {
   "cell_type": "code",
   "execution_count": null,
   "id": "023d4093",
   "metadata": {},
   "outputs": [],
   "source": [
    "#df = pd.read_csv(f'./test_sentences_128_meta_data.csv')\n",
    "df = pd.read_csv(f'/home/sam/unify-emotion-datasets/data/full_dataset/goemotions_1.csv')\n",
    "in_cols = ['text']\n",
    "output_columns = []\n",
    "for i,c in enumerate(df):\n",
    "    if i > 8:\n",
    "        print(df[c].value_counts())\n",
    "        output_columns.append(c)\n",
    "print(df.info())\n",
    "print(output_columns)\n",
    "tensor_maps_out = []\n",
    "for oc in output_columns:\n",
    "    tensor_maps_out.append(TensorMap(f'{oc}', Interpretation.CATEGORICAL, shape=(1,), \n",
    "                           channel_map={f'no_{oc}':0, f'{oc}':1}))"
   ]
  },
  {
   "cell_type": "code",
   "execution_count": null,
   "id": "8f0bd9ab",
   "metadata": {},
   "outputs": [],
   "source": [
    "epochs = 5\n",
    "num_train_steps = 100 * epochs\n",
    "num_warmup_steps = int(0.1*num_train_steps)\n",
    "\n",
    "init_lr = 3e-5\n",
    "optimizer = optimization.create_optimizer(init_lr=init_lr,\n",
    "                                          num_train_steps=num_train_steps,\n",
    "                                          num_warmup_steps=num_warmup_steps,\n",
    "                                          optimizer_type='adamw')\n",
    "classifier_model = tf.keras.models.load_model(f'./models/bert_{len(tensor_maps_out)}_sentiment_classifier_v2022_04_22', \n",
    "                                              custom_objects={'AdamWeightDecay':optimizer})"
   ]
  },
  {
   "cell_type": "code",
   "execution_count": null,
   "id": "1babf0c0",
   "metadata": {},
   "outputs": [],
   "source": [
    "#classifier_model.summary()\n"
   ]
  },
  {
   "cell_type": "code",
   "execution_count": null,
   "id": "f1c6cc70",
   "metadata": {},
   "outputs": [],
   "source": [
    "human = pd.read_csv('/home/sam/csvs/galen_to_label_v2022_06_30.csv')\n",
    "human.info()"
   ]
  },
  {
   "cell_type": "code",
   "execution_count": null,
   "id": "1c8cc186",
   "metadata": {},
   "outputs": [],
   "source": [
    "human = human[human.human_label.notna()]\n",
    "human.info()"
   ]
  },
  {
   "cell_type": "code",
   "execution_count": null,
   "id": "049cfa56",
   "metadata": {},
   "outputs": [],
   "source": [
    "top_n = 20\n",
    "stats = Counter()\n",
    "for index, row in human.iterrows():\n",
    "    print(f'\\n\\nText {row.text}')\n",
    "    \n",
    "    results = tf.nn.softmax(classifier_model(tf.constant([row.text]))).numpy()\n",
    "    machine = np.argsort(results[:, 0, 1], axis=0)\n",
    "    top = [str(classifier_model.output_names[m]) for m in machine[-20:]]\n",
    "    print(f'Human Emotions: {row.human_label}\\nMachine Emotions: {top[-5:]}')\n",
    "    for he in row.human_label.split(','):\n",
    "        human_e = he.strip().lower()\n",
    "        if human_e not in classifier_model.output_names:\n",
    "            continue\n",
    "#         if human_e == 'neutral':\n",
    "#             continue\n",
    "        stats[f'human_{human_e}'] += 1\n",
    "        stats['n'] += 1\n",
    "        if human_e in top[-len(row.human_label.split(',')):]:\n",
    "            stats['correct'] += 1\n",
    "            stats[f'human_{human_e}_correct'] += 1\n",
    "        else:\n",
    "            stats[f'human_{human_e}_wrong'] += 1\n",
    "        for n in range(1,top_n):\n",
    "            if human_e in top[-n:]:\n",
    "                stats[f'top_{n}'] += 1  \n",
    "\n",
    "\n",
    "for k, v in sorted(stats.items(), key = lambda x: x[0]):\n",
    "    print(f'{k} has {v}')\n",
    "\n",
    "    \n",
    "for n in range(1,top_n):\n",
    "    print(f\" Top {n} accuracy:{100*stats[f'top_{n}']/stats['n']:0.3f}%\")    \n",
    "\n",
    "print(f\"Galen Accuracy: {100*stats['correct']/stats['n']:0.3f}%,\")\n",
    "\n"
   ]
  },
  {
   "cell_type": "code",
   "execution_count": null,
   "id": "d42d79fa",
   "metadata": {},
   "outputs": [],
   "source": [
    "def plot_stats(stats, num_samples=20):\n",
    "    fig, ax = plt.subplots(figsize=(4, 4), dpi=300)\n",
    "    y = [100*stats[f'top_{t}']/stats['n'] for t in range(1,num_samples)]\n",
    "    ax.plot(range(1,num_samples), y, label='Psychiatrist')\n",
    "    y_chance = [100*t/28 for t in range(1,num_samples)]\n",
    "    ax.plot(range(1,num_samples), y_chance, label='Random')\n",
    "    ax.set_title(f\"Psychiatrist BERTiment Concordance\\nN = {len(human)}, Emotions = {stats['n']}\")\n",
    "    ax.set_xlabel('Top K of 28 Emotions')\n",
    "    ax.set_xticks([1,5,10,15])\n",
    "    ax.set_ylabel(f'Concordance (%)')\n",
    "    ax.legend()\n",
    "plot_stats(stats)"
   ]
  },
  {
   "cell_type": "code",
   "execution_count": null,
   "id": "a1934c8a",
   "metadata": {},
   "outputs": [],
   "source": [
    "original_results = tf.nn.softmax(classifier_model(tf.constant(words)))"
   ]
  },
  {
   "cell_type": "code",
   "execution_count": null,
   "id": "faad4b63",
   "metadata": {},
   "outputs": [],
   "source": [
    "for j,s in enumerate(words):\n",
    "    for i,ot in enumerate(classifier_model.output_names):\n",
    "        score = original_results[i, j, 1].numpy()\n",
    "        print(f'{s[:60]} <- {ot}: {score:0.6f}')"
   ]
  },
  {
   "cell_type": "code",
   "execution_count": null,
   "id": "387686d9",
   "metadata": {},
   "outputs": [],
   "source": [
    "df = pd.read_csv(f'./all_split_192_v2022_05_10_meta_data.csv')\n",
    "#df = pd.read_csv(f'./all_split_192_v2022_05_10_meta_data.csv')\n",
    "#df = pd.read_csv(f'./heroin_split_32_meta_data.csv')\n",
    "\n",
    "\n",
    "step_size = 32\n",
    "\n",
    "# df = df[df.age != 'Not Given']\n",
    "# df = df[df.sex_int.notna()]\n",
    "df = df[df.text.notna()]\n",
    "\n",
    "#df.psychoactive_class = 'opioid'\n",
    "#df.ligand_chemical_class = 'morphinan'\n",
    "df.psychoactive_class = df.psychoactive_class.apply(lambda x: x.strip())\n",
    "\n",
    "drug2class = {d:i for i,d in enumerate(df.drug.unique())}\n",
    "#psychoactive2class = {d:i for i,d in enumerate(df.psychoactive_class.unique())}\n",
    "class2weight = {i:(len(df)/len(df[df.drug==d])) for i,d in enumerate(df.drug.unique())}\n",
    "#print(psychoactive2class)\n",
    "df['drug_class'] = [drug2class[d] for d in df.drug]\n",
    "#df['psychoactive_class_int'] = [psychoactive2class[d] for d in df.psychoactive_class]\n",
    "df[[f'tag_{i}' for i in range(52) ]] = df[[f'tag_{i}' for i in range(52) ]].fillna(0)\n",
    "\n",
    "\n",
    "tags = {'Small_Group': 'tag_0', 'General': 'tag_1', 'First_Times': 'tag_2', 'Alone': 'tag_3', 'Difficult_Experiences': 'tag_4', 'Glowing_Experiences': 'tag_5', 'Retrospective_Summary': 'tag_6', 'Various': 'tag_7', 'Unknown_Context': 'tag_8', 'Mystical_Experiences': 'tag_9', 'Health_Problems': 'tag_10', 'Combinations': 'tag_11', 'Not_Applicable': 'tag_12', 'Bad_Trips': 'tag_13', 'Hangover_Days_After': 'tag_14', 'Entities_Beings': 'tag_15', 'Music_Discussion': 'tag_16', 'Addiction_Habituation': 'tag_17', 'Post_Trip_Problems': 'tag_18', 'Nature_Outdoors': 'tag_19', 'Relationships': 'tag_20', 'Depression': 'tag_21', 'Therapeutic_Intent_or_Outcome': 'tag_22', 'Overdose': 'tag_23', 'Medical_Use': 'tag_24', 'Sex_Discussion': 'tag_25', 'Train_Wrecks_Trip_Disasters': 'tag_26', 'Guides_Sitters': 'tag_27', 'Rave_Dance_Event': 'tag_28', 'Preparation_Recipes': 'tag_29', 'Festival_Lg_Crowd': 'tag_30', 'Health_Benefits': 'tag_31', 'Large_Group': 'tag_32', 'Multi-Day_Experience': 'tag_33', 'Club_Bar': 'tag_34', 'What_Was_in_That': 'tag_35', 'Personal_Preparation': 'tag_36', 'HPPD_Lasting_Visuals': 'tag_37', 'Families': 'tag_38', 'Second_Hand_Report': 'tag_39', 'Loss_of_Magic': 'tag_40', 'Hospital': 'tag_41', 'Public_Space': 'tag_42', 'School': 'tag_43', 'Poetry': 'tag_44', 'Performance_Enhancement': 'tag_45', 'Large_Party': 'tag_46', 'Group_Ceremony': 'tag_47', 'Workplace': 'tag_48', 'Cultivation_Synthesis': 'tag_49', 'Pregnancy_Baby': 'tag_50', 'Military': 'tag_51'}\n",
    "itags = {v: k.replace('(', '').replace(')', '').replace('/', '') for k, v in tags.items()}\n",
    "ctags = {v: int(k.replace('tag_', '')) for k, v in itags.items()}\n",
    "\n",
    "receptors = ['5_ht2a', '5_ht2c', '5_ht2b', '5_ht1a', '5_ht1b', '5_ht1d', '5_ht1e', '5_ht1f', '5_ht3', '5_ht5a', '5_ht6', '5_ht7', 'dopamine_d1', 'dopamine_d2', 'dopamine_d3', 'dopamine_d4', 'dopamine_d5', 'adrenergic_alpha1a', 'adrenergic_alpha1b', 'adrenergic_alpha2a', 'adrenergic_alpha2b', 'adrenergic_beta1', 'adrenergic_beta2', 'sert', 'dat', 'net', 'imidazoline_1', 'sigma_1', 'sigma_2', 'dor', 'kor', 'mor', 'm1', 'm2', 'm3', 'm4', 'm5', 'h1', 'h2', 'h3', 'h4', 'calcium_channel', 'nmda', 'cb1', 'cb2', 'glutamate_ampa', 'gaba_a', 'gaba_b', 'dopamine_d2_long', 'dopamine_d2_short', 'sodium_channel', 'taar1', 'substance_p', 'paf_platelet_activating_factor', 'prostaglandin_e3', 'prostaglandin_e4', 'herg', 'monoamine_oxidase_a', 'monoamine_oxidase_b', 'cholecystokinin_a', 'cholecystokinin_b']\n",
    "df[receptors] = df[receptors].astype(float)\n",
    "\n",
    "\n",
    "# stats = Counter()\n",
    "# def rec_dd():\n",
    "#     return defaultdict(rec_dd)\n",
    "# scores = rec_dd()\n",
    "\n",
    "df.head()"
   ]
  },
  {
   "cell_type": "code",
   "execution_count": null,
   "id": "6aec7c12",
   "metadata": {},
   "outputs": [],
   "source": [
    "from collections import defaultdict\n",
    "predictions = defaultdict(list)\n",
    "truths = defaultdict(list)\n",
    "\n",
    "def rec_dd():\n",
    "    return defaultdict(rec_dd)\n",
    "scores = rec_dd()\n",
    "\n",
    "last_t = 0\n",
    "max_testimonials = 400\n",
    "max_drugs = 62\n",
    "for index, row in df.iterrows():\n",
    "    if last_t != row.testimonial and len(scores[row.drug]) >= max_testimonials and len(scores) >= max_drugs:\n",
    "        break\n",
    "    if last_t != row.testimonial and len(scores[row.drug]) >= max_testimonials:\n",
    "        continue \n",
    "    results = classifier_model(tf.constant([row.text]))\n",
    "    results = np.array([tf.nn.softmax(r).numpy() for r in results])\n",
    "    if row.testimonial not in scores[row.drug]:\n",
    "        for i,sentiment in enumerate(classifier_model.output_names):\n",
    "            scores[row.drug][row.testimonial][sentiment] = []\n",
    "    for i,sentiment in enumerate(classifier_model.output_names):\n",
    "        scores[row.drug][row.testimonial][sentiment].append(results[i, 0, 1])\n",
    "        \n",
    "    if len(scores[row.drug]) % 10 == 0 and last_t != row.testimonial:\n",
    "        print(f'at {row.drug} with {len(scores[row.drug])} testimonials from {len(scores)} drug(s).')\n",
    "    last_t = row.testimonial\n"
   ]
  },
  {
   "cell_type": "code",
   "execution_count": null,
   "id": "da712dac",
   "metadata": {},
   "outputs": [],
   "source": [
    "for drug in scores:\n",
    "    lens = 0\n",
    "    for t in scores[drug]:\n",
    "        lens += len(scores[drug][t][\"love\"])\n",
    "    print(f'Drug {drug} mean testimonial length: {lens/len(scores[drug]):0.1f}')"
   ]
  },
  {
   "cell_type": "code",
   "execution_count": null,
   "id": "3be76902",
   "metadata": {},
   "outputs": [],
   "source": [
    "import pickle\n",
    "# open file for writing\n",
    "# create a binary pickle file \n",
    "f = open(\"split_32_28_sentiment_scores_v2022_05_04.pkl\",\"wb\")\n",
    "\n",
    "# # write the python object (dict) to pickle file\n",
    "pickle.dump(scores,f)\n",
    "\n",
    "# # # write file\n",
    "# # f.write( str(scores) )\n",
    "\n",
    "# # # close file\n",
    "# # f.close()"
   ]
  },
  {
   "cell_type": "code",
   "execution_count": null,
   "id": "d47246bc",
   "metadata": {},
   "outputs": [],
   "source": [
    "standardized = rec_dd()\n",
    "peaks=Counter()\n",
    "peak_index = {}\n",
    "peak_testimonials={}\n",
    "new_size = 25\n",
    "for drug in scores:\n",
    "    for t in scores[drug]:\n",
    "        for si, s in enumerate(scores[drug][t]):\n",
    "            try:\n",
    "                interpolator = interp.interp1d(np.arange(len(scores[drug][t][s])), scores[drug][t][s])\n",
    "                standardized[drug][t][s] = interpolator(np.linspace(0, len(scores[drug][t][s])-1, new_size))\n",
    "                if max(scores[drug][t][s]) > peaks[drug,s]:\n",
    "                    peak_testimonials[drug,s] = t\n",
    "                    peaks[drug,s] = max(scores[drug][t][s])\n",
    "                    peak_index[drug,s] =  np.argmax(scores[drug][t][s])\n",
    "            except ValueError:\n",
    "                print(f'vall err {drug} {t}')\n",
    "\n",
    "data = defaultdict(list)\n",
    "for sentiment in scores[drug][t]:\n",
    "    count = []\n",
    "    testi = []\n",
    "    pzz = []\n",
    "    for p in peaks:\n",
    "        if sentiment in p:\n",
    "            #print(f'{p} has: {peaks[p]:0.3f} and testi: {peak_testimonials[p]} at index: {peak_index[p]}')\n",
    "            count.append(peaks[p])\n",
    "            testi.append(peak_testimonials[p])\n",
    "            pzz.append(p)\n",
    "    print(f'\\nmax {sentiment.capitalize()} at drug {pzz[np.argmax(count)][0]} Testimonial: {testi[np.argmax(count)]} Sentence: {peak_index[pzz[np.argmax(count)]]}')\n",
    "    peak_key = pzz[np.argmax(count)]\n",
    "    ex = df[df.drug == peak_key[0]]\n",
    "    ex = ex[ex.testimonial == testi[np.argmax(count)]]\n",
    "    ex = ex[ex.sentence==peak_index[peak_key]]\n",
    "    print(ex.iloc[0].text)\n",
    "    print()\n",
    "    data['sentiment'].append(sentiment)\n",
    "    data['drug'].append(pzz[np.argmax(count)][0])\n",
    "    data['psychoactive_class'].append(ex.iloc[0].psychoactive_class)\n",
    "    data['ligand_chemical_class'].append(ex.iloc[0].ligand_chemical_class)\n",
    "    data['text'].append(ex.iloc[0].text)\n",
    "        \n",
    "exdf = pd.DataFrame.from_dict(data)\n",
    "exdf.to_csv('most_extreme_erowid_emotions_max100.csv', index=False)"
   ]
  },
  {
   "cell_type": "code",
   "execution_count": null,
   "id": "02b0daf2",
   "metadata": {},
   "outputs": [],
   "source": [
    "import pickle\n",
    "stats = Counter()\n",
    "def rec_dd():\n",
    "    return defaultdict(rec_dd)\n",
    "#scores = rec_dd()\n",
    "\n",
    "#scores = pickle.load(open(\"split_32_28_sentiment_100_scores_v2022_05_13.pkl\", \"rb\"))\n",
    "scores = pickle.load(open(\"split_32_28_sentiment_scores_v2022_04_26.pkl\", \"rb\"))"
   ]
  },
  {
   "cell_type": "code",
   "execution_count": null,
   "id": "5eae731e",
   "metadata": {},
   "outputs": [],
   "source": [
    "new_sizes = {}\n",
    "for drug in scores:\n",
    "    lens = 0\n",
    "    for t in scores[drug]:\n",
    "        lens += len(scores[drug][t][\"love\"])\n",
    "    print(f'Drug {drug} from {len(scores[drug])} testimonials, mean length: {lens/len(scores[drug]):0.1f}')"
   ]
  },
  {
   "cell_type": "code",
   "execution_count": null,
   "id": "4afb3db8",
   "metadata": {},
   "outputs": [],
   "source": [
    "def get_mean_trajectories(scores, output_columns, column='psychoactive_class', new_size = 0, out_col = \"love\"):\n",
    "    standardized_psycho = rec_dd()\n",
    "    means_psycho = Counter()\n",
    "    stds_psycho = Counter()\n",
    "    new_sizes = {}\n",
    "    for drug in scores:\n",
    "        lens = 0\n",
    "        for t in scores[drug]:\n",
    "            lens += len(scores[drug][t][out_col])\n",
    "        if new_size <= 0:\n",
    "            new_sizes[drug] = int(lens/len(scores[drug]))\n",
    "        else:\n",
    "            new_sizes[drug] = new_size\n",
    "            \n",
    "        print(f'Drug {drug} from {len(scores[drug])} testimonials, mean length: {lens/len(scores[drug]):0.1f} Interpt to: { new_sizes[drug]:0.0f}')\n",
    "    print(f'Output columns: {output_columns}')\n",
    "    for drug in scores:\n",
    "        psychoactive_class = df[df.drug==drug][column].unique()[0]\n",
    "        for t in scores[drug]:\n",
    "            for s in scores[drug][t]:\n",
    "                try:\n",
    "                    interpolator = interp.interp1d(np.arange(len(scores[drug][t][s])), scores[drug][t][s])\n",
    "\n",
    "                    standardized_psycho[drug][t][s] = interpolator(np.linspace(0, len(scores[drug][t][s])-1, new_sizes[drug]))\n",
    "                    means_psycho[psychoactive_class,s] += standardized_psycho[drug][t][s]\n",
    "                    stds_psycho[psychoactive_class,s] += standardized_psycho[drug][t][s]*standardized_psycho[drug][t][s]\n",
    "                except ValueError as e:\n",
    "                    print(f'vall err {drug} {t} len: {len(scores[drug][t][s])} e:{e}')\n",
    "                    break\n",
    "\n",
    "    for pc in df[column].unique():\n",
    "        n = 1\n",
    "        for drug in df[df[column]==pc].drug.unique():\n",
    "            n += len(standardized_psycho[drug])\n",
    "        print(f'Class {pc} has length: {n}')\n",
    "        for s in output_columns:\n",
    "            means_psycho[pc,s] /= n\n",
    "            stds_psycho[pc,s] /= n\n",
    "            stds_psycho[pc,s] -= means_psycho[pc,s]*means_psycho[pc,s]\n",
    "            stds_psycho[pc,s] = np.sqrt(stds_psycho[pc,s])\n",
    "    return standardized_psycho, means_psycho, stds_psycho\n",
    "\n",
    "\n",
    "def get_mean_trajectories_unadjusted(scores, column='psychoactive_class'):\n",
    "\n",
    "    means_psycho = Counter()\n",
    "    stds_psycho = Counter()\n",
    "    n_psycho = Counter()\n",
    "    new_size = 20\n",
    "    print(output_cols)\n",
    "    for drug in scores:\n",
    "        psychoactive_class = df[df.drug==drug][column].unique()[0]\n",
    "        for t in scores[drug]:\n",
    "            \n",
    "            for s in scores[drug][t]:\n",
    "                for n,a_score in enumerate(scores[drug][t][s]):\n",
    "                    if s == 'admiration':\n",
    "                        n_psycho[psychoactive_class,n] += 1\n",
    "                    \n",
    "                    means_psycho[psychoactive_class,s,n] += a_score\n",
    "                    stds_psycho[psychoactive_class,s,n] += a_score*a_score\n",
    "    for k in n_psycho:\n",
    "        print(f'{k} n psycho is: {n_psycho[k]}')\n",
    "    for pc in df[column].unique():\n",
    "        n = 0\n",
    "        while((pc,n) in n_psycho):\n",
    "            for s in output_cols:\n",
    "                means_psycho[pc,s,n] /= n_psycho[pc,n]\n",
    "                stds_psycho[pc,s,n] /= n_psycho[pc,n]\n",
    "                stds_psycho[pc,s,n] -= means_psycho[pc,s]*means_psycho[pc,s]\n",
    "                stds_psycho[pc,s,n] = np.sqrt(stds_psycho[pc,s])\n",
    "            n+=1\n",
    "    means_l = defaultdict(list)\n",
    "    stds_l = defaultdict(list)\n",
    "    for pc in df[column].unique():\n",
    "        n = 0\n",
    "        while((pc,n) in n_psycho):\n",
    "            for s in output_cols:\n",
    "                means_l[pc,s].append(means_psycho[pc,s,n])\n",
    "                stds_l[pc,s].append(stds_psycho[pc,s,n])\n",
    "            n += 1\n",
    "    return means_l, stds_l\n",
    "\n",
    "\n",
    "def plot_sentiment(labels, means, stds, keep_drugs, keep_sentiments,\n",
    "                   figsize=(42, 42), cols=5, rows=4, dpi=300, ncol=4):\n",
    "    fig, axes = plt.subplots(rows, cols, figsize=figsize, dpi=dpi)\n",
    "    cmap = plt.get_cmap('hsv')\n",
    "    colors = cmap(np.linspace(0, 1, len(labels)))\n",
    "    markers = \"v.,o1^2>348<spdxh*PH+XD|\"\n",
    "    o_drugs = sorted(labels)\n",
    "    \n",
    "    for sentiment, ax in zip(keep_sentiments, axes.ravel()):\n",
    "        for i, (drug, color) in enumerate(zip(o_drugs, colors)):\n",
    "            if drug not in keep_drugs:\n",
    "                continue\n",
    "\n",
    "            ax.plot(range(len(means[drug,sentiment])), means[drug,sentiment], \n",
    "                    c=color, marker=markers[i%len(markers)], \n",
    "                    label=drug.capitalize() if len(drug) > 4 else drug.upper(),\n",
    "                    fillstyle='none' if i%2==0 else 'full')\n",
    "            ax.fill_between(range(len(means[drug,sentiment])), \n",
    "                            means[drug,sentiment] - stds[drug,sentiment]/4, \n",
    "                            means[drug,sentiment] + stds[drug,sentiment]/4, \n",
    "                            color=color, alpha=0.05)\n",
    "        ax.set_title(f'{sentiment.capitalize()}', size=24)\n",
    "        ax.set_xlabel('Time in Narrative')\n",
    "        ax.set_ylabel(sentiment.capitalize())\n",
    "        ax.set_xticks(())\n",
    "        ax.set_yticks(())\n",
    "        ax.legend(ncol=ncol)\n",
    "    plt.tight_layout()"
   ]
  },
  {
   "cell_type": "code",
   "execution_count": null,
   "id": "edef8f2a",
   "metadata": {},
   "outputs": [],
   "source": [
    "umeans_d, ustds_d = get_mean_trajectories_unadjusted(scores, column='drug')"
   ]
  },
  {
   "cell_type": "code",
   "execution_count": null,
   "id": "66831930",
   "metadata": {},
   "outputs": [],
   "source": [
    "df.ligand_chemical_class.unique()"
   ]
  },
  {
   "cell_type": "code",
   "execution_count": null,
   "id": "73c776de",
   "metadata": {},
   "outputs": [],
   "source": [
    "standardized_p, means_p, stds_p = get_mean_trajectories(scores, output_columns,new_size=25)"
   ]
  },
  {
   "cell_type": "code",
   "execution_count": null,
   "id": "5445668b",
   "metadata": {},
   "outputs": [],
   "source": [
    "standardized_d, means_d, stds_d = get_mean_trajectories(scores, output_columns, column='drug', new_size=12)"
   ]
  },
  {
   "cell_type": "code",
   "execution_count": null,
   "id": "6fde3116",
   "metadata": {},
   "outputs": [],
   "source": [
    "standardized_c, means_c, stds_c = get_mean_trajectories(scores, output_columns, \n",
    "                                                        column='ligand_chemical_class', new_size=25)"
   ]
  },
  {
   "cell_type": "code",
   "execution_count": null,
   "id": "566ac8d6",
   "metadata": {},
   "outputs": [],
   "source": [
    "keep_drugs = ['amphetamine', 'methamphetamine', 'cocaine', 'sertraline', 'venlafaxine', \n",
    "              'mdma', 'haloperidol', 'dmt']\n",
    "#keep_sentiments = classifier_model.output_names\n",
    "keep_sentiments = ['sadness', 'love']\n",
    "plot_sentiment(df.drug.unique(), means_d, stds_d, keep_drugs, keep_sentiments,\n",
    "               figsize=(7.6, 6.6), cols=1, rows=2, ncol=4)\n",
    "plt.show()"
   ]
  },
  {
   "cell_type": "code",
   "execution_count": null,
   "id": "58d5e0e3",
   "metadata": {},
   "outputs": [],
   "source": [
    "keep_drugs = ['lsd', 'dmt', '5-meo-dmt', 'ketamine', 'psilocin', 'mescaline', 'ketamine', \n",
    "               'oxycodone', 'morphine',  'methadone']\n",
    "keep_sentiments = ['realization', 'curiosity', 'surprise', 'relief', 'confusion', 'amusement']\n",
    "plot_sentiment(df.drug.unique(), means_d, stds_d, keep_drugs, keep_sentiments,\n",
    "               figsize=(12, 11), cols=2, rows=3, ncol=3)\n",
    "plt.show()"
   ]
  },
  {
   "cell_type": "code",
   "execution_count": null,
   "id": "64af120d",
   "metadata": {},
   "outputs": [],
   "source": [
    "keep_drugs = ['amphetamine', 'methamphetamine', 'cocaine', 'sertraline', 'venlafaxine', \n",
    "              'mdma', 'mda', 'haloperidol', 'dmt']\n",
    "#keep_sentiments = classifier_model.output_names\n",
    "keep_sentiments = ['neutral', 'optimism']\n",
    "plot_sentiment(df.drug.unique(), means_d, stds_d, keep_drugs, keep_sentiments,\n",
    "               figsize=(7, 7), cols=1, rows=2, ncol=3)\n",
    "plt.show()"
   ]
  },
  {
   "cell_type": "code",
   "execution_count": null,
   "id": "c2d3c695",
   "metadata": {},
   "outputs": [],
   "source": [
    "standardized_c, means_c, stds_c = get_mean_trajectories(scores, column='ligand_chemical_class')\n"
   ]
  },
  {
   "cell_type": "code",
   "execution_count": null,
   "id": "957004dd",
   "metadata": {},
   "outputs": [],
   "source": [
    "standardized_p, means_p, stds_p= get_mean_trajectories(scores, new_size = 25)"
   ]
  },
  {
   "cell_type": "code",
   "execution_count": null,
   "id": "b8be1f7d",
   "metadata": {},
   "outputs": [],
   "source": [
    "keep_drugs = ['amphetamine', 'methamphetamine', 'cocaine', 'sertraline', 'venlafaxine', \n",
    "              'mdma', 'mda', 'haloperidol', 'dmt']\n",
    "\n",
    "#keep_sentiments = classifier_model.output_names\n",
    "keep_sentiments = ['neutral', 'optimism']\n",
    "plot_sentiment(df.psychoactive_class.unique(), means_p, stds_p, df.psychoactive_class.unique(), keep_sentiments,\n",
    "               figsize=(7, 7), cols=1, rows=2, ncol=2)\n",
    "plt.show()"
   ]
  },
  {
   "cell_type": "code",
   "execution_count": null,
   "id": "cd927071",
   "metadata": {},
   "outputs": [],
   "source": [
    "df.drug.unique()"
   ]
  },
  {
   "cell_type": "code",
   "execution_count": null,
   "id": "983a1e82",
   "metadata": {},
   "outputs": [],
   "source": [
    "keep_drugs = ['amphetamine', 'methamphetamine', 'cocaine', 'sertraline', 'venlafaxine', 'paroxetine',\n",
    "               'bupropion', 'olanzapine',\n",
    "              ]\n",
    "\n",
    "#keep_sentiments = classifier_model.output_names\n",
    "keep_sentiments = ['anger', 'sadness']\n",
    "plot_sentiment(df.drug.unique(), means_d, stds_d, keep_drugs, keep_sentiments,\n",
    "               figsize=(7, 7), cols=1, rows=2, ncol=2)\n",
    "plt.show()"
   ]
  },
  {
   "cell_type": "code",
   "execution_count": null,
   "id": "30ed37c4",
   "metadata": {},
   "outputs": [],
   "source": [
    "print(keep_drugs)"
   ]
  },
  {
   "cell_type": "code",
   "execution_count": null,
   "id": "8f297081",
   "metadata": {},
   "outputs": [],
   "source": [
    "classifier_model.output_names"
   ]
  },
  {
   "cell_type": "code",
   "execution_count": null,
   "id": "5eceb8aa",
   "metadata": {},
   "outputs": [],
   "source": [
    "keep_drugs = ['amphetamine', 'methamphetamine', 'cocaine', 'sertraline', 'venlafaxine', \n",
    "              'mdma', 'mda', 'haloperidol', 'dmt']\n",
    "keep_drugs = ['tryptamine', 'lysergamide', 'salvinorin',\n",
    " 'piperazine','piperazinoazepine','piperidine',\n",
    "              \n",
    " 'ssri' , 'snri']\n",
    "#keep_sentiments = classifier_model.output_names\n",
    "keep_sentiments = ['realization', 'confusion', 'curiosity', 'embarrassment']\n",
    "plot_sentiment(df.ligand_chemical_class.unique(), means_c, stds_c, keep_drugs, \n",
    "               keep_sentiments, figsize=(16, 8), cols=2, rows=2, ncol=4)\n",
    "plt.show()"
   ]
  },
  {
   "cell_type": "code",
   "execution_count": null,
   "id": "7e139f89",
   "metadata": {},
   "outputs": [],
   "source": [
    "keep_drugs = ['amphetamine', 'methamphetamine', 'cocaine', 'sertraline', 'venlafaxine', \n",
    "              'mdma', 'mda', 'haloperidol', 'dmt']\n",
    "keep_drugs = ['tryptamine', 'lysergamide', 'salvinorin',\n",
    " 'piperazine','piperidine','benzodiazepine',\n",
    "              \n",
    " 'ssri' , 'snri']\n",
    "#keep_sentiments = classifier_model.output_names\n",
    "keep_sentiments = ['realization', 'confusion', 'curiosity', 'embarrassment']\n",
    "plot_sentiment(df.ligand_chemical_class.unique(), means_c, stds_c, keep_drugs, \n",
    "               keep_sentiments, figsize=(16, 8), cols=2, rows=2, ncol=4)\n",
    "plt.show()"
   ]
  },
  {
   "cell_type": "code",
   "execution_count": null,
   "id": "0373e031",
   "metadata": {},
   "outputs": [],
   "source": [
    "keep_drugs = ['dmt', 'mescaline', 'psilocin', 'lsd', '5-meo-dmt', '2c-i',\n",
    "              'pcp', 'salvia', 'ketamine', 'morphine', 'hydromorphone', 'oxycodone']\n",
    "\n",
    "#keep_sentiments = classifier_model.output_names\n",
    "keep_sentiments = ['realization', 'confusion', 'curiosity', 'amusement', 'surprise', 'relief']\n",
    "plot_sentiment(df.drug.unique(), means_d, stds_d, keep_drugs, \n",
    "               keep_sentiments, figsize=(16, 12), cols=2, rows=3, ncol=4)\n",
    "plt.show()"
   ]
  },
  {
   "cell_type": "code",
   "execution_count": null,
   "id": "1943da58",
   "metadata": {},
   "outputs": [],
   "source": [
    "plot_sentiment(df.drug.unique(), means_d, stds_d, figsize=(40, 64))"
   ]
  },
  {
   "cell_type": "code",
   "execution_count": null,
   "id": "741d49c9",
   "metadata": {},
   "outputs": [],
   "source": [
    "!pip install fastdtw\n",
    "\n",
    "from fastdtw import fastdtw\n",
    "from scipy.spatial.distance import euclidean\n",
    "def get_dtw(means, labels):\n",
    "    distances = {} \n",
    "    idxs = Counter()\n",
    "    jdxs = Counter()\n",
    "\n",
    "    for drug1,sentiment1 in means:\n",
    "    #     if 'love' not in sentiment1:\n",
    "    #         continue\n",
    "        if sentiment1 not in distances:\n",
    "            distances[sentiment1] = np.zeros((len(labels),len(labels)))\n",
    "        for drug2,sentiment2 in means:\n",
    "            if sentiment1 != sentiment2:\n",
    "                continue\n",
    "            print(f'len {len(means[drug1,sentiment1])}  len2: {len(means[drug2,sentiment1])}')\n",
    "            distance, path = fastdtw(means[drug1,sentiment1], \n",
    "                                     means[drug2,sentiment2], \n",
    "                                     dist=euclidean)\n",
    "            if np.array(means[drug1,sentiment1]).mean() > np.array(means[drug2,sentiment2]).mean():\n",
    "                sign = 1\n",
    "            else:\n",
    "                sign = -1\n",
    "            distances[sentiment1][idxs[sentiment1], jdxs[sentiment1]] = distance * sign\n",
    "            jdxs[sentiment1]+= 1\n",
    "        idxs[sentiment1]+=1\n",
    "        jdxs[sentiment1]=0\n",
    "        print(f'Finished Drug {drug1} of {len(means)} ')\n",
    "    return distances"
   ]
  },
  {
   "cell_type": "code",
   "execution_count": null,
   "id": "1302e0e8",
   "metadata": {},
   "outputs": [],
   "source": [
    "p_distances = get_dtw(means_p, df.psychoactive_class.unique())"
   ]
  },
  {
   "cell_type": "code",
   "execution_count": null,
   "id": "b2334a67",
   "metadata": {},
   "outputs": [],
   "source": [
    "def confusion_heatmap(confusion, labels, figsize=(24, 15), \n",
    "                      title='Emotion Heatmap'):\n",
    "    fig, ax = plt.subplots(figsize=figsize, dpi=300)\n",
    "    ax = sb.heatmap(confusion, cmap='bwr', cbar_kws={\"shrink\": .8}, cbar=True, ax=ax)\n",
    "\n",
    "    ax.set_title(title, size=24)\n",
    "    ax.set_xticks(np.arange(confusion.shape[0]) + 0.5)\n",
    "    ax.set_yticks(np.arange(confusion.shape[0]) + 0.5)\n",
    "    cbar = ax.collections[0].colorbar\n",
    "    cbar.set_ticks([np.min(confusion), np.max(confusion)])\n",
    "    cbar.set_ticklabels([f'Less \\n{title.split()[0].capitalize()}', \n",
    "                         f'More \\n{title.split()[0].capitalize()}'])\n",
    "    ax.set_xticklabels(labels=[l.capitalize() if len(l) > 5 else l.upper() for l in labels], ha='right', rotation=45)\n",
    "    ax.set_yticklabels(labels=[l.capitalize() if len(l) > 5 else l.upper()  for l in labels], rotation=0)\n",
    "    plt.tight_layout()\n",
    "    figure_path='./confusion_heatmap.png'\n",
    "    if not os.path.exists(os.path.dirname(figure_path)):\n",
    "        os.makedirs(os.path.dirname(figure_path))\n",
    "    plt.savefig(figure_path)\n",
    "    plt.show()"
   ]
  },
  {
   "cell_type": "code",
   "execution_count": null,
   "id": "4d463444",
   "metadata": {},
   "outputs": [],
   "source": [
    "import seaborn as sb\n",
    "for sentiment in p_distances:\n",
    "    confusion_heatmap(p_distances[sentiment], df.psychoactive_class.unique(), figsize=(5, 3.5),\n",
    "                      title=f'{sentiment.capitalize()}')    \n",
    "    "
   ]
  },
  {
   "cell_type": "code",
   "execution_count": null,
   "id": "89cf8fd6",
   "metadata": {},
   "outputs": [],
   "source": [
    "distances = get_dtw(means_d, df.drug.unique())"
   ]
  },
  {
   "cell_type": "code",
   "execution_count": null,
   "id": "54eb064e",
   "metadata": {},
   "outputs": [],
   "source": [
    "import seaborn as sb\n",
    "confusion_heatmap(distances['love'], df.drug.unique(), figsize=(16,10), title='Love')"
   ]
  },
  {
   "cell_type": "code",
   "execution_count": null,
   "id": "f8785a22",
   "metadata": {},
   "outputs": [],
   "source": [
    "confusion_heatmap(distances['admiration'], df.drug.unique(), figsize=(16,10))"
   ]
  },
  {
   "cell_type": "code",
   "execution_count": null,
   "id": "09cceb8a",
   "metadata": {},
   "outputs": [],
   "source": [
    "confusion_heatmap(distances['fear'], df.drug.unique(), figsize=(16,10))"
   ]
  },
  {
   "cell_type": "code",
   "execution_count": null,
   "id": "ca2fd9b0",
   "metadata": {},
   "outputs": [],
   "source": [
    "confusion_heatmap(distances['disgust'], df.drug.unique(), figsize=(16,10))"
   ]
  },
  {
   "cell_type": "code",
   "execution_count": null,
   "id": "07a77cd9",
   "metadata": {},
   "outputs": [],
   "source": [
    "import seaborn as sb\n",
    "confusion_heatmap(distances['love'], df.psychoactive_class.unique())"
   ]
  },
  {
   "cell_type": "code",
   "execution_count": null,
   "id": "b1ae430e",
   "metadata": {},
   "outputs": [],
   "source": [
    "distances['love'].shape"
   ]
  },
  {
   "cell_type": "code",
   "execution_count": null,
   "id": "5e50e3e4",
   "metadata": {},
   "outputs": [],
   "source": []
  },
  {
   "cell_type": "code",
   "execution_count": null,
   "id": "9d9b49cb",
   "metadata": {},
   "outputs": [],
   "source": [
    "def get_drug_sentiments(means, labels):\n",
    "    avg = defaultdict(list)\n",
    "    drug_order = {}\n",
    "    for drug1,sentiment1 in means:\n",
    "        avg[sentiment1].append(means[drug1,sentiment1].mean())\n",
    "        drug_order[drug1] = len(drug_order)-1\n",
    "    order_drug = {v:k for k,v in drug_order.items()}\n",
    "    \n",
    "    drug_sentiments = defaultdict(dict)\n",
    "    for sentiment in avg:\n",
    "        #print(f'\\nat sentiment {sentiment} np.argsort(avg[sentiment]):{np.argsort(avg[sentiment]):} ')\n",
    "        for i, idx in enumerate(np.argsort(avg[sentiment])):\n",
    "            #print(f'{order_drug[idx]} has {idx}'  )\n",
    "            drug_sentiments[order_drug[idx]][sentiment] = i - (len(order_drug)/2)\n",
    "    #print(f'\\nat sentiment {drug_sentiments[\"entactogen\"]} ')\n",
    "    return drug_sentiments\n",
    "        \n",
    "        \n",
    "drug_sentiments = get_drug_sentiments(means_d, output_columns)        "
   ]
  },
  {
   "cell_type": "code",
   "execution_count": null,
   "id": "995e1e19",
   "metadata": {},
   "outputs": [],
   "source": [
    "p_sentiments = get_drug_sentiments(means_p, output_columns)    "
   ]
  },
  {
   "cell_type": "code",
   "execution_count": null,
   "id": "b4cb096c",
   "metadata": {},
   "outputs": [],
   "source": [
    "c_sentiments = get_drug_sentiments(means_c, output_columns)    "
   ]
  },
  {
   "cell_type": "code",
   "execution_count": null,
   "id": "aaa54fb2",
   "metadata": {},
   "outputs": [],
   "source": [
    "agrees = [('annoyance', -0.5344732645347968),\n",
    " ('nervousness', -0.510669535095979),\n",
    " ('embarrassment', -0.5051026528532618),\n",
    " ('disapproval', -0.47925662915486605),\n",
    " ('disgust', -0.45396932002450086),\n",
    " ('disappointment', -0.44460392944701455),\n",
    " ('anger', -0.4056618042592467),\n",
    " ('sadness', -0.3906127742858656),\n",
    " ('grief', -0.34479892700251286),\n",
    " ('fear', -0.329826291616709),\n",
    " ('remorse', -0.24441154029927206),\n",
    " ('neutral', -0.18857309773063533),\n",
    " ('confusion', -0.16747687799665423),\n",
    " ('caring', -0.031466636020550026),\n",
    " ('relief', 0.008632272914382256),\n",
    " ('desire', 0.019039286463182307),\n",
    " ('curiosity', 0.05119058863343657),\n",
    " ('amusement', 0.11223702119570078),\n",
    " ('realization', 0.11545442106395289),\n",
    " ('optimism', 0.1437452267129484),\n",
    " ('gratitude', 0.1862795441962794),\n",
    " ('surprise', 0.1936036781292831),\n",
    " ('excitement', 0.25960061830614545),\n",
    " ('joy', 0.32537628132345764),\n",
    " ('love', 0.37134711022473577),\n",
    " ('approval', 0.4608826740570749),\n",
    " ('pride', 0.48951957939259805),\n",
    " ('admiration', 0.5222207250518904)]\n",
    "labels = [l[0] for l in agrees]\n",
    "#emos = [(l, drug_sentiments[\"mdma\"][l]) for l in labels]"
   ]
  },
  {
   "cell_type": "code",
   "execution_count": null,
   "id": "b8371300",
   "metadata": {},
   "outputs": [],
   "source": [
    "def get_drug_sentiments(means, labels):\n",
    "    avg = defaultdict(list)\n",
    "    drug_order = {}\n",
    "    for drug1,sentiment1 in means:\n",
    "        avg[sentiment1].append(means[drug1,sentiment1].mean())\n",
    "        drug_order[drug1] = len(drug_order)-1\n",
    "    order_drug = {v:k for k,v in drug_order.items()}\n",
    "    \n",
    "    drug_sentiments = defaultdict(dict)\n",
    "    for sentiment in avg:\n",
    "        #print(f'\\nat sentiment {sentiment} np.argsort(avg[sentiment]):{np.argsort(avg[sentiment]):} ')\n",
    "        for i, idx in enumerate(np.argsort(avg[sentiment])):\n",
    "            #print(f'{order_drug[idx]} has {idx}'  )\n",
    "            drug_sentiments[order_drug[idx]][sentiment] = i - (len(order_drug)/2)\n",
    "    #print(f'\\nat sentiment {drug_sentiments[\"entactogen\"]} ')\n",
    "    return drug_sentiments\n",
    "        \n",
    "        \n",
    "#drug_sentiments = get_drug_sentiments(means_d, classifier_model.output_names)  \n",
    "\n",
    "def plot_emo_drug(title, agrees):\n",
    "    _ = plt.figure(figsize=(0.8, 6.2), dpi=300)\n",
    "    my_cmap = plt.get_cmap(\"Spectral\")\n",
    "    rescale = lambda y: (y - np.min(y)) / (np.max(y) - np.min(y))\n",
    "    plt.barh(range(len(agrees)), [t[1] for t in agrees], color=my_cmap(rescale([t[1] for t in agrees])))\n",
    "    plt.axvline(0.0, linestyle='dashed', c='orange')\n",
    "    plt.yticks(np.arange(len(agrees)), [t[0].capitalize() for t in agrees], ha='right')\n",
    "    plt.yticks(())\n",
    "    plt.title(title, size=12)\n",
    "    plt.xticks(())\n",
    "    plt.xlabel('Rank')\n",
    "    plt.box(False)  "
   ]
  },
  {
   "cell_type": "code",
   "execution_count": null,
   "id": "93832148",
   "metadata": {},
   "outputs": [],
   "source": [
    "for psy in p_sentiments:\n",
    "    emos = [(l, p_sentiments[psy][l]) for l in labels]\n",
    "    plot_emo_drug(psy.capitalize(), emos)"
   ]
  },
  {
   "cell_type": "code",
   "execution_count": null,
   "id": "deef9ba7",
   "metadata": {},
   "outputs": [],
   "source": [
    "for d in drug_sentiments:\n",
    "    emos = [(l, drug_sentiments[d][l]) for l in labels]\n",
    "    plot_emo_drug(d.capitalize() if len(d)>5 else d.upper(), emos)"
   ]
  },
  {
   "cell_type": "code",
   "execution_count": null,
   "id": "fddb1020",
   "metadata": {},
   "outputs": [],
   "source": [
    "#emos = sorted(drug_sentiments[\"lsd\"].items(), key = lambda x: x[1])\n",
    "emos = [(l, drug_sentiments[\"lsd\"][l]) for l in labels]\n",
    "plot_emo_drug('LSD', emos)"
   ]
  },
  {
   "cell_type": "code",
   "execution_count": null,
   "id": "0b55a302",
   "metadata": {},
   "outputs": [],
   "source": [
    "emos = [(l, drug_sentiments[\"morphine\"][l]) for l in labels]\n",
    "plot_emo_drug('Morphine', emos)"
   ]
  },
  {
   "cell_type": "code",
   "execution_count": null,
   "id": "22848da8",
   "metadata": {},
   "outputs": [],
   "source": [
    "#emos = sorted(drug_sentiments[\"pcp\"].items(), key = lambda x: x[1])\n",
    "emos = [(l, drug_sentiments[\"haloperidol\"][l]) for l in labels]\n",
    "plot_emo_drug('Haloperidol', emos)"
   ]
  },
  {
   "cell_type": "code",
   "execution_count": null,
   "id": "5ea54a70",
   "metadata": {},
   "outputs": [],
   "source": [
    "emos = [(l, drug_sentiments[\"cocaine\"][l]) for l in labels]\n",
    "plot_emo_drug('Cocaine', emos)"
   ]
  },
  {
   "cell_type": "code",
   "execution_count": null,
   "id": "74e24f2d",
   "metadata": {},
   "outputs": [],
   "source": [
    "emos = [(l, drug_sentiments[\"risperidone\"][l]) for l in labels]\n",
    "plot_emo_drug('Risperidone', emos)"
   ]
  },
  {
   "cell_type": "code",
   "execution_count": null,
   "id": "a77c4f45",
   "metadata": {},
   "outputs": [],
   "source": [
    "emos = [(l, drug_sentiments[\"alprazolam\"][l]) for l in labels]\n",
    "plot_emo_drug('Alprazolam', emos)"
   ]
  },
  {
   "cell_type": "code",
   "execution_count": null,
   "id": "07b6ce11",
   "metadata": {},
   "outputs": [],
   "source": [
    "emos = [(l, drug_sentiments[\"bupropion\"][l]) for l in labels]\n",
    "plot_emo_drug('Bupropion', emos)"
   ]
  },
  {
   "cell_type": "code",
   "execution_count": null,
   "id": "eee9f7c2",
   "metadata": {},
   "outputs": [],
   "source": [
    "emos = [(l, drug_sentiments[\"venlafaxine\"][l]) for l in labels]\n",
    "plot_emo_drug('Venlafaxine', emos)"
   ]
  },
  {
   "cell_type": "code",
   "execution_count": null,
   "id": "9d7252bb",
   "metadata": {},
   "outputs": [],
   "source": [
    "emos = [(l, drug_sentiments[\"methamphetamine\"][l]) for l in labels]\n",
    "plot_emo_drug('Methamphetamine', emos)"
   ]
  },
  {
   "cell_type": "code",
   "execution_count": null,
   "id": "b90b3b1d",
   "metadata": {},
   "outputs": [],
   "source": [
    "emos = [(l, drug_sentiments[\"amphetamine\"][l]) for l in labels]\n",
    "plot_emo_drug('Amphetamine', emos)"
   ]
  },
  {
   "cell_type": "code",
   "execution_count": null,
   "id": "7d11b8ec",
   "metadata": {},
   "outputs": [],
   "source": [
    "emos = [(l, p_sentiments[\"depressant\"][l]) for l in labels]\n",
    "plot_emo_drug('Depressant', emos) "
   ]
  },
  {
   "cell_type": "code",
   "execution_count": null,
   "id": "41c8f878",
   "metadata": {},
   "outputs": [],
   "source": [
    "emos = [(l, p_sentiments[\"antipsychotic\"][l]) for l in labels]\n",
    "plot_emo_drug('Antipsychotic', emos) "
   ]
  },
  {
   "cell_type": "code",
   "execution_count": null,
   "id": "c59a38a7",
   "metadata": {},
   "outputs": [],
   "source": [
    "emos = [(l, p_sentiments[\"stimulant\"][l]) for l in labels]\n",
    "plot_emo_drug('Stimulant', emos) "
   ]
  },
  {
   "cell_type": "code",
   "execution_count": null,
   "id": "9376a9f8",
   "metadata": {},
   "outputs": [],
   "source": [
    "emos = [(l, p_sentiments[\"opioid\"][l]) for l in labels]\n",
    "plot_emo_drug('Opioid', emos)"
   ]
  },
  {
   "cell_type": "code",
   "execution_count": null,
   "id": "de51e253",
   "metadata": {},
   "outputs": [],
   "source": [
    "emos = sorted(drug_sentiments[\"psychedelic\"].items(), key = lambda x: x[1])\n",
    "plot_emo_drug('Psychedelic Emotion Scape', emos)"
   ]
  },
  {
   "cell_type": "code",
   "execution_count": null,
   "id": "2c405362",
   "metadata": {},
   "outputs": [],
   "source": [
    "emos = sorted(drug_sentiments[\"hallucinogen\"].items(), key = lambda x: x[1])\n",
    "plot_emo_drug('Hallucinogen Emotion Scape', emos)"
   ]
  },
  {
   "cell_type": "code",
   "execution_count": null,
   "id": "de88bf3e",
   "metadata": {},
   "outputs": [],
   "source": [
    "emos = sorted(drug_sentiments[\"dissociative\"].items(), key = lambda x: x[1])\n",
    "plot_emo_drug('Dissociative Emotion Scape', emos)"
   ]
  },
  {
   "cell_type": "code",
   "execution_count": null,
   "id": "f9c55603",
   "metadata": {},
   "outputs": [],
   "source": [
    "emos = sorted(d_sentiments[\"antidepressant\"].items(), key = lambda x: x[1])\n",
    "plot_emo_drug('Antidepressant', emos)"
   ]
  },
  {
   "cell_type": "code",
   "execution_count": null,
   "id": "e1d9308d",
   "metadata": {},
   "outputs": [],
   "source": [
    "emos = sorted(drug_sentiments[\"antipsychotic\"].items(), key = lambda x: x[1])\n",
    "plot_emo_drug('Antipsychotic', emos)"
   ]
  },
  {
   "cell_type": "code",
   "execution_count": null,
   "id": "6b4572fd",
   "metadata": {},
   "outputs": [],
   "source": [
    "emos = sorted(drug_sentiments[\"deliriant\"].items(), key = lambda x: x[1])\n",
    "plot_emo_drug('Deliriant EmotionScape', emos)"
   ]
  },
  {
   "cell_type": "code",
   "execution_count": null,
   "id": "978c090b",
   "metadata": {},
   "outputs": [],
   "source": [
    "drug_sentiments = get_drug_sentiments(means_d, classifier_model.output_names)\n",
    "emos = sorted(drug_sentiments[\"mdma\"].items(), key = lambda x: x[1])\n",
    "plot_emo_drug('MDMA Emotion Scape', emos)"
   ]
  },
  {
   "cell_type": "code",
   "execution_count": null,
   "id": "a8964180",
   "metadata": {},
   "outputs": [],
   "source": [
    "c_sentiments = get_drug_sentiments(means_c, df.ligand_chemical_class.unique())"
   ]
  },
  {
   "cell_type": "code",
   "execution_count": null,
   "id": "c660cc1f",
   "metadata": {},
   "outputs": [],
   "source": [
    "list(c_sentiments.keys())"
   ]
  },
  {
   "cell_type": "code",
   "execution_count": null,
   "id": "291911ab",
   "metadata": {},
   "outputs": [],
   "source": [
    "emos = [(l, c_sentiments[\"phenethylamine\"][l]) for l in labels]\n",
    "plot_emo_drug('Phenethylamine', emos)"
   ]
  },
  {
   "cell_type": "code",
   "execution_count": null,
   "id": "beae23d4",
   "metadata": {},
   "outputs": [],
   "source": [
    "emos = [(l, c_sentiments[\"tryptamine\"][l]) for l in labels]\n",
    "plot_emo_drug('Tryptamine', emos)"
   ]
  },
  {
   "cell_type": "code",
   "execution_count": null,
   "id": "ef36962c",
   "metadata": {},
   "outputs": [],
   "source": [
    "emos = [(l, c_sentiments[\"lysergamide\"][l]) for l in labels]\n",
    "plot_emo_drug('Lysergamide', emos)"
   ]
  },
  {
   "cell_type": "code",
   "execution_count": null,
   "id": "8e77ba7d",
   "metadata": {},
   "outputs": [],
   "source": [
    "emos = [(l, c_sentiments[\"snri\"][l]) for l in labels]\n",
    "plot_emo_drug('SNRI', emos)"
   ]
  },
  {
   "cell_type": "code",
   "execution_count": null,
   "id": "cea7019f",
   "metadata": {},
   "outputs": [],
   "source": [
    "emos = [(l, c_sentiments[\"ssri\"][l]) for l in labels]\n",
    "plot_emo_drug('SSRI', emos)"
   ]
  },
  {
   "cell_type": "code",
   "execution_count": null,
   "id": "f8989239",
   "metadata": {},
   "outputs": [],
   "source": [
    "p_sentiments = get_drug_sentiments(means_p, df.psychoactive_class.unique())"
   ]
  },
  {
   "cell_type": "code",
   "execution_count": null,
   "id": "fd20b208",
   "metadata": {},
   "outputs": [],
   "source": [
    "emos = [(l, p_sentiments[\"opioid\"][l]) for l in labels]\n",
    "plot_emo_drug('Opioid', emos)"
   ]
  },
  {
   "cell_type": "code",
   "execution_count": null,
   "id": "3179a788",
   "metadata": {},
   "outputs": [],
   "source": [
    "emos = [(l, p_sentiments[\"deliriant\"][l]) for l in labels]\n",
    "plot_emo_drug('Deliriant', emos)"
   ]
  },
  {
   "cell_type": "code",
   "execution_count": null,
   "id": "17caca35",
   "metadata": {},
   "outputs": [],
   "source": [
    "emos = [(l, p_sentiments[\"hallucinogen\"][l]) for l in labels]\n",
    "plot_emo_drug('Hallucinogen', emos)"
   ]
  },
  {
   "cell_type": "code",
   "execution_count": null,
   "id": "de0fb66b",
   "metadata": {},
   "outputs": [],
   "source": [
    "emos = [(l, p_sentiments[\"psychedelic\"][l]) for l in labels]\n",
    "plot_emo_drug('Psychedelic', emos)"
   ]
  },
  {
   "cell_type": "code",
   "execution_count": null,
   "id": "b1fc8e5f",
   "metadata": {},
   "outputs": [],
   "source": [
    "emos = [(l, p_sentiments[\"entactogen\"][l]) for l in labels]\n",
    "plot_emo_drug('Entactogen', emos)"
   ]
  },
  {
   "cell_type": "code",
   "execution_count": null,
   "id": "6ee7d73c",
   "metadata": {},
   "outputs": [],
   "source": []
  },
  {
   "cell_type": "code",
   "execution_count": null,
   "id": "4e298404",
   "metadata": {},
   "outputs": [],
   "source": []
  }
 ],
 "metadata": {
  "kernelspec": {
   "display_name": "Python 3",
   "language": "python",
   "name": "python3"
  },
  "language_info": {
   "codemirror_mode": {
    "name": "ipython",
    "version": 3
   },
   "file_extension": ".py",
   "mimetype": "text/x-python",
   "name": "python",
   "nbconvert_exporter": "python",
   "pygments_lexer": "ipython3",
   "version": "3.6.9"
  }
 },
 "nbformat": 4,
 "nbformat_minor": 5
}
