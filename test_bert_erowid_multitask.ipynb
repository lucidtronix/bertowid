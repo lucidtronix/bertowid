{
 "cells": [
  {
   "cell_type": "code",
   "execution_count": null,
   "id": "b60b0f51",
   "metadata": {},
   "outputs": [],
   "source": [
    "!pip install tensorflow-text==2.5\n",
    "!pip install tf-models-official==2.5"
   ]
  },
  {
   "cell_type": "code",
   "execution_count": null,
   "id": "f3d39763",
   "metadata": {},
   "outputs": [],
   "source": [
    "import os\n",
    "import shutil\n",
    "\n",
    "import pandas as pd\n",
    "import numpy as np\n",
    "\n",
    "import tensorflow as tf\n",
    "import tensorflow_hub as hub\n",
    "import tensorflow_text as text\n",
    "from official.nlp import optimization\n",
    "from tensorflow.keras.callbacks import ModelCheckpoint, EarlyStopping, Callback\n",
    "\n",
    "import matplotlib.pyplot as plt\n",
    "from ml4h.TensorMap import TensorMap, Interpretation\n",
    "\n",
    "drug_folder = 'split_drugs'\n",
    "drug_folder = 'split_small_test_all'\n",
    "\n",
    "preprocess_model = \"https://tfhub.dev/tensorflow/bert_en_uncased_preprocess/3\"\n",
    "\n",
    "#base_model = \"https://tfhub.dev/tensorflow/bert_en_uncased_L-12_H-768_A-12/3\"\n",
    "base_model = \"https://tfhub.dev/google/experts/bert/wiki_books/sst2/2\"\n",
    "\n",
    "tf.get_logger().setLevel('ERROR')\n",
    "\n",
    "\n",
    "receptors = ['5_ht2a', '5_ht2c', '5_ht2b', '5_ht1a', '5_ht1b', '5_ht1d', '5_ht1e', '5_ht1f', '5_ht3', '5_ht5a', \n",
    "             '5_ht6', '5_ht7', 'dopamine_d1', 'dopamine_d2', 'dopamine_d3', 'dopamine_d4', 'dopamine_d5', \n",
    "             'adrenergic_alpha1a', 'adrenergic_alpha1b', 'adrenergic_alpha2a', 'adrenergic_alpha2b', \n",
    "             'adrenergic_beta1', 'adrenergic_beta2', 'sert', 'dat', 'net', 'imidazoline_1', 'sigma_1', 'sigma_2', \n",
    "             'dor', 'kor', 'mor', 'm1', 'm2', 'm3', 'm4', 'm5', 'h1', 'h2', 'h3', 'h4', 'calcium_channel', 'nmda',\n",
    "             'cb1', 'cb2', 'glutamate_ampa', 'gaba_a', 'gaba_b', 'dopamine_d2_long', 'dopamine_d2_short',\n",
    "             'sodium_channel', 'taar1', 'substance_p', 'paf_platelet_activating_factor', 'prostaglandin_e3', \n",
    "             'prostaglandin_e4', 'herg', 'monoamine_oxidase_a', 'monoamine_oxidase_b', 'cholecystokinin_a', \n",
    "             'cholecystokinin_b']\n",
    "\n",
    "tags = {'Small_Group': 'tag_0', 'General': 'tag_1', 'First_Times': 'tag_2', 'Alone': 'tag_3', \n",
    "        'Difficult_Experiences': 'tag_4', 'Glowing_Experiences': 'tag_5', 'Retrospective_Summary': 'tag_6', \n",
    "        'Various': 'tag_7', 'Unknown_Context': 'tag_8', 'Mystical_Experiences': 'tag_9', 'Health_Problems': \n",
    "        'tag_10', 'Combinations': 'tag_11', 'Not_Applicable': 'tag_12', 'Bad_Trips': 'tag_13', \n",
    "        'Hangover_Days_After': 'tag_14', 'Entities_Beings': 'tag_15', 'Music_Discussion': 'tag_16', \n",
    "        'Addiction_Habituation': 'tag_17', 'Post_Trip_Problems': 'tag_18', 'Nature_Outdoors': 'tag_19', \n",
    "        'Relationships': 'tag_20', 'Depression': 'tag_21', 'Therapeutic_Intent_or_Outcome': 'tag_22', \n",
    "        'Overdose': 'tag_23', 'Medical_Use': 'tag_24', 'Sex_Discussion': 'tag_25', \n",
    "        'Train_Wrecks_Trip_Disasters': 'tag_26', 'Guides_Sitters': 'tag_27', 'Rave_Dance_Event': 'tag_28', \n",
    "        'Preparation_Recipes': 'tag_29', 'Festival_Lg_Crowd': 'tag_30', 'Health_Benefits': 'tag_31', \n",
    "        'Large_Group': 'tag_32', 'Multi-Day_Experience': 'tag_33', 'Club_Bar': 'tag_34', \n",
    "        'What_Was_in_That': 'tag_35', 'Personal_Preparation': 'tag_36', 'HPPD_Lasting_Visuals': 'tag_37', \n",
    "        'Families': 'tag_38', 'Second_Hand_Report': 'tag_39', 'Loss_of_Magic': 'tag_40', 'Hospital': 'tag_41', \n",
    "        'Public_Space': 'tag_42', 'School': 'tag_43', 'Poetry': 'tag_44', 'Performance_Enhancement': 'tag_45', \n",
    "        'Large_Party': 'tag_46', 'Group_Ceremony': 'tag_47', 'Workplace': 'tag_48', \n",
    "        'Cultivation_Synthesis': 'tag_49', 'Pregnancy_Baby': 'tag_50', 'Military': 'tag_51'}\n",
    "\n",
    "itags = {v: k.replace('(', '').replace(')', '').replace('/', '') for k, v in tags.items()}\n",
    "ctags = {v: int(k.replace('tag_', '')) for k, v in itags.items()}"
   ]
  },
  {
   "cell_type": "code",
   "execution_count": null,
   "id": "ca13b75e",
   "metadata": {},
   "outputs": [],
   "source": [
    "def process_df(text_csv, require_sex=False, require_age=False, \n",
    "               set_psychoactive=None, set_ligand=None, set_drug=None):\n",
    "    df = pd.read_csv(text_csv)\n",
    "    if require_age:\n",
    "        df = df[df.age != 'Not Given']\n",
    "    if require_sex:\n",
    "        df = df[df.sex_int.notna()]\n",
    "    df = df[df.text.notna()]\n",
    "    \n",
    "    if set_psychoactive:\n",
    "        df['psychoactive_class_int'] = set_psychoactive\n",
    "    else:\n",
    "        df.psychoactive_class = df.psychoactive_class.apply(lambda x: x.strip())\n",
    "        psychoactive2class = {d:i for i,d in enumerate(df.psychoactive_class.unique())}\n",
    "        df['psychoactive_class_int'] = [psychoactive2class[d] for d in df.psychoactive_class]\n",
    "    \n",
    "    if set_ligand:\n",
    "        df['ligand_chemical_int'] = set_ligand\n",
    "    else:\n",
    "        ligand_chemical2class = {d:i for i,d in enumerate(df.ligand_chemical_class.unique())}\n",
    "        df['ligand_chemical_int'] = [ligand_chemical2class[d] for d in df.ligand_chemical_class]        \n",
    "    \n",
    "    if set_drug:\n",
    "        df['drug_class'] = set_drug\n",
    "    else:\n",
    "        drug2class = {d:i for i,d in enumerate(df.drug.unique())}\n",
    "        df['drug_class'] = [drug2class[d] for d in df.drug]\n",
    "        \n",
    "    df[[f'tag_{i}' for i in range(52) ]] = df[[f'tag_{i}' for i in range(52) ]].fillna(0)\n",
    "    df[receptors] = df[receptors].astype(float)  \n",
    "    return df\n",
    "\n",
    "heroin_df = process_df('test_heroin_meta_data.csv', set_psychoactive=9, set_ligand=3, set_drug=43)\n",
    "heroin_df.to_csv('heroin_to_test.csv', index=False)\n",
    "heroin_ds = make_dataset('heroin_to_test.csv', ['text'], output_cols)"
   ]
  },
  {
   "cell_type": "code",
   "execution_count": null,
   "id": "a0f806c4",
   "metadata": {},
   "outputs": [],
   "source": [
    "df = process_df(f'./all_drugs_v2022_04_26_meta_data.csv')"
   ]
  },
  {
   "cell_type": "code",
   "execution_count": null,
   "id": "3a1fc9dd",
   "metadata": {},
   "outputs": [],
   "source": [
    "heroin_df = process_df('test_heroin_meta_data.csv', set_psychoactive=9, set_ligand=3, set_drug=43)\n",
    "heroin_df.to_csv('heroin_to_test.csv', index=False)\n",
    "heroin_ds = make_dataset('heroin_to_test.csv', ['text'], output_cols)"
   ]
  },
  {
   "cell_type": "code",
   "execution_count": null,
   "id": "0e97766e",
   "metadata": {},
   "outputs": [],
   "source": [
    "df = pd.read_csv(f'./all_drugs_v2022_04_26_meta_data.csv')\n",
    "\n",
    "# df = df[df.age != 'Not Given']\n",
    "# df = df[df.sex_int.notna()]\n",
    "df = df[df.text.notna()]\n",
    "\n",
    "df.psychoactive_class = df.psychoactive_class.apply(lambda x: x.strip())\n",
    "\n",
    "drug2class = {d:i for i,d in enumerate(df.drug.unique())}\n",
    "psychoactive2class = {d:i for i,d in enumerate(df.psychoactive_class.unique())}\n",
    "ligand_chemical2class = {d:i for i,d in enumerate(df.ligand_chemical_class.unique())}\n",
    "class2weight = {i:5*(len(df)/len(df[df.drug==d])) for i,d in enumerate(df.drug.unique())}\n",
    "print(psychoactive2class)\n",
    "df['drug_class'] = [drug2class[d] for d in df.drug]\n",
    "df['psychoactive_class_int'] = [psychoactive2class[d] for d in df.psychoactive_class]\n",
    "df['ligand_chemical_int'] = [ligand_chemical2class[d] for d in df.ligand_chemical_class]\n",
    "df[[f'tag_{i}' for i in range(52) ]] = df[[f'tag_{i}' for i in range(52) ]].fillna(0)\n",
    "\n",
    "\n",
    "# train = df.sample(frac = 0.8)\n",
    "# test = df.drop(train.index).sample(frac = 0.5)\n",
    "# validate = df.drop(train.index).drop(test.index)\n",
    "\n",
    "df[df.set=='train'].to_csv('train.csv', index=False)\n",
    "df[df.set=='valid'].to_csv('valid.csv', index=False)\n",
    "df[df.set=='test'].to_csv('test.csv', index=False)\n",
    "\n",
    "tags = {'Small_Group': 'tag_0', 'General': 'tag_1', 'First_Times': 'tag_2', 'Alone': 'tag_3', 'Difficult_Experiences': 'tag_4', 'Glowing_Experiences': 'tag_5', 'Retrospective_Summary': 'tag_6', 'Various': 'tag_7', 'Unknown_Context': 'tag_8', 'Mystical_Experiences': 'tag_9', 'Health_Problems': 'tag_10', 'Combinations': 'tag_11', 'Not_Applicable': 'tag_12', 'Bad_Trips': 'tag_13', 'Hangover_Days_After': 'tag_14', 'Entities_Beings': 'tag_15', 'Music_Discussion': 'tag_16', 'Addiction_Habituation': 'tag_17', 'Post_Trip_Problems': 'tag_18', 'Nature_Outdoors': 'tag_19', 'Relationships': 'tag_20', 'Depression': 'tag_21', 'Therapeutic_Intent_or_Outcome': 'tag_22', 'Overdose': 'tag_23', 'Medical_Use': 'tag_24', 'Sex_Discussion': 'tag_25', 'Train_Wrecks_Trip_Disasters': 'tag_26', 'Guides_Sitters': 'tag_27', 'Rave_Dance_Event': 'tag_28', 'Preparation_Recipes': 'tag_29', 'Festival_Lg_Crowd': 'tag_30', 'Health_Benefits': 'tag_31', 'Large_Group': 'tag_32', 'Multi-Day_Experience': 'tag_33', 'Club_Bar': 'tag_34', 'What_Was_in_That': 'tag_35', 'Personal_Preparation': 'tag_36', 'HPPD_Lasting_Visuals': 'tag_37', 'Families': 'tag_38', 'Second_Hand_Report': 'tag_39', 'Loss_of_Magic': 'tag_40', 'Hospital': 'tag_41', 'Public_Space': 'tag_42', 'School': 'tag_43', 'Poetry': 'tag_44', 'Performance_Enhancement': 'tag_45', 'Large_Party': 'tag_46', 'Group_Ceremony': 'tag_47', 'Workplace': 'tag_48', 'Cultivation_Synthesis': 'tag_49', 'Pregnancy_Baby': 'tag_50', 'Military': 'tag_51'}\n",
    "itags = {v: k.replace('(', '').replace(')', '').replace('/', '') for k, v in tags.items()}\n",
    "ctags = {v: int(k.replace('tag_', '')) for k, v in itags.items()}\n",
    "\n",
    "receptors = ['5_ht2a', '5_ht2c', '5_ht2b', '5_ht1a', '5_ht1b', '5_ht1d', '5_ht1e', '5_ht1f', '5_ht3', '5_ht5a', '5_ht6', '5_ht7', 'dopamine_d1', 'dopamine_d2', 'dopamine_d3', 'dopamine_d4', 'dopamine_d5', 'adrenergic_alpha1a', 'adrenergic_alpha1b', 'adrenergic_alpha2a', 'adrenergic_alpha2b', 'adrenergic_beta1', 'adrenergic_beta2', 'sert', 'dat', 'net', 'imidazoline_1', 'sigma_1', 'sigma_2', 'dor', 'kor', 'mor', 'm1', 'm2', 'm3', 'm4', 'm5', 'h1', 'h2', 'h3', 'h4', 'calcium_channel', 'nmda', 'cb1', 'cb2', 'glutamate_ampa', 'gaba_a', 'gaba_b', 'dopamine_d2_long', 'dopamine_d2_short', 'sodium_channel', 'taar1', 'substance_p', 'paf_platelet_activating_factor', 'prostaglandin_e3', 'prostaglandin_e4', 'herg', 'monoamine_oxidase_a', 'monoamine_oxidase_b', 'cholecystokinin_a', 'cholecystokinin_b']\n",
    "df[receptors] = df[receptors].astype(float)"
   ]
  },
  {
   "cell_type": "code",
   "execution_count": null,
   "id": "bdd074d9",
   "metadata": {},
   "outputs": [],
   "source": [
    "len(df.ligand_chemical_class.value_counts())"
   ]
  },
  {
   "cell_type": "code",
   "execution_count": null,
   "id": "5e505411",
   "metadata": {},
   "outputs": [],
   "source": [
    "drug2class"
   ]
  },
  {
   "cell_type": "code",
   "execution_count": null,
   "id": "4b7fc356",
   "metadata": {},
   "outputs": [],
   "source": [
    "df.psychoactive_class.value_counts()"
   ]
  },
  {
   "cell_type": "code",
   "execution_count": null,
   "id": "3cb22d6f",
   "metadata": {},
   "outputs": [],
   "source": [
    "df['no_tags'] = df[[f'tag_{i}' for i in range(52) ]].sum(axis=1)\n",
    "print(df['no_tags'].value_counts())"
   ]
  },
  {
   "cell_type": "code",
   "execution_count": null,
   "id": "ccd973ea",
   "metadata": {},
   "outputs": [],
   "source": [
    "df.tag_0.value_counts()"
   ]
  },
  {
   "cell_type": "code",
   "execution_count": null,
   "id": "e4402f1e",
   "metadata": {},
   "outputs": [],
   "source": [
    "df.psychoactive_class_int.value_counts()"
   ]
  },
  {
   "cell_type": "code",
   "execution_count": null,
   "id": "c2dad066",
   "metadata": {},
   "outputs": [],
   "source": [
    "output_cols = [ 'psychoactive_class_int', 'ligand_chemical_int', 'drug_class', 'sex_int']\n",
    "output_cols += [f'tag_{i}' for i in range(52)]\n",
    "\n",
    "tensor_maps_out = []\n",
    "for oc in output_cols:\n",
    "    if 'drug_class' == oc:\n",
    "        tensor_maps_out.append(TensorMap(f'{oc}', Interpretation.CATEGORICAL, shape=(1,),\n",
    "                                         loss=tf.keras.losses.SparseCategoricalCrossentropy(from_logits=True),\n",
    "                                         metrics=[tf.metrics.SparseCategoricalAccuracy()],\n",
    "                                         channel_map={f'drug_{d}': v for d,v in drug2class.items()}))\n",
    "    elif 'psychoactive_class_int' == oc:\n",
    "        tensor_maps_out.append(TensorMap(f'{oc}', Interpretation.CATEGORICAL, shape=(1,),\n",
    "                                         loss=tf.keras.losses.SparseCategoricalCrossentropy(from_logits=True),\n",
    "                                         metrics=[tf.metrics.SparseCategoricalAccuracy()],\n",
    "                                         channel_map={f'{d}': v for d,v in psychoactive2class.items()}))\n",
    "    elif 'ligand_chemical_int' == oc:\n",
    "        tensor_maps_out.append(TensorMap(f'{oc}', Interpretation.CATEGORICAL, shape=(1,),\n",
    "                                         loss=tf.keras.losses.SparseCategoricalCrossentropy(from_logits=True),\n",
    "                                         metrics=[tf.metrics.SparseCategoricalAccuracy()],\n",
    "                                         channel_map={f'{d}': v for d,v in ligand_chemical2class.items()}))        \n",
    "    elif 'tag_' in oc:\n",
    "        tensor_maps_out.append(TensorMap(f'{oc}', Interpretation.CATEGORICAL, shape=(1,), \n",
    "                                         loss=tf.keras.losses.SparseCategoricalCrossentropy(from_logits=True),\n",
    "                                         metrics=[tf.metrics.SparseCategoricalAccuracy()],\n",
    "                                         channel_map={f'no_{itags[oc]}': 0, f'{itags[oc]}': 1}))\n",
    "    elif 'age' == oc:\n",
    "        tensor_maps_out.append(TensorMap(f'{oc}', Interpretation.CONTINUOUS, shape=(1,),\n",
    "                                         loss=tf.keras.losses.MeanSquaredError(),\n",
    "                                         metrics=[tf.metrics.MeanAbsoluteError()],))\n",
    "    elif oc in receptors:\n",
    "        tensor_maps_out.append(TensorMap(f'{oc}', Interpretation.CONTINUOUS, shape=(1,),\n",
    "                                         loss=tf.keras.losses.LogCosh(),\n",
    "                                         metrics=[tf.metrics.MeanAbsoluteError()],))\n",
    "    else:\n",
    "        tensor_maps_out.append(TensorMap(f'{oc}', Interpretation.CATEGORICAL, shape=(1,), \n",
    "                                         loss=tf.keras.losses.SparseCategoricalCrossentropy(from_logits=True),\n",
    "                                         metrics=[tf.metrics.SparseCategoricalAccuracy()],\n",
    "                                         channel_map={f'no_{oc}':0, f'{oc}':1}))\n",
    "        \n",
    "def make_dataset(csv, in_cols, out_cols, batch_size=32):\n",
    "    i = tf.data.experimental.make_csv_dataset(csv, select_columns=in_cols, \n",
    "                                              batch_size=1, shuffle=False)\n",
    "    o = tf.data.experimental.make_csv_dataset(csv, select_columns=out_cols, \n",
    "                                              batch_size=1, shuffle=False)\n",
    "    ds = tf.data.Dataset.zip((i,o))\n",
    "    ds = ds.shuffle(10000)\n",
    "    ds = ds.unbatch().batch(batch_size)\n",
    "    \n",
    "    ds = ds.prefetch(tf.data.experimental.AUTOTUNE)\n",
    "    return ds\n",
    "\n",
    "train_ds = make_dataset('train.csv', ['text'], output_cols)\n",
    "valid_ds = make_dataset('valid.csv', ['text'], output_cols)\n",
    "test_ds = make_dataset('test.csv', ['text'], output_cols)"
   ]
  },
  {
   "cell_type": "code",
   "execution_count": null,
   "id": "241e558d",
   "metadata": {},
   "outputs": [],
   "source": [
    "from ml4h.TensorMap import TensorMap, Interpretation"
   ]
  },
  {
   "cell_type": "code",
   "execution_count": null,
   "id": "96a4722e",
   "metadata": {},
   "outputs": [],
   "source": [
    "for feature_batch, label in test_ds.take(1):\n",
    "    print(f\"label {label}\")\n",
    "    for key, value in feature_batch.items():\n",
    "        print(f\"\\n\\n\\n Key is  {key:20s}: {value[0]}\")"
   ]
  },
  {
   "cell_type": "code",
   "execution_count": null,
   "id": "d6f6bdcf",
   "metadata": {},
   "outputs": [],
   "source": [
    "n_drugs = len(drug2class)\n",
    "dropout_rate = 0.2\n",
    "\n",
    "text_input = tf.keras.layers.Input(shape=(), dtype=tf.string)\n",
    "bert_preprocess_model = hub.KerasLayer(\n",
    "    preprocess_model)\n",
    "\n",
    "bert_model = hub.KerasLayer(\n",
    "    base_model,\n",
    "    trainable=True)\n",
    "\n",
    "text_test = ['this is such an amazing movie!']\n",
    "text_preprocessed = bert_preprocess_model(text_test)\n",
    "\n",
    "print(f'Keys       : {list(text_preprocessed.keys())}')\n",
    "print(f'Shape      : {text_preprocessed[\"input_word_ids\"].shape}')\n",
    "print(f'Word Ids   : {text_preprocessed[\"input_word_ids\"][0, :12]}')\n",
    "print(f'Input Mask : {text_preprocessed[\"input_mask\"][0, :12]}')\n",
    "print(f'Type Ids   : {text_preprocessed[\"input_type_ids\"][0, :12]}')\n",
    "\n",
    "bert_results = bert_model(text_preprocessed)\n",
    "\n",
    "print(f'Pooled Outputs Shape:{bert_results[\"pooled_output\"].shape}')\n",
    "print(f'Pooled Outputs Values:{bert_results[\"pooled_output\"][0, :12]}')\n",
    "print(f'Sequence Outputs Shape:{bert_results[\"sequence_output\"].shape}')\n",
    "print(f'Sequence Outputs Values:{bert_results[\"sequence_output\"][0, :12]}')\n",
    "\n",
    "# def weighted_scce(weights):\n",
    "#     def my_loss(y_true, y_pred):\n",
    "#         sample_weights = [weights[int(y_true[i].numpy())] for i in 33]\n",
    "#         scce = tf.keras.losses.SparseCategoricalCrossentropy(from_logits=True)\n",
    "#         return scce(y_true, y_pred, sample_weights=sample_weights)\n",
    "#     return my_loss\n",
    "\n",
    "def build_classifier_model(tfhub_handle_preprocess, tfhub_handle_encoder, tensor_maps_out):\n",
    "    text_input = tf.keras.layers.Input(shape=(), dtype=tf.string, name='text')\n",
    "    preprocessing_layer = hub.KerasLayer(tfhub_handle_preprocess, name='preprocessing')\n",
    "    encoder_inputs = preprocessing_layer(text_input)\n",
    "    encoder = hub.KerasLayer(tfhub_handle_encoder, trainable=True, name='BERT_encoder')\n",
    "    outputs = encoder(encoder_inputs)\n",
    "    net = outputs['pooled_output']\n",
    "    net = tf.keras.layers.Dropout(dropout_rate)(net)\n",
    "    #net = tf.keras.layers.Dense(256, activation='swish')(net)\n",
    "    #net = tf.keras.layers.Dropout(dropout_rate)(net)\n",
    "    outputs = []\n",
    "    metrics = []\n",
    "    losses = []    \n",
    "    for otm in tensor_maps_out:\n",
    "        if otm.is_categorical():\n",
    "            outputs.append(tf.keras.layers.Dense(len(otm.channel_map), activation=None, name=otm.name)(net))\n",
    "            losses.append(tf.keras.losses.SparseCategoricalCrossentropy(from_logits=True))\n",
    "            metrics.append(tf.metrics.SparseCategoricalAccuracy(name=f'{otm.name}_SparseCategoricalAccuracy_met'))\n",
    "        elif otm.is_continuous():\n",
    "            outputs.append(tf.keras.layers.Dense(1, activation='linear', name=otm.name)(net))\n",
    "            losses.append(tf.keras.losses.MeanSquaredError()) \n",
    "            metrics.append(tf.metrics.MeanAbsoluteError(name=f'{otm.name}_mae'))\n",
    "    return tf.keras.Model(text_input, outputs), losses, metrics\n",
    "\n",
    "classifier_model, losses, metrics = build_classifier_model(preprocess_model, base_model, tensor_maps_out)\n",
    "bert_raw_result = classifier_model(tf.constant(text_test))\n",
    "print(tf.sigmoid(bert_raw_result[-1]))\n",
    "tf.keras.utils.plot_model(classifier_model)\n",
    "metrics = {tm.name: tm.metrics for tm in tensor_maps_out}\n",
    "losses = [tm.loss for tm in tensor_maps_out]\n",
    "#loss = tf.keras.losses.SparseCategoricalCrossentropy(from_logits=True)\n",
    "#metrics = tf.metrics.SparseCategoricalAccuracy()"
   ]
  },
  {
   "cell_type": "code",
   "execution_count": null,
   "id": "908e24d0",
   "metadata": {},
   "outputs": [],
   "source": [
    "epochs = 14\n",
    "batch_size = 32\n",
    "steps_per_epoch = len(df[df.set=='train'])//batch_size\n",
    "num_train_steps = steps_per_epoch * epochs\n",
    "num_warmup_steps = int(0.1*num_train_steps)\n",
    "print(f'warm up {steps_per_epoch}  and {num_train_steps}')\n",
    "init_lr = 1e-5\n",
    "optimizer = optimization.create_optimizer(init_lr=init_lr,\n",
    "                                          num_train_steps=num_train_steps,\n",
    "                                          num_warmup_steps=num_warmup_steps,\n",
    "                                          optimizer_type='adamw')\n",
    "\n",
    "\n",
    "classifier_model.compile(optimizer=optimizer, loss=losses, metrics=metrics)"
   ]
  },
  {
   "cell_type": "code",
   "execution_count": null,
   "id": "09db3753",
   "metadata": {},
   "outputs": [],
   "source": [
    "classifier_model = tf.keras.models.load_model(f'./models/bert_psychoactive_ligand_drug_sex_tag_classifier', \n",
    "                                              custom_objects={'AdamWeightDecay':optimizer})\n",
    "classifier_model.summary()"
   ]
  },
  {
   "cell_type": "code",
   "execution_count": null,
   "id": "b5c22f4c",
   "metadata": {},
   "outputs": [],
   "source": [
    "len(df[df.set=='test'])"
   ]
  },
  {
   "cell_type": "code",
   "execution_count": null,
   "id": "a3058840",
   "metadata": {},
   "outputs": [],
   "source": [
    "from collections import defaultdict\n",
    "predictions = defaultdict(list)\n",
    "truths = defaultdict(list)\n",
    "for text, labels in test_ds.as_numpy_iterator():\n",
    "    for l, otm in zip(labels, tensor_maps_out):\n",
    "        if otm.is_categorical():\n",
    "            truths[l].extend(map(int, list(labels[l])))\n",
    "        else:\n",
    "            truths[l].extend(list(labels[l]))\n",
    "    p = classifier_model.predict(text)\n",
    "    if len(classifier_model.output_names) == 1:\n",
    "        p = [p]\n",
    "    for i,ot in enumerate(classifier_model.output_names):\n",
    "        predictions[ot].extend(list(p[i]))\n",
    "        \n",
    "    if len(truths[l]) >= len(df[df.set=='test']):\n",
    "        break"
   ]
  },
  {
   "cell_type": "code",
   "execution_count": null,
   "id": "78055175",
   "metadata": {},
   "outputs": [],
   "source": [
    "%matplotlib inline\n",
    "import matplotlib.pyplot as plt\n",
    "from ml4h.plots import plot_roc, subplot_rocs, plot_scatter, plot_precision_recall_per_class\n",
    "def make_one_hot(y, num_labels):\n",
    "    ohy = np.zeros((y.shape[-1], num_labels))\n",
    "    for i in range(0, y.shape[-1]):\n",
    "        ohy[i, int(y[i])] = 1.0\n",
    "    return ohy\n",
    "\n",
    "rocs = []\n",
    "perfs = {}\n",
    "for otm in tensor_maps_out:\n",
    "    if otm.is_categorical():\n",
    "        print(f' otm {otm} {np.array(predictions[otm.name]).shape}')\n",
    "        perfs[otm] = plot_precision_recall_per_class(np.array(predictions[otm.name]), \n",
    "                 make_one_hot(np.array(truths[otm.name]), len(otm.channel_map)), \n",
    "                 otm.channel_map, otm.name)\n",
    "        rocs.append((np.array(predictions[otm.name]), \n",
    "                     make_one_hot(np.array(truths[otm.name]), len(otm.channel_map)), \n",
    "                     otm.channel_map))\n",
    "    elif otm.is_continuous():\n",
    "        perfs[otm] = plot_scatter(np.array(predictions[otm.name]), np.array(truths[otm.name]), otm.name)\n",
    "subplot_rocs(rocs)"
   ]
  },
  {
   "cell_type": "code",
   "execution_count": null,
   "id": "69a037fd",
   "metadata": {},
   "outputs": [],
   "source": [
    "from collections import Counter\n",
    "c2c = {v: k for k, v in psychoactive2class.items()}\n",
    "hl = Counter(np.argmax(predictions['psychoactive_class_int'], axis = -1))\n",
    "for k in hl:\n",
    "    print(f'Drug {c2c[k]} has {hl[k]}')"
   ]
  },
  {
   "cell_type": "code",
   "execution_count": null,
   "id": "df5c30d9",
   "metadata": {},
   "outputs": [],
   "source": [
    "c2c = {v: k for k, v in drug2class.items()}\n",
    "hl = Counter(np.argmax(predictions['drug_class'], axis = -1))\n",
    "for k in hl:\n",
    "    print(f'Drug {c2c[k]} has {hl[k]}')"
   ]
  },
  {
   "cell_type": "code",
   "execution_count": null,
   "id": "54ac62bd",
   "metadata": {},
   "outputs": [],
   "source": [
    "c2c = {v: k for k, v in ligand_chemical2class.items()}\n",
    "hl = Counter(np.argmax(predictions['ligand_chemical_int'], axis = -1))\n",
    "for k in hl:\n",
    "    print(f'Ligand {c2c[k]} has {hl[k]}')"
   ]
  },
  {
   "cell_type": "code",
   "execution_count": null,
   "id": "3f4fab0d",
   "metadata": {},
   "outputs": [],
   "source": [
    "from collections import defaultdict\n",
    "predictions = defaultdict(list)\n",
    "truths = defaultdict(list)\n",
    "for text, labels in heroin_ds.as_numpy_iterator():\n",
    "    for l in labels:\n",
    "        truths[l].extend(map(int, list(labels[l])))\n",
    "    p = classifier_model.predict(text)\n",
    "    if len(classifier_model.output_names) == 1:\n",
    "        p = [p]\n",
    "    for i,ot in enumerate(classifier_model.output_names):\n",
    "        predictions[ot].extend(list(p[i]))\n",
    "        \n",
    "    if len(truths[l]) >= len(heroin_df):\n",
    "        break"
   ]
  },
  {
   "cell_type": "code",
   "execution_count": null,
   "id": "1360d20f",
   "metadata": {},
   "outputs": [],
   "source": [
    "def confusion_heatmap(confusion, labels, cutoff=0.001, fmt='2d', figsize=(24, 15), \n",
    "                      title='Confusion Matrix'):\n",
    "    fig, ax = plt.subplots(figsize=figsize, dpi=300)\n",
    "    ax = sb.heatmap(confusion, cmap='Blues', ax=ax, cbar=False)\n",
    "    ax = sb.heatmap(confusion, mask=confusion < cutoff, cmap='Blues', \n",
    "                    annot=True, fmt=fmt, cbar_kws={\"shrink\": .8, 'label': 'Counts'}, ax=ax)\n",
    "\n",
    "    ax.set_title(title)\n",
    "    ax.set_xticks(np.arange(confusion.shape[0]) + 0.5)\n",
    "    ax.set_yticks(np.arange(confusion.shape[0]) + 0.5)\n",
    "\n",
    "    # update the desired text annotations\n",
    "#     for text in ax.texts:\n",
    "#         if text.get_text() == '0':\n",
    "#             text.set_text('.')\n",
    "    ax.set_xticklabels(labels=labels, ha='right', rotation=30)\n",
    "    ax.set_yticklabels(labels=labels, rotation=0)\n",
    "    plt.tight_layout()\n",
    "    figure_path='./confusion_heatmap.png'\n",
    "    if not os.path.exists(os.path.dirname(figure_path)):\n",
    "        os.makedirs(os.path.dirname(figure_path))\n",
    "    plt.savefig(figure_path)\n",
    "    plt.show()\n",
    "    "
   ]
  },
  {
   "cell_type": "code",
   "execution_count": null,
   "id": "dbada93e",
   "metadata": {},
   "outputs": [],
   "source": [
    "tm = tensor_maps_out[0]\n",
    "pmax = np.argmax(np.array(predictions[tm.name]), axis=-1)\n",
    "\n",
    "pmax.shape\n",
    "\n",
    "confusion = np.zeros((len(tm.channel_map), len(tm.channel_map)), dtype=np.int32)\n",
    "for i in range(len(tm.channel_map)):\n",
    "    for j in range(len(tm.channel_map)):\n",
    "        confusion[i,j] += sum((pmax==j) * (np.array(truths[tm.name]) == i))\n",
    "        \n",
    "\n",
    "# pmax == 24\n",
    "\n",
    "# truths[tm.name] == 24\n",
    "\n",
    "# confusion\n",
    "\n",
    "# np.array(truths[tm.name]) == 24\n",
    "\n",
    "import seaborn as sb\n",
    "%matplotlib inline\n",
    "import matplotlib.pyplot as plt\n",
    "from io import StringIO\n",
    "\n",
    "labels = list(tm.channel_map.keys())\n",
    "confusion_heatmap(confusion, labels, figsize=(8, 5), title='Drug Class Confusion Matrix')\n",
    "\n",
    "confusion_r = np.zeros((len(tm.channel_map), len(tm.channel_map)))\n",
    "for i in range(len(tm.channel_map)):\n",
    "    for j in range(len(tm.channel_map)):\n",
    "        confusion_r[i,j] += sum((pmax==j) * (np.array(truths[tm.name]) == i)) / sum(np.array(truths[tm.name]) == i)\n",
    "\n",
    "confusion_heatmap(confusion_r, labels, fmt=\".2f\", figsize=(8, 5), title='Drug Class Confusion Matrix')  "
   ]
  },
  {
   "cell_type": "code",
   "execution_count": null,
   "id": "d18c4ff7",
   "metadata": {},
   "outputs": [],
   "source": [
    "tm = tensor_maps_out[1]\n",
    "pmax = np.argmax(np.array(predictions[tm.name]), axis=-1)\n",
    "\n",
    "pmax.shape\n",
    "\n",
    "confusion = np.zeros((len(tm.channel_map), len(tm.channel_map)), dtype=np.int32)\n",
    "for i in range(len(tm.channel_map)):\n",
    "    for j in range(len(tm.channel_map)):\n",
    "        confusion[i,j] += sum((pmax==j) * (np.array(truths[tm.name]) == i))\n",
    "\n",
    "\n",
    "labels = list(tm.channel_map.keys())\n",
    "confusion_heatmap(confusion, labels, figsize=(10, 6))\n",
    "\n",
    "confusion_r = np.zeros((len(tm.channel_map), len(tm.channel_map)))\n",
    "for i in range(len(tm.channel_map)):\n",
    "    for j in range(len(tm.channel_map)):\n",
    "        confusion_r[i,j] += sum((pmax==j) * (np.array(truths[tm.name]) == i)) / sum(np.array(truths[tm.name]) == i)\n",
    "\n",
    "confusion_heatmap(confusion_r, labels, fmt=\".2f\", figsize=(10, 6))  "
   ]
  },
  {
   "cell_type": "code",
   "execution_count": null,
   "id": "bc884db6",
   "metadata": {},
   "outputs": [],
   "source": [
    "tm = tensor_maps_out[2]\n",
    "pmax = np.argmax(np.array(predictions[tm.name]), axis=-1)\n",
    "\n",
    "pmax.shape\n",
    "\n",
    "confusion = np.zeros((len(tm.channel_map), len(tm.channel_map)), dtype=np.int32)\n",
    "for i in range(len(tm.channel_map)):\n",
    "    for j in range(len(tm.channel_map)):\n",
    "        confusion[i,j] += sum((pmax==j) * (np.array(truths[tm.name]) == i))\n",
    "labels = list(tm.channel_map.keys())\n",
    "confusion_heatmap(confusion, labels, title='Drug Confusion Matrix') "
   ]
  },
  {
   "cell_type": "code",
   "execution_count": null,
   "id": "d0af0c49",
   "metadata": {},
   "outputs": [],
   "source": [
    "tm = tensor_maps_out[2]\n",
    "pmax = np.argmax(np.array(predictions[tm.name]), axis=-1)\n",
    "\n",
    "pmax.shape\n",
    "\n",
    "confusion = np.zeros((len(tm.channel_map), len(tm.channel_map)), dtype=np.int32)\n",
    "for i in range(len(tm.channel_map)):\n",
    "    for j in range(len(tm.channel_map)):\n",
    "        confusion[i,j] += sum((pmax==j) * (np.array(truths[tm.name]) == i))\n",
    "confusion_heatmap(confusion) "
   ]
  },
  {
   "cell_type": "code",
   "execution_count": null,
   "id": "5a8e4257",
   "metadata": {},
   "outputs": [],
   "source": [
    "tm = tensor_maps_out[2]\n",
    "pmax = np.argmax(np.array(predictions[tm.name]), axis=-1)\n",
    "\n",
    "pmax.shape\n",
    "\n",
    "confusion = np.zeros((len(tm.channel_map), len(tm.channel_map)), dtype=np.int32)\n",
    "for i in range(len(tm.channel_map)):\n",
    "    for j in range(len(tm.channel_map)):\n",
    "        confusion[i,j] += sum((pmax==j) * (np.array(truths[tm.name]) == i))\n",
    "confusion_heatmap(confusion)      "
   ]
  },
  {
   "cell_type": "code",
   "execution_count": null,
   "id": "adeea1aa",
   "metadata": {},
   "outputs": [],
   "source": [
    "confusion_r = np.zeros((len(tm.channel_map), len(tm.channel_map)))\n",
    "for i in range(len(tm.channel_map)):\n",
    "    for j in range(len(tm.channel_map)):\n",
    "        confusion_r[i,j] += sum((pmax==j) * (np.array(truths[tm.name]) == i)) / sum(np.array(truths[tm.name]) == i)\n",
    "\n",
    "confusion_heatmap(confusion_r, fmt=\".2f\")         "
   ]
  },
  {
   "cell_type": "code",
   "execution_count": null,
   "id": "cd1b5e4a",
   "metadata": {},
   "outputs": [],
   "source": [
    "len(tensor_maps_out[0].channel_map)"
   ]
  },
  {
   "cell_type": "code",
   "execution_count": null,
   "id": "33dea19a",
   "metadata": {},
   "outputs": [],
   "source": [
    "perfs"
   ]
  },
  {
   "cell_type": "code",
   "execution_count": null,
   "id": "9d7ac1d2",
   "metadata": {},
   "outputs": [],
   "source": [
    "perfs"
   ]
  },
  {
   "cell_type": "code",
   "execution_count": null,
   "id": "c9c1bd97",
   "metadata": {},
   "outputs": [],
   "source": [
    "import math\n",
    "tag_auc = []\n",
    "for tm in perfs:\n",
    "    if 'tag' in tm.name:\n",
    "        #print(f'{itags[tm.name]}, {perfs[tm][itags[tm.name]]} ')\n",
    "        p = perfs[tm][itags[tm.name]]\n",
    "        t = itags[tm.name]\n",
    "        if math.isnan(p):\n",
    "            continue\n",
    "        tag_auc.append((t, p))"
   ]
  },
  {
   "cell_type": "code",
   "execution_count": null,
   "id": "8b3e41a7",
   "metadata": {},
   "outputs": [],
   "source": [
    "tag_auc = sorted(tag_auc, key=lambda x: x[1])"
   ]
  },
  {
   "cell_type": "code",
   "execution_count": null,
   "id": "a0c2deb7",
   "metadata": {},
   "outputs": [],
   "source": [
    "tag_auc = [('Medical_Use', 0.952544387242243),\n",
    " ('Rave_Dance_Event', 0.9404877496959814),\n",
    " ('Poetry', 0.919463505926388),\n",
    " ('Addiction_Habituation', 0.8818512946004521),\n",
    " ('Health_Benefits', 0.8463797692990239),\n",
    " ('Loss_of_Magic', 0.8341943957968476),\n",
    " ('Not_Applicable', 0.814232096584901),\n",
    " ('Alone', 0.801082111968865),\n",
    " ('Preparation_Recipes', 0.7911125886524822),\n",
    " ('Relationships', 0.786775689912729),\n",
    " ('Retrospective_Summary', 0.7866495237237311),\n",
    " ('Club_Bar', 0.7858709960508994),\n",
    " ('Mystical_Experiences', 0.76840692629412),\n",
    " ('Unknown_Context', 0.7664176932777185),\n",
    " ('Small_Group', 0.7621865858796946),\n",
    " ('School', 0.7555041534409401),\n",
    " ('Festival_Lg_Crowd', 0.7520782461337283),\n",
    " ('Depression', 0.7436038388419342),\n",
    " ('First_Times', 0.741708831433602),\n",
    " ('Entities_Beings', 0.7378392880270876),\n",
    " ('Nature_Outdoors', 0.7303554866907693),\n",
    " ('Hospital', 0.7202772739051568),\n",
    " ('Performance_Enhancement', 0.7132642300470691),\n",
    " ('Public_Space', 0.7060791157649797),\n",
    " ('Therapeutic_Intent_or_Outcome', 0.6987281649086753),\n",
    " ('Combinations', 0.6972770583104073),\n",
    " ('What_Was_in_That', 0.6771832080849962),\n",
    " ('Train_Wrecks_Trip_Disasters', 0.6718617121799112),\n",
    " ('Health_Problems', 0.6515188989624958),\n",
    " ('Glowing_Experiences', 0.6414117808313058),\n",
    " ('Difficult_Experiences', 0.6376775952272582),\n",
    " ('Multi-Day_Experience', 0.6330706659888155),\n",
    " ('Various', 0.6315747002525838),\n",
    " ('Personal_Preparation', 0.6128389404971127),\n",
    " ('General', 0.6093155886094529),\n",
    " ('Bad_Trips', 0.6037562986715529),\n",
    " ('Large_Group', 0.5999464391252954),\n",
    " ('Music_Discussion', 0.5823361233115107),\n",
    " ('Guides_Sitters', 0.5775967327691466),\n",
    " ('Hangover_Days_After', 0.5742190488333545),\n",
    " ('Post_Trip_Problems', 0.569676289121946),\n",
    " ('Overdose', 0.5639120681920143),\n",
    " ('HPPD_Lasting_Visuals', 0.5518192744755245),\n",
    " ('Second_Hand_Report', 0.5382078798391248),\n",
    " ('Sex_Discussion', 0.5337256481827861),\n",
    " ('Group_Ceremony', 0.5138755980861244),\n",
    " ('Families', 0.5106063450347287),\n",
    " ('Workplace', 0.4897781644193128),\n",
    " ('Large_Party', 0.35978260869565215)]"
   ]
  },
  {
   "cell_type": "code",
   "execution_count": null,
   "id": "a750b9a6",
   "metadata": {},
   "outputs": [],
   "source": [
    "%matplotlib inline\n",
    "import matplotlib.pyplot as plt\n",
    "_ = plt.figure(figsize=(5, 11), dpi=300)\n",
    "plt.barh(range(len(tag_auc)), [t[1] for t in tag_auc])\n",
    "plt.axvline(0.5, linestyle='dashed', c='orange')\n",
    "plt.yticks(np.arange(len(tag_auc)), [t[0].replace('_', ' ') for t in tag_auc], ha='right')\n",
    "plt.ylabel('Erowid Meta Data Tags')\n",
    "plt.xlabel('Test Set ROC AUC')\n",
    "plt.box(False)\n",
    "\n",
    "# figure_path = f'results/tag_histogram_{title}.png'\n",
    "# if not os.path.exists(os.path.dirname(figure_path)):\n",
    "#     os.makedirs(os.path.dirname(figure_path))\n",
    "# plt.savefig(figure_path)"
   ]
  },
  {
   "cell_type": "code",
   "execution_count": null,
   "id": "ea2c8193",
   "metadata": {},
   "outputs": [],
   "source": [
    "_ = plt.figure(figsize=(5, 11), dpi=300)\n",
    "plt.barh(range(len(tag_auc)), [t[1] for t in tag_auc])\n",
    "plt.axvline(0.5, linestyle='dashed', c='orange')\n",
    "plt.yticks(np.arange(len(tag_auc)), [t[0].replace('_', ' ') for t in tag_auc], ha='right')\n",
    "plt.ylabel('Erowid Meta Data Tags')\n",
    "plt.xlabel('Test Set ROC AUC')\n",
    "plt.box(False)"
   ]
  },
  {
   "cell_type": "code",
   "execution_count": null,
   "id": "4f7c98dc",
   "metadata": {},
   "outputs": [],
   "source": [
    "from scipy.stats import pearsonr\n",
    "import seaborn as sb\n",
    "from sklearn.cluster import AgglomerativeClustering"
   ]
  },
  {
   "cell_type": "code",
   "execution_count": null,
   "id": "b4ec7485",
   "metadata": {},
   "outputs": [],
   "source": [
    "clusters"
   ]
  },
  {
   "cell_type": "code",
   "execution_count": null,
   "id": "849a6220",
   "metadata": {},
   "outputs": [],
   "source": [
    "confusion_r"
   ]
  },
  {
   "cell_type": "code",
   "execution_count": null,
   "id": "396e6fb4",
   "metadata": {},
   "outputs": [],
   "source": [
    "sorted_confuse = np.zeros(confusion_r.shape)\n",
    "cur_i = 0\n",
    "sorted_args = []\n",
    "previous_args = []\n",
    "for j in range(num_clusters):\n",
    "    for i,cur_c in enumerate(clusters):\n",
    "        if j == cur_c:\n",
    "            sorted_confuse[cur_i, :] = confusion_r[i, :]\n",
    "            sorted_args.append(i)\n",
    "            cur_i += 1"
   ]
  },
  {
   "cell_type": "code",
   "execution_count": null,
   "id": "5e61a71f",
   "metadata": {},
   "outputs": [],
   "source": [
    "sorted_confuse"
   ]
  },
  {
   "cell_type": "code",
   "execution_count": null,
   "id": "304706cf",
   "metadata": {},
   "outputs": [],
   "source": [
    "tm = tensor_maps_out[2]\n"
   ]
  },
  {
   "cell_type": "code",
   "execution_count": null,
   "id": "8ef15c61",
   "metadata": {},
   "outputs": [],
   "source": [
    "confusion_heatmap(confusion_r, fmt=\".2f\", figsize=(10, 6), title='Chemical Class Confusion Matrix') "
   ]
  },
  {
   "cell_type": "code",
   "execution_count": null,
   "id": "f405d357",
   "metadata": {},
   "outputs": [],
   "source": [
    "tm = tensor_maps_out[2]\n",
    "pmax = np.argmax(np.array(predictions[tm.name]), axis=-1)\n",
    "confusion_r = np.zeros((len(tm.channel_map), len(tm.channel_map)))\n",
    "for i in range(len(tm.channel_map)):\n",
    "    for j in range(len(tm.channel_map)):\n",
    "        confusion_r[i,j] += sum((pmax==j) * \n",
    "                                (np.array(truths[tm.name]) == i)) / sum(np.array(truths[tm.name]) == i)\n",
    "\n",
    "num_clusters = 6\n",
    "cluster = AgglomerativeClustering(n_clusters=num_clusters, affinity='euclidean', linkage='ward')\n",
    "clusters = cluster.fit_predict(confusion_r)\n",
    "print(clusters)\n"
   ]
  },
  {
   "cell_type": "code",
   "execution_count": null,
   "id": "83faabb7",
   "metadata": {},
   "outputs": [],
   "source": [
    "np.argsort(clusters)"
   ]
  },
  {
   "cell_type": "code",
   "execution_count": null,
   "id": "f3a17cb0",
   "metadata": {},
   "outputs": [],
   "source": [
    "sort_confusion = np.zeros(confusion_r.shape)\n",
    "cur_i = 0\n",
    "sort_labels = []\n",
    "idx2label = {v:k for k,v in tm.channel_map.items()} \n",
    "for i,j in enumerate(np.argsort(clusters)):\n",
    "    for ii,jj in enumerate(np.argsort(clusters)):\n",
    "        sort_confusion[i, ii] = confusion_r[j, jj]\n",
    "    sort_labels.append(f'Cluster:{clusters[j]}, {idx2label[j].replace(\"drug_\", \"\")}')\n",
    "print(sort_labels)"
   ]
  },
  {
   "cell_type": "code",
   "execution_count": null,
   "id": "2f76d71d",
   "metadata": {},
   "outputs": [],
   "source": [
    "confusion_heatmap(sort_confusion, sort_labels, fmt=\".2f\", title='Drug Confusion Matrix') "
   ]
  },
  {
   "cell_type": "code",
   "execution_count": null,
   "id": "49d1f3ca",
   "metadata": {},
   "outputs": [],
   "source": [
    "lb = pd.read_csv('split_32_all_drugs_v2022_04_22_meta_data.csv')"
   ]
  },
  {
   "cell_type": "code",
   "execution_count": null,
   "id": "9a494c55",
   "metadata": {},
   "outputs": [],
   "source": [
    "lb = lb[lb.set=='test'].sample(frac = 0.03)\n",
    "lb.to_csv('galen_to_label.csv', index=False)"
   ]
  },
  {
   "cell_type": "code",
   "execution_count": null,
   "id": "dafca8ae",
   "metadata": {},
   "outputs": [],
   "source": []
  }
 ],
 "metadata": {
  "kernelspec": {
   "display_name": "Python 3",
   "language": "python",
   "name": "python3"
  },
  "language_info": {
   "codemirror_mode": {
    "name": "ipython",
    "version": 3
   },
   "file_extension": ".py",
   "mimetype": "text/x-python",
   "name": "python",
   "nbconvert_exporter": "python",
   "pygments_lexer": "ipython3",
   "version": "3.6.9"
  }
 },
 "nbformat": 4,
 "nbformat_minor": 5
}
